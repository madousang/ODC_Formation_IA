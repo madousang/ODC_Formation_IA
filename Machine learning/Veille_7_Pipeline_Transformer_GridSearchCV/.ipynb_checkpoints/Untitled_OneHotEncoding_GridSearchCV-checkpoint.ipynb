{
 "cells": [
  {
   "cell_type": "markdown",
   "id": "ea35914c",
   "metadata": {},
   "source": [
    "##  Description du probleme"
   ]
  },
  {
   "cell_type": "markdown",
   "id": "36b88ea9",
   "metadata": {},
   "source": [
    "### -  Le dataset est celui que nous avons eu à utiliser dans le TP n°2 "
   ]
  },
  {
   "cell_type": "markdown",
   "id": "7e409ea0",
   "metadata": {},
   "source": [
    "* classification des apprenants en deux classes Admin / echec   : Classification "
   ]
  },
  {
   "cell_type": "markdown",
   "id": "047092e1",
   "metadata": {},
   "source": [
    "*  prediction du score des apprenants  Regression"
   ]
  },
  {
   "cell_type": "code",
   "execution_count": 1,
   "id": "594023af",
   "metadata": {},
   "outputs": [],
   "source": [
    "%matplotlib inline\n",
    "import numpy as np\n",
    "import pandas as pd\n",
    "import matplotlib.pyplot as plt\n",
    "from pandas.errors import ParserError\n",
    "\n",
    "from sklearn.linear_model import SGDRegressor\n",
    "from sklearn.linear_model import SGDClassifier\n",
    "from sklearn.preprocessing import OneHotEncoder\n",
    "from sklearn.model_selection import GridSearchCV\n",
    "from sklearn.model_selection import train_test_split\n",
    "\n",
    "import seaborn as sn\n",
    "\n",
    "from sklearn import metrics\n",
    "\n",
    "\n",
    "from TP_2_CLASS import DataProcessing\n",
    "\n",
    "csv_file_name = \"scorm_tracking_copy.csv\""
   ]
  },
  {
   "cell_type": "markdown",
   "id": "8dad89d3",
   "metadata": {},
   "source": [
    "# Preview"
   ]
  },
  {
   "cell_type": "code",
   "execution_count": 2,
   "id": "64019e89",
   "metadata": {},
   "outputs": [],
   "source": [
    "data = DataProcessing(chemin_fichier_csv=csv_file_name)  # une classe creer dans le TP2\n",
    "\n",
    "#data est un objet de la class DataProcessing qui contient les methode previsualiser les donnees"
   ]
  },
  {
   "cell_type": "markdown",
   "id": "0125ce4a",
   "metadata": {},
   "source": [
    "-   recuperation du dataset"
   ]
  },
  {
   "cell_type": "code",
   "execution_count": 3,
   "id": "d4148561",
   "metadata": {},
   "outputs": [],
   "source": [
    "dataset = data.getDataset()   # return le dataset / la base de donnee"
   ]
  },
  {
   "cell_type": "code",
   "execution_count": 4,
   "id": "ad0fe462",
   "metadata": {},
   "outputs": [
    {
     "data": {
      "text/html": [
       "<div>\n",
       "<style scoped>\n",
       "    .dataframe tbody tr th:only-of-type {\n",
       "        vertical-align: middle;\n",
       "    }\n",
       "\n",
       "    .dataframe tbody tr th {\n",
       "        vertical-align: top;\n",
       "    }\n",
       "\n",
       "    .dataframe thead th {\n",
       "        text-align: right;\n",
       "    }\n",
       "</style>\n",
       "<table border=\"1\" class=\"dataframe\">\n",
       "  <thead>\n",
       "    <tr style=\"text-align: right;\">\n",
       "      <th></th>\n",
       "      <th>id</th>\n",
       "      <th>actor</th>\n",
       "      <th>session_uuid</th>\n",
       "      <th>object_id</th>\n",
       "      <th>activity_type</th>\n",
       "      <th>progression</th>\n",
       "      <th>score</th>\n",
       "      <th>temps</th>\n",
       "      <th>total_ecrans</th>\n",
       "      <th>created</th>\n",
       "      <th>modified</th>\n",
       "      <th>learning_object</th>\n",
       "      <th>processed</th>\n",
       "    </tr>\n",
       "  </thead>\n",
       "  <tbody>\n",
       "    <tr>\n",
       "      <th>0</th>\n",
       "      <td>1</td>\n",
       "      <td>ga2018_umbe@yopmail.com</td>\n",
       "      <td>session-20</td>\n",
       "      <td>694-vorstellung</td>\n",
       "      <td>lesson</td>\n",
       "      <td>1.0</td>\n",
       "      <td>100.0</td>\n",
       "      <td>589.0</td>\n",
       "      <td>8</td>\n",
       "      <td>2016-08-25 17:22:56</td>\n",
       "      <td>2016-08-25 17:32:58</td>\n",
       "      <td>{\"learner_id\":\"\",\"progress_measure\":\"1.00\",\"co...</td>\n",
       "      <td>0</td>\n",
       "    </tr>\n",
       "    <tr>\n",
       "      <th>1</th>\n",
       "      <td>2</td>\n",
       "      <td>dtic@mobiletic.com</td>\n",
       "      <td>session-33</td>\n",
       "      <td>683-programme-nescens</td>\n",
       "      <td>lesson</td>\n",
       "      <td>1.0</td>\n",
       "      <td>0.0</td>\n",
       "      <td>6194.0</td>\n",
       "      <td>2</td>\n",
       "      <td>2016-08-25 17:27:34</td>\n",
       "      <td>2017-11-02 15:40:38</td>\n",
       "      <td>{\"learner_id\":\"\",\"progress_measure\":\"1.00\",\"co...</td>\n",
       "      <td>0</td>\n",
       "    </tr>\n",
       "    <tr>\n",
       "      <th>2</th>\n",
       "      <td>3</td>\n",
       "      <td>dtic@mobiletic.com</td>\n",
       "      <td>session-37</td>\n",
       "      <td>678-politique-et-cadre-legal</td>\n",
       "      <td>lesson</td>\n",
       "      <td>1.0</td>\n",
       "      <td>71.0</td>\n",
       "      <td>31203.0</td>\n",
       "      <td>11</td>\n",
       "      <td>2016-08-25 17:27:58</td>\n",
       "      <td>2017-10-27 08:21:30</td>\n",
       "      <td>{\"learner_id\":\"\",\"progress_measure\":\"1.00\",\"co...</td>\n",
       "      <td>0</td>\n",
       "    </tr>\n",
       "    <tr>\n",
       "      <th>3</th>\n",
       "      <td>4</td>\n",
       "      <td>dtic@mobiletic.com</td>\n",
       "      <td>session-46</td>\n",
       "      <td>671-presentation</td>\n",
       "      <td>lesson</td>\n",
       "      <td>1.0</td>\n",
       "      <td>22.0</td>\n",
       "      <td>112788.0</td>\n",
       "      <td>7</td>\n",
       "      <td>2016-08-25 17:29:27</td>\n",
       "      <td>2017-11-30 16:53:58</td>\n",
       "      <td>{\"learner_id\":\"\",\"progress_measure\":\"1.00\",\"co...</td>\n",
       "      <td>1</td>\n",
       "    </tr>\n",
       "    <tr>\n",
       "      <th>4</th>\n",
       "      <td>5</td>\n",
       "      <td>dtic@mobiletic.com</td>\n",
       "      <td>session-52</td>\n",
       "      <td>684-informatique</td>\n",
       "      <td>lesson</td>\n",
       "      <td>1.0</td>\n",
       "      <td>0.0</td>\n",
       "      <td>841.0</td>\n",
       "      <td>4</td>\n",
       "      <td>2016-08-25 17:30:45</td>\n",
       "      <td>2017-11-02 15:56:02</td>\n",
       "      <td>{\"learner_id\":\"\",\"progress_measure\":\"1.00\",\"co...</td>\n",
       "      <td>0</td>\n",
       "    </tr>\n",
       "    <tr>\n",
       "      <th>...</th>\n",
       "      <td>...</td>\n",
       "      <td>...</td>\n",
       "      <td>...</td>\n",
       "      <td>...</td>\n",
       "      <td>...</td>\n",
       "      <td>...</td>\n",
       "      <td>...</td>\n",
       "      <td>...</td>\n",
       "      <td>...</td>\n",
       "      <td>...</td>\n",
       "      <td>...</td>\n",
       "      <td>...</td>\n",
       "      <td>...</td>\n",
       "    </tr>\n",
       "    <tr>\n",
       "      <th>27398</th>\n",
       "      <td>245637</td>\n",
       "      <td>dtic@mobiletic.com</td>\n",
       "      <td>dd0de81f-1cfd-4f02-9e99-1fc730e66ccb</td>\n",
       "      <td>691-reseau-developpement</td>\n",
       "      <td>lesson</td>\n",
       "      <td>1.0</td>\n",
       "      <td>0.0</td>\n",
       "      <td>48.0</td>\n",
       "      <td>17</td>\n",
       "      <td>2018-12-13 11:21:20</td>\n",
       "      <td>2018-12-13 11:22:08</td>\n",
       "      <td>{\"location\":\"home\",\"suspend_data\":\"viewed=cdg,...</td>\n",
       "      <td>1</td>\n",
       "    </tr>\n",
       "    <tr>\n",
       "      <th>27399</th>\n",
       "      <td>245650</td>\n",
       "      <td>dtic@mobiletic.com</td>\n",
       "      <td>4da3228a-9a0b-42ab-a6ce-d93b2ed99b91</td>\n",
       "      <td>691-reseau-developpement</td>\n",
       "      <td>lesson</td>\n",
       "      <td>1.0</td>\n",
       "      <td>0.0</td>\n",
       "      <td>5.0</td>\n",
       "      <td>17</td>\n",
       "      <td>2018-12-13 11:22:13</td>\n",
       "      <td>2018-12-13 11:22:19</td>\n",
       "      <td>{\"location\":\"home\",\"suspend_data\":\"viewed=cdg,...</td>\n",
       "      <td>1</td>\n",
       "    </tr>\n",
       "    <tr>\n",
       "      <th>27400</th>\n",
       "      <td>245654</td>\n",
       "      <td>dtic@mobiletic.com</td>\n",
       "      <td>fcd48e54-b0b9-4ea7-99f2-4189031199fa</td>\n",
       "      <td>724-but-du-module</td>\n",
       "      <td>lesson</td>\n",
       "      <td>1.0</td>\n",
       "      <td>0.0</td>\n",
       "      <td>18.0</td>\n",
       "      <td>1</td>\n",
       "      <td>2018-12-13 11:23:33</td>\n",
       "      <td>2018-12-13 11:23:51</td>\n",
       "      <td>{\"objectives\":[{\"id\":\"1_introduction\",\"progres...</td>\n",
       "      <td>1</td>\n",
       "    </tr>\n",
       "    <tr>\n",
       "      <th>27401</th>\n",
       "      <td>245656</td>\n",
       "      <td>dtic@mobiletic.com</td>\n",
       "      <td>a871e8c1-c928-4faf-8cfb-e06f0dbb99bc</td>\n",
       "      <td>724-but-du-module</td>\n",
       "      <td>lesson</td>\n",
       "      <td>1.0</td>\n",
       "      <td>0.0</td>\n",
       "      <td>3.0</td>\n",
       "      <td>1</td>\n",
       "      <td>2018-12-13 11:23:55</td>\n",
       "      <td>2018-12-13 11:23:59</td>\n",
       "      <td>{\"objectives\":[{\"id\":\"1_introduction\",\"progres...</td>\n",
       "      <td>1</td>\n",
       "    </tr>\n",
       "    <tr>\n",
       "      <th>27402</th>\n",
       "      <td>245659</td>\n",
       "      <td>dtic@mobiletic.com</td>\n",
       "      <td>12361fd6-7416-46d6-b8a8-f76bf7d902b8</td>\n",
       "      <td>725-conduite-du-collaborateur</td>\n",
       "      <td>lesson</td>\n",
       "      <td>1.0</td>\n",
       "      <td>0.0</td>\n",
       "      <td>2.0</td>\n",
       "      <td>5</td>\n",
       "      <td>2018-12-13 11:24:03</td>\n",
       "      <td>2018-12-13 11:24:05</td>\n",
       "      <td>{\"objectives\":[{\"id\":\"1_culture_de_lecrit\"},{\"...</td>\n",
       "      <td>1</td>\n",
       "    </tr>\n",
       "  </tbody>\n",
       "</table>\n",
       "<p>27403 rows × 13 columns</p>\n",
       "</div>"
      ],
      "text/plain": [
       "           id                    actor                          session_uuid  \\\n",
       "0           1  ga2018_umbe@yopmail.com                            session-20   \n",
       "1           2       dtic@mobiletic.com                            session-33   \n",
       "2           3       dtic@mobiletic.com                            session-37   \n",
       "3           4       dtic@mobiletic.com                            session-46   \n",
       "4           5       dtic@mobiletic.com                            session-52   \n",
       "...       ...                      ...                                   ...   \n",
       "27398  245637       dtic@mobiletic.com  dd0de81f-1cfd-4f02-9e99-1fc730e66ccb   \n",
       "27399  245650       dtic@mobiletic.com  4da3228a-9a0b-42ab-a6ce-d93b2ed99b91   \n",
       "27400  245654       dtic@mobiletic.com  fcd48e54-b0b9-4ea7-99f2-4189031199fa   \n",
       "27401  245656       dtic@mobiletic.com  a871e8c1-c928-4faf-8cfb-e06f0dbb99bc   \n",
       "27402  245659       dtic@mobiletic.com  12361fd6-7416-46d6-b8a8-f76bf7d902b8   \n",
       "\n",
       "                           object_id activity_type  progression  score  \\\n",
       "0                    694-vorstellung        lesson          1.0  100.0   \n",
       "1              683-programme-nescens        lesson          1.0    0.0   \n",
       "2       678-politique-et-cadre-legal        lesson          1.0   71.0   \n",
       "3                   671-presentation        lesson          1.0   22.0   \n",
       "4                   684-informatique        lesson          1.0    0.0   \n",
       "...                              ...           ...          ...    ...   \n",
       "27398       691-reseau-developpement        lesson          1.0    0.0   \n",
       "27399       691-reseau-developpement        lesson          1.0    0.0   \n",
       "27400              724-but-du-module        lesson          1.0    0.0   \n",
       "27401              724-but-du-module        lesson          1.0    0.0   \n",
       "27402  725-conduite-du-collaborateur        lesson          1.0    0.0   \n",
       "\n",
       "          temps  total_ecrans              created             modified  \\\n",
       "0         589.0             8  2016-08-25 17:22:56  2016-08-25 17:32:58   \n",
       "1        6194.0             2  2016-08-25 17:27:34  2017-11-02 15:40:38   \n",
       "2       31203.0            11  2016-08-25 17:27:58  2017-10-27 08:21:30   \n",
       "3      112788.0             7  2016-08-25 17:29:27  2017-11-30 16:53:58   \n",
       "4         841.0             4  2016-08-25 17:30:45  2017-11-02 15:56:02   \n",
       "...         ...           ...                  ...                  ...   \n",
       "27398      48.0            17  2018-12-13 11:21:20  2018-12-13 11:22:08   \n",
       "27399       5.0            17  2018-12-13 11:22:13  2018-12-13 11:22:19   \n",
       "27400      18.0             1  2018-12-13 11:23:33  2018-12-13 11:23:51   \n",
       "27401       3.0             1  2018-12-13 11:23:55  2018-12-13 11:23:59   \n",
       "27402       2.0             5  2018-12-13 11:24:03  2018-12-13 11:24:05   \n",
       "\n",
       "                                         learning_object  processed  \n",
       "0      {\"learner_id\":\"\",\"progress_measure\":\"1.00\",\"co...          0  \n",
       "1      {\"learner_id\":\"\",\"progress_measure\":\"1.00\",\"co...          0  \n",
       "2      {\"learner_id\":\"\",\"progress_measure\":\"1.00\",\"co...          0  \n",
       "3      {\"learner_id\":\"\",\"progress_measure\":\"1.00\",\"co...          1  \n",
       "4      {\"learner_id\":\"\",\"progress_measure\":\"1.00\",\"co...          0  \n",
       "...                                                  ...        ...  \n",
       "27398  {\"location\":\"home\",\"suspend_data\":\"viewed=cdg,...          1  \n",
       "27399  {\"location\":\"home\",\"suspend_data\":\"viewed=cdg,...          1  \n",
       "27400  {\"objectives\":[{\"id\":\"1_introduction\",\"progres...          1  \n",
       "27401  {\"objectives\":[{\"id\":\"1_introduction\",\"progres...          1  \n",
       "27402  {\"objectives\":[{\"id\":\"1_culture_de_lecrit\"},{\"...          1  \n",
       "\n",
       "[27403 rows x 13 columns]"
      ]
     },
     "execution_count": 4,
     "metadata": {},
     "output_type": "execute_result"
    }
   ],
   "source": [
    "dataset"
   ]
  },
  {
   "cell_type": "code",
   "execution_count": 5,
   "id": "7aec648b",
   "metadata": {
    "scrolled": true
   },
   "outputs": [],
   "source": [
    "# List_module = list(dataset.object_id.unique())\n",
    "# List_module"
   ]
  },
  {
   "cell_type": "markdown",
   "id": "4cfbdcd2",
   "metadata": {},
   "source": [
    "*  la colonne object_id n'est pas utilisees dans l'entrainenemt il peut avoir des valeurs null."
   ]
  },
  {
   "cell_type": "code",
   "execution_count": 6,
   "id": "e8a9a3b7",
   "metadata": {},
   "outputs": [
    {
     "data": {
      "text/plain": [
       "['id',\n",
       " 'actor',\n",
       " 'session_uuid',\n",
       " 'object_id',\n",
       " 'activity_type',\n",
       " 'progression',\n",
       " 'score',\n",
       " 'temps',\n",
       " 'total_ecrans',\n",
       " 'created',\n",
       " 'modified',\n",
       " 'learning_object',\n",
       " 'processed']"
      ]
     },
     "execution_count": 6,
     "metadata": {},
     "output_type": "execute_result"
    }
   ],
   "source": [
    "data.getListeColonne()"
   ]
  },
  {
   "cell_type": "code",
   "execution_count": 7,
   "id": "c40d7346",
   "metadata": {
    "scrolled": false
   },
   "outputs": [
    {
     "data": {
      "text/html": [
       "<div>\n",
       "<style scoped>\n",
       "    .dataframe tbody tr th:only-of-type {\n",
       "        vertical-align: middle;\n",
       "    }\n",
       "\n",
       "    .dataframe tbody tr th {\n",
       "        vertical-align: top;\n",
       "    }\n",
       "\n",
       "    .dataframe thead th {\n",
       "        text-align: right;\n",
       "    }\n",
       "</style>\n",
       "<table border=\"1\" class=\"dataframe\">\n",
       "  <thead>\n",
       "    <tr style=\"text-align: right;\">\n",
       "      <th></th>\n",
       "      <th>nb_apprenants</th>\n",
       "      <th>nb_sessions</th>\n",
       "      <th>score_minimal</th>\n",
       "      <th>score_maximal</th>\n",
       "      <th>taux_de_reussite</th>\n",
       "    </tr>\n",
       "    <tr>\n",
       "      <th>object_id</th>\n",
       "      <th></th>\n",
       "      <th></th>\n",
       "      <th></th>\n",
       "      <th></th>\n",
       "      <th></th>\n",
       "    </tr>\n",
       "  </thead>\n",
       "  <tbody>\n",
       "    <tr>\n",
       "      <th>752-etudes-de-cas-et-questions</th>\n",
       "      <td>123</td>\n",
       "      <td>216</td>\n",
       "      <td>0.0</td>\n",
       "      <td>100.0</td>\n",
       "      <td>99.19</td>\n",
       "    </tr>\n",
       "    <tr>\n",
       "      <th>734-risques-psychosociaux</th>\n",
       "      <td>124</td>\n",
       "      <td>153</td>\n",
       "      <td>0.0</td>\n",
       "      <td>100.0</td>\n",
       "      <td>98.39</td>\n",
       "    </tr>\n",
       "    <tr>\n",
       "      <th>819-informatique</th>\n",
       "      <td>59</td>\n",
       "      <td>68</td>\n",
       "      <td>0.0</td>\n",
       "      <td>100.0</td>\n",
       "      <td>98.31</td>\n",
       "    </tr>\n",
       "    <tr>\n",
       "      <th>755-verhalten-des-mitarbeitenden</th>\n",
       "      <td>94</td>\n",
       "      <td>233</td>\n",
       "      <td>0.0</td>\n",
       "      <td>100.0</td>\n",
       "      <td>97.87</td>\n",
       "    </tr>\n",
       "    <tr>\n",
       "      <th>761-fallstudien-und-fragen</th>\n",
       "      <td>89</td>\n",
       "      <td>242</td>\n",
       "      <td>0.0</td>\n",
       "      <td>100.0</td>\n",
       "      <td>97.75</td>\n",
       "    </tr>\n",
       "    <tr>\n",
       "      <th>...</th>\n",
       "      <td>...</td>\n",
       "      <td>...</td>\n",
       "      <td>...</td>\n",
       "      <td>...</td>\n",
       "      <td>...</td>\n",
       "    </tr>\n",
       "    <tr>\n",
       "      <th>774-ktg-unfall-und-krankheit</th>\n",
       "      <td>88</td>\n",
       "      <td>133</td>\n",
       "      <td>0.0</td>\n",
       "      <td>0.0</td>\n",
       "      <td>0.00</td>\n",
       "    </tr>\n",
       "    <tr>\n",
       "      <th>773-familienzulagen</th>\n",
       "      <td>87</td>\n",
       "      <td>105</td>\n",
       "      <td>0.0</td>\n",
       "      <td>0.0</td>\n",
       "      <td>0.00</td>\n",
       "    </tr>\n",
       "    <tr>\n",
       "      <th>772-arbeitslosenversicherung</th>\n",
       "      <td>87</td>\n",
       "      <td>95</td>\n",
       "      <td>0.0</td>\n",
       "      <td>0.0</td>\n",
       "      <td>0.00</td>\n",
       "    </tr>\n",
       "    <tr>\n",
       "      <th>771-ktg-militardienst-und-mutterschaft</th>\n",
       "      <td>88</td>\n",
       "      <td>115</td>\n",
       "      <td>0.0</td>\n",
       "      <td>0.0</td>\n",
       "      <td>0.00</td>\n",
       "    </tr>\n",
       "    <tr>\n",
       "      <th>632-le-hibou-grand-duc</th>\n",
       "      <td>1</td>\n",
       "      <td>1</td>\n",
       "      <td>0.0</td>\n",
       "      <td>0.0</td>\n",
       "      <td>0.00</td>\n",
       "    </tr>\n",
       "  </tbody>\n",
       "</table>\n",
       "<p>152 rows × 5 columns</p>\n",
       "</div>"
      ],
      "text/plain": [
       "                                        nb_apprenants  nb_sessions  \\\n",
       "object_id                                                            \n",
       "752-etudes-de-cas-et-questions                    123          216   \n",
       "734-risques-psychosociaux                         124          153   \n",
       "819-informatique                                   59           68   \n",
       "755-verhalten-des-mitarbeitenden                   94          233   \n",
       "761-fallstudien-und-fragen                         89          242   \n",
       "...                                               ...          ...   \n",
       "774-ktg-unfall-und-krankheit                       88          133   \n",
       "773-familienzulagen                                87          105   \n",
       "772-arbeitslosenversicherung                       87           95   \n",
       "771-ktg-militardienst-und-mutterschaft             88          115   \n",
       "632-le-hibou-grand-duc                              1            1   \n",
       "\n",
       "                                        score_minimal  score_maximal  \\\n",
       "object_id                                                              \n",
       "752-etudes-de-cas-et-questions                    0.0          100.0   \n",
       "734-risques-psychosociaux                         0.0          100.0   \n",
       "819-informatique                                  0.0          100.0   \n",
       "755-verhalten-des-mitarbeitenden                  0.0          100.0   \n",
       "761-fallstudien-und-fragen                        0.0          100.0   \n",
       "...                                               ...            ...   \n",
       "774-ktg-unfall-und-krankheit                      0.0            0.0   \n",
       "773-familienzulagen                               0.0            0.0   \n",
       "772-arbeitslosenversicherung                      0.0            0.0   \n",
       "771-ktg-militardienst-und-mutterschaft            0.0            0.0   \n",
       "632-le-hibou-grand-duc                            0.0            0.0   \n",
       "\n",
       "                                        taux_de_reussite  \n",
       "object_id                                                 \n",
       "752-etudes-de-cas-et-questions                     99.19  \n",
       "734-risques-psychosociaux                          98.39  \n",
       "819-informatique                                   98.31  \n",
       "755-verhalten-des-mitarbeitenden                   97.87  \n",
       "761-fallstudien-und-fragen                         97.75  \n",
       "...                                                  ...  \n",
       "774-ktg-unfall-und-krankheit                        0.00  \n",
       "773-familienzulagen                                 0.00  \n",
       "772-arbeitslosenversicherung                        0.00  \n",
       "771-ktg-militardienst-und-mutterschaft              0.00  \n",
       "632-le-hibou-grand-duc                              0.00  \n",
       "\n",
       "[152 rows x 5 columns]"
      ]
     },
     "execution_count": 7,
     "metadata": {},
     "output_type": "execute_result"
    }
   ],
   "source": [
    "data.getStat()"
   ]
  },
  {
   "cell_type": "code",
   "execution_count": 8,
   "id": "9c2b7dce",
   "metadata": {},
   "outputs": [],
   "source": [
    "\n",
    "# data.getModuleActorStat(\"671-presentation\")"
   ]
  },
  {
   "cell_type": "markdown",
   "id": "ce1aaf51",
   "metadata": {},
   "source": [
    "*  quelques graphiques"
   ]
  },
  {
   "cell_type": "code",
   "execution_count": 9,
   "id": "1fecd629",
   "metadata": {},
   "outputs": [],
   "source": [
    "# data.courbeTempsFScoreMax(data.nTopModule(10))"
   ]
  },
  {
   "cell_type": "code",
   "execution_count": 10,
   "id": "fc77fa1e",
   "metadata": {},
   "outputs": [],
   "source": [
    "# data.nuagePoint(nom_colonne=['object_id'],agg_dic={'temps':'sum'},x_colonne='taux_de_reussite')"
   ]
  },
  {
   "cell_type": "code",
   "execution_count": 11,
   "id": "1d530a6f",
   "metadata": {},
   "outputs": [],
   "source": [
    "# data.camenbert()"
   ]
  },
  {
   "cell_type": "code",
   "execution_count": 12,
   "id": "5b6fb757",
   "metadata": {},
   "outputs": [],
   "source": [
    "# data.diagrammeEnBaton(data.nTopModule(10),horizontal=True)"
   ]
  },
  {
   "cell_type": "markdown",
   "id": "8ce8244b",
   "metadata": {},
   "source": [
    "* quelques correllations"
   ]
  },
  {
   "cell_type": "code",
   "execution_count": 13,
   "id": "9e88e0d7",
   "metadata": {},
   "outputs": [],
   "source": [
    "# # plt.matshow(data.getDataset().corr())\n",
    "# # plt.show()\n",
    "# corr = data.getDataset().corr()\n",
    "# sn.heatmap(corr, cmap=\"Blues\",annot=True,\n",
    "#             xticklabels=corr.columns.values,\n",
    "#             yticklabels=corr.columns.values).set(title='Correlation entre toutes les colonnes');\n",
    "# # data.getDataset()"
   ]
  },
  {
   "cell_type": "code",
   "execution_count": 14,
   "id": "420b6bdb",
   "metadata": {},
   "outputs": [],
   "source": [
    "# corr = data.getStat().corr()\n",
    "# sn.heatmap(corr, cmap=\"Blues\",annot=True,\n",
    "#             xticklabels=corr.columns.values,\n",
    "#             yticklabels=corr.columns.values);\n",
    "# # data.getDataset()\n",
    "# # corr\n",
    "# # data.getStat()"
   ]
  },
  {
   "cell_type": "code",
   "execution_count": 15,
   "id": "8ad1546a",
   "metadata": {},
   "outputs": [],
   "source": [
    "# # on supprime  score_minimal\n",
    "# corr = data.getStat().drop(\"score_minimal\", axis='columns').corr()\n",
    "# sn.heatmap(corr, cmap=\"Blues\",annot=True,\n",
    "#             xticklabels=corr.columns.values,\n",
    "#             yticklabels=corr.columns.values);\n",
    "# # data.getStat()\n",
    "# # corr"
   ]
  },
  {
   "cell_type": "code",
   "execution_count": 16,
   "id": "cb71ad2b",
   "metadata": {},
   "outputs": [],
   "source": [
    "# 671-presentation   340 apprenants (c'est le max)"
   ]
  },
  {
   "cell_type": "code",
   "execution_count": 17,
   "id": "09197471",
   "metadata": {},
   "outputs": [],
   "source": [
    "# corr = data.getModuleActorStat(\"671-presentation\").corr()\n",
    "# sn.heatmap(corr, cmap=\"Blues\",annot=True,\n",
    "#             xticklabels=corr.columns.values,\n",
    "#             yticklabels=corr.columns.values);\n",
    "\n",
    "# # data.getModuleActorStat(\"671-presentation\")"
   ]
  },
  {
   "cell_type": "code",
   "execution_count": 18,
   "id": "3dcb26da",
   "metadata": {},
   "outputs": [],
   "source": [
    "# data.regrouperSelon(col_list=['object_id','actor'],agg_dic={'score':'max','temps':'sum'})"
   ]
  },
  {
   "cell_type": "markdown",
   "id": "36673c6e",
   "metadata": {},
   "source": [
    "### Pretraitement"
   ]
  },
  {
   "cell_type": "code",
   "execution_count": 19,
   "id": "f2a7adb7",
   "metadata": {},
   "outputs": [],
   "source": [
    "dataset = data.regrouperSelon(col_list=['object_id','actor'],agg_dic={'temps':'sum','score':'max','progression':'mean','session_uuid':'count','total_ecrans':'sum'})\n",
    "\n",
    "dataset = dataset.reset_index() \n",
    "# dataset\n",
    "object_id_frame = pd.DataFrame(dataset.object_id)\n",
    "# object_id_frame\n",
    "# Pour l'algorithme OneHotEncoding\n",
    "enc = OneHotEncoder(handle_unknown='ignore')\n",
    "enc.fit(object_id_frame)\n",
    "enc.categories_\n",
    "object_id_enc = enc.transform(object_id_frame)\n",
    "object_id_encode = pd.DataFrame(\n",
    "        object_id_enc.toarray(), \n",
    "        columns = dataset.object_id.unique()\n",
    "    )\n",
    "object_id_encode\n",
    "dataset_ = pd.concat([dataset, object_id_encode], axis = 1)\n",
    "# enc.inverse_transform(object_id_enc)\n",
    "# dataset_"
   ]
  },
  {
   "cell_type": "code",
   "execution_count": 20,
   "id": "2ec1fc0f",
   "metadata": {},
   "outputs": [],
   "source": [
    "dataset_pour_regression = dataset_.drop(['object_id','actor'], axis=1)\n",
    "dataset_pour_classification = dataset_.drop(['object_id','actor'], axis=1)\n",
    "\n",
    "dataset_pour_classification['score'] = dataset_pour_classification['score'].map(lambda score : 1 if score >= 50 else 0)\n",
    "dataset_pour_classification\n",
    "# dataset\n",
    "\n",
    "# #Mettre a l'echel\n",
    "\n",
    "t_max = dataset_pour_regression.temps.max()\n",
    "score_max = dataset_pour_regression.score.max()\n",
    "session_uuid_max = dataset_pour_regression.session_uuid.max()\n",
    "total_ecrans_max = dataset_pour_regression.total_ecrans.max()\n",
    "\n",
    "\n",
    "dataset_pour_regression['temps'] = dataset_pour_regression['temps'].map(lambda temps : temps/t_max)\n",
    "dataset_pour_regression['score'] = dataset_pour_regression['score'].map(lambda score : score/score_max)\n",
    "dataset_pour_regression['session_uuid'] = dataset_pour_regression['session_uuid'].map(lambda session_uuid : session_uuid/session_uuid_max)\n",
    "dataset_pour_regression['total_ecrans'] = dataset_pour_regression['total_ecrans'].map(lambda total_ecrans : total_ecrans/total_ecrans_max)"
   ]
  },
  {
   "cell_type": "code",
   "execution_count": 21,
   "id": "43e19929",
   "metadata": {},
   "outputs": [
    {
     "data": {
      "text/html": [
       "<div>\n",
       "<style scoped>\n",
       "    .dataframe tbody tr th:only-of-type {\n",
       "        vertical-align: middle;\n",
       "    }\n",
       "\n",
       "    .dataframe tbody tr th {\n",
       "        vertical-align: top;\n",
       "    }\n",
       "\n",
       "    .dataframe thead th {\n",
       "        text-align: right;\n",
       "    }\n",
       "</style>\n",
       "<table border=\"1\" class=\"dataframe\">\n",
       "  <thead>\n",
       "    <tr style=\"text-align: right;\">\n",
       "      <th></th>\n",
       "      <th>temps</th>\n",
       "      <th>score</th>\n",
       "      <th>progression</th>\n",
       "      <th>session_uuid</th>\n",
       "      <th>total_ecrans</th>\n",
       "      <th>632-le-hibou-grand-duc</th>\n",
       "      <th>669-vallee-trient-finhaut-source-de-bien-etre</th>\n",
       "      <th>671-presentation</th>\n",
       "      <th>674-strategie-et-croissance</th>\n",
       "      <th>677-affaires-medicales</th>\n",
       "      <th>...</th>\n",
       "      <th>819-informatique</th>\n",
       "      <th>820-formation</th>\n",
       "      <th>821-corporate-marketing-et-communication</th>\n",
       "      <th>822-les-services-aux-patients</th>\n",
       "      <th>823-nescens</th>\n",
       "      <th>824-nescens</th>\n",
       "      <th>825-die-dienstleistungen-f-r-den-patienten</th>\n",
       "      <th>826-i-servizi-ai-pazienti</th>\n",
       "      <th>827-quiz</th>\n",
       "      <th>828-quiz</th>\n",
       "    </tr>\n",
       "  </thead>\n",
       "  <tbody>\n",
       "    <tr>\n",
       "      <th>0</th>\n",
       "      <td>0.000000</td>\n",
       "      <td>0.00</td>\n",
       "      <td>0.330000</td>\n",
       "      <td>0.010989</td>\n",
       "      <td>0.002322</td>\n",
       "      <td>1.0</td>\n",
       "      <td>0.0</td>\n",
       "      <td>0.0</td>\n",
       "      <td>0.0</td>\n",
       "      <td>0.0</td>\n",
       "      <td>...</td>\n",
       "      <td>0.0</td>\n",
       "      <td>0.0</td>\n",
       "      <td>0.0</td>\n",
       "      <td>0.0</td>\n",
       "      <td>0.0</td>\n",
       "      <td>0.0</td>\n",
       "      <td>0.0</td>\n",
       "      <td>0.0</td>\n",
       "      <td>0.0</td>\n",
       "      <td>0.0</td>\n",
       "    </tr>\n",
       "    <tr>\n",
       "      <th>1</th>\n",
       "      <td>0.000040</td>\n",
       "      <td>0.00</td>\n",
       "      <td>0.070000</td>\n",
       "      <td>0.010989</td>\n",
       "      <td>0.010836</td>\n",
       "      <td>0.0</td>\n",
       "      <td>1.0</td>\n",
       "      <td>0.0</td>\n",
       "      <td>0.0</td>\n",
       "      <td>0.0</td>\n",
       "      <td>...</td>\n",
       "      <td>0.0</td>\n",
       "      <td>0.0</td>\n",
       "      <td>0.0</td>\n",
       "      <td>0.0</td>\n",
       "      <td>0.0</td>\n",
       "      <td>0.0</td>\n",
       "      <td>0.0</td>\n",
       "      <td>0.0</td>\n",
       "      <td>0.0</td>\n",
       "      <td>0.0</td>\n",
       "    </tr>\n",
       "    <tr>\n",
       "      <th>2</th>\n",
       "      <td>1.000000</td>\n",
       "      <td>0.22</td>\n",
       "      <td>0.989011</td>\n",
       "      <td>1.000000</td>\n",
       "      <td>0.493034</td>\n",
       "      <td>0.0</td>\n",
       "      <td>0.0</td>\n",
       "      <td>1.0</td>\n",
       "      <td>0.0</td>\n",
       "      <td>0.0</td>\n",
       "      <td>...</td>\n",
       "      <td>0.0</td>\n",
       "      <td>0.0</td>\n",
       "      <td>0.0</td>\n",
       "      <td>0.0</td>\n",
       "      <td>0.0</td>\n",
       "      <td>0.0</td>\n",
       "      <td>0.0</td>\n",
       "      <td>0.0</td>\n",
       "      <td>0.0</td>\n",
       "      <td>0.0</td>\n",
       "    </tr>\n",
       "    <tr>\n",
       "      <th>3</th>\n",
       "      <td>0.003137</td>\n",
       "      <td>1.00</td>\n",
       "      <td>1.000000</td>\n",
       "      <td>0.032967</td>\n",
       "      <td>0.016254</td>\n",
       "      <td>0.0</td>\n",
       "      <td>0.0</td>\n",
       "      <td>1.0</td>\n",
       "      <td>0.0</td>\n",
       "      <td>0.0</td>\n",
       "      <td>...</td>\n",
       "      <td>0.0</td>\n",
       "      <td>0.0</td>\n",
       "      <td>0.0</td>\n",
       "      <td>0.0</td>\n",
       "      <td>0.0</td>\n",
       "      <td>0.0</td>\n",
       "      <td>0.0</td>\n",
       "      <td>0.0</td>\n",
       "      <td>0.0</td>\n",
       "      <td>0.0</td>\n",
       "    </tr>\n",
       "    <tr>\n",
       "      <th>4</th>\n",
       "      <td>0.011050</td>\n",
       "      <td>1.00</td>\n",
       "      <td>0.856667</td>\n",
       "      <td>0.065934</td>\n",
       "      <td>0.032508</td>\n",
       "      <td>0.0</td>\n",
       "      <td>0.0</td>\n",
       "      <td>1.0</td>\n",
       "      <td>0.0</td>\n",
       "      <td>0.0</td>\n",
       "      <td>...</td>\n",
       "      <td>0.0</td>\n",
       "      <td>0.0</td>\n",
       "      <td>0.0</td>\n",
       "      <td>0.0</td>\n",
       "      <td>0.0</td>\n",
       "      <td>0.0</td>\n",
       "      <td>0.0</td>\n",
       "      <td>0.0</td>\n",
       "      <td>0.0</td>\n",
       "      <td>0.0</td>\n",
       "    </tr>\n",
       "    <tr>\n",
       "      <th>...</th>\n",
       "      <td>...</td>\n",
       "      <td>...</td>\n",
       "      <td>...</td>\n",
       "      <td>...</td>\n",
       "      <td>...</td>\n",
       "      <td>...</td>\n",
       "      <td>...</td>\n",
       "      <td>...</td>\n",
       "      <td>...</td>\n",
       "      <td>...</td>\n",
       "      <td>...</td>\n",
       "      <td>...</td>\n",
       "      <td>...</td>\n",
       "      <td>...</td>\n",
       "      <td>...</td>\n",
       "      <td>...</td>\n",
       "      <td>...</td>\n",
       "      <td>...</td>\n",
       "      <td>...</td>\n",
       "      <td>...</td>\n",
       "      <td>...</td>\n",
       "    </tr>\n",
       "    <tr>\n",
       "      <th>15408</th>\n",
       "      <td>0.018108</td>\n",
       "      <td>0.02</td>\n",
       "      <td>0.753333</td>\n",
       "      <td>0.032967</td>\n",
       "      <td>0.037152</td>\n",
       "      <td>0.0</td>\n",
       "      <td>0.0</td>\n",
       "      <td>0.0</td>\n",
       "      <td>0.0</td>\n",
       "      <td>0.0</td>\n",
       "      <td>...</td>\n",
       "      <td>0.0</td>\n",
       "      <td>0.0</td>\n",
       "      <td>0.0</td>\n",
       "      <td>0.0</td>\n",
       "      <td>0.0</td>\n",
       "      <td>0.0</td>\n",
       "      <td>0.0</td>\n",
       "      <td>0.0</td>\n",
       "      <td>0.0</td>\n",
       "      <td>1.0</td>\n",
       "    </tr>\n",
       "    <tr>\n",
       "      <th>15409</th>\n",
       "      <td>0.007153</td>\n",
       "      <td>0.42</td>\n",
       "      <td>0.502500</td>\n",
       "      <td>0.043956</td>\n",
       "      <td>0.049536</td>\n",
       "      <td>0.0</td>\n",
       "      <td>0.0</td>\n",
       "      <td>0.0</td>\n",
       "      <td>0.0</td>\n",
       "      <td>0.0</td>\n",
       "      <td>...</td>\n",
       "      <td>0.0</td>\n",
       "      <td>0.0</td>\n",
       "      <td>0.0</td>\n",
       "      <td>0.0</td>\n",
       "      <td>0.0</td>\n",
       "      <td>0.0</td>\n",
       "      <td>0.0</td>\n",
       "      <td>0.0</td>\n",
       "      <td>0.0</td>\n",
       "      <td>1.0</td>\n",
       "    </tr>\n",
       "    <tr>\n",
       "      <th>15410</th>\n",
       "      <td>0.010020</td>\n",
       "      <td>0.29</td>\n",
       "      <td>0.606364</td>\n",
       "      <td>0.362637</td>\n",
       "      <td>0.408669</td>\n",
       "      <td>0.0</td>\n",
       "      <td>0.0</td>\n",
       "      <td>0.0</td>\n",
       "      <td>0.0</td>\n",
       "      <td>0.0</td>\n",
       "      <td>...</td>\n",
       "      <td>0.0</td>\n",
       "      <td>0.0</td>\n",
       "      <td>0.0</td>\n",
       "      <td>0.0</td>\n",
       "      <td>0.0</td>\n",
       "      <td>0.0</td>\n",
       "      <td>0.0</td>\n",
       "      <td>0.0</td>\n",
       "      <td>0.0</td>\n",
       "      <td>1.0</td>\n",
       "    </tr>\n",
       "    <tr>\n",
       "      <th>15411</th>\n",
       "      <td>0.006899</td>\n",
       "      <td>0.85</td>\n",
       "      <td>1.000000</td>\n",
       "      <td>0.010989</td>\n",
       "      <td>0.012384</td>\n",
       "      <td>0.0</td>\n",
       "      <td>0.0</td>\n",
       "      <td>0.0</td>\n",
       "      <td>0.0</td>\n",
       "      <td>0.0</td>\n",
       "      <td>...</td>\n",
       "      <td>0.0</td>\n",
       "      <td>0.0</td>\n",
       "      <td>0.0</td>\n",
       "      <td>0.0</td>\n",
       "      <td>0.0</td>\n",
       "      <td>0.0</td>\n",
       "      <td>0.0</td>\n",
       "      <td>0.0</td>\n",
       "      <td>0.0</td>\n",
       "      <td>1.0</td>\n",
       "    </tr>\n",
       "    <tr>\n",
       "      <th>15412</th>\n",
       "      <td>0.018551</td>\n",
       "      <td>0.83</td>\n",
       "      <td>0.970000</td>\n",
       "      <td>0.021978</td>\n",
       "      <td>0.024768</td>\n",
       "      <td>0.0</td>\n",
       "      <td>0.0</td>\n",
       "      <td>0.0</td>\n",
       "      <td>0.0</td>\n",
       "      <td>0.0</td>\n",
       "      <td>...</td>\n",
       "      <td>0.0</td>\n",
       "      <td>0.0</td>\n",
       "      <td>0.0</td>\n",
       "      <td>0.0</td>\n",
       "      <td>0.0</td>\n",
       "      <td>0.0</td>\n",
       "      <td>0.0</td>\n",
       "      <td>0.0</td>\n",
       "      <td>0.0</td>\n",
       "      <td>1.0</td>\n",
       "    </tr>\n",
       "  </tbody>\n",
       "</table>\n",
       "<p>15413 rows × 157 columns</p>\n",
       "</div>"
      ],
      "text/plain": [
       "          temps  score  progression  session_uuid  total_ecrans  \\\n",
       "0      0.000000   0.00     0.330000      0.010989      0.002322   \n",
       "1      0.000040   0.00     0.070000      0.010989      0.010836   \n",
       "2      1.000000   0.22     0.989011      1.000000      0.493034   \n",
       "3      0.003137   1.00     1.000000      0.032967      0.016254   \n",
       "4      0.011050   1.00     0.856667      0.065934      0.032508   \n",
       "...         ...    ...          ...           ...           ...   \n",
       "15408  0.018108   0.02     0.753333      0.032967      0.037152   \n",
       "15409  0.007153   0.42     0.502500      0.043956      0.049536   \n",
       "15410  0.010020   0.29     0.606364      0.362637      0.408669   \n",
       "15411  0.006899   0.85     1.000000      0.010989      0.012384   \n",
       "15412  0.018551   0.83     0.970000      0.021978      0.024768   \n",
       "\n",
       "       632-le-hibou-grand-duc  669-vallee-trient-finhaut-source-de-bien-etre  \\\n",
       "0                         1.0                                            0.0   \n",
       "1                         0.0                                            1.0   \n",
       "2                         0.0                                            0.0   \n",
       "3                         0.0                                            0.0   \n",
       "4                         0.0                                            0.0   \n",
       "...                       ...                                            ...   \n",
       "15408                     0.0                                            0.0   \n",
       "15409                     0.0                                            0.0   \n",
       "15410                     0.0                                            0.0   \n",
       "15411                     0.0                                            0.0   \n",
       "15412                     0.0                                            0.0   \n",
       "\n",
       "       671-presentation  674-strategie-et-croissance  677-affaires-medicales  \\\n",
       "0                   0.0                          0.0                     0.0   \n",
       "1                   0.0                          0.0                     0.0   \n",
       "2                   1.0                          0.0                     0.0   \n",
       "3                   1.0                          0.0                     0.0   \n",
       "4                   1.0                          0.0                     0.0   \n",
       "...                 ...                          ...                     ...   \n",
       "15408               0.0                          0.0                     0.0   \n",
       "15409               0.0                          0.0                     0.0   \n",
       "15410               0.0                          0.0                     0.0   \n",
       "15411               0.0                          0.0                     0.0   \n",
       "15412               0.0                          0.0                     0.0   \n",
       "\n",
       "       ...  819-informatique  820-formation  \\\n",
       "0      ...               0.0            0.0   \n",
       "1      ...               0.0            0.0   \n",
       "2      ...               0.0            0.0   \n",
       "3      ...               0.0            0.0   \n",
       "4      ...               0.0            0.0   \n",
       "...    ...               ...            ...   \n",
       "15408  ...               0.0            0.0   \n",
       "15409  ...               0.0            0.0   \n",
       "15410  ...               0.0            0.0   \n",
       "15411  ...               0.0            0.0   \n",
       "15412  ...               0.0            0.0   \n",
       "\n",
       "       821-corporate-marketing-et-communication  \\\n",
       "0                                           0.0   \n",
       "1                                           0.0   \n",
       "2                                           0.0   \n",
       "3                                           0.0   \n",
       "4                                           0.0   \n",
       "...                                         ...   \n",
       "15408                                       0.0   \n",
       "15409                                       0.0   \n",
       "15410                                       0.0   \n",
       "15411                                       0.0   \n",
       "15412                                       0.0   \n",
       "\n",
       "       822-les-services-aux-patients  823-nescens  824-nescens  \\\n",
       "0                                0.0          0.0          0.0   \n",
       "1                                0.0          0.0          0.0   \n",
       "2                                0.0          0.0          0.0   \n",
       "3                                0.0          0.0          0.0   \n",
       "4                                0.0          0.0          0.0   \n",
       "...                              ...          ...          ...   \n",
       "15408                            0.0          0.0          0.0   \n",
       "15409                            0.0          0.0          0.0   \n",
       "15410                            0.0          0.0          0.0   \n",
       "15411                            0.0          0.0          0.0   \n",
       "15412                            0.0          0.0          0.0   \n",
       "\n",
       "       825-die-dienstleistungen-f-r-den-patienten  826-i-servizi-ai-pazienti  \\\n",
       "0                                             0.0                        0.0   \n",
       "1                                             0.0                        0.0   \n",
       "2                                             0.0                        0.0   \n",
       "3                                             0.0                        0.0   \n",
       "4                                             0.0                        0.0   \n",
       "...                                           ...                        ...   \n",
       "15408                                         0.0                        0.0   \n",
       "15409                                         0.0                        0.0   \n",
       "15410                                         0.0                        0.0   \n",
       "15411                                         0.0                        0.0   \n",
       "15412                                         0.0                        0.0   \n",
       "\n",
       "       827-quiz  828-quiz  \n",
       "0           0.0       0.0  \n",
       "1           0.0       0.0  \n",
       "2           0.0       0.0  \n",
       "3           0.0       0.0  \n",
       "4           0.0       0.0  \n",
       "...         ...       ...  \n",
       "15408       0.0       1.0  \n",
       "15409       0.0       1.0  \n",
       "15410       0.0       1.0  \n",
       "15411       0.0       1.0  \n",
       "15412       0.0       1.0  \n",
       "\n",
       "[15413 rows x 157 columns]"
      ]
     },
     "execution_count": 21,
     "metadata": {},
     "output_type": "execute_result"
    }
   ],
   "source": [
    "dataset_pour_regression"
   ]
  },
  {
   "cell_type": "code",
   "execution_count": 22,
   "id": "02ccd4fe",
   "metadata": {},
   "outputs": [],
   "source": [
    "# corr = dataset.corr()\n",
    "# sn.heatmap(corr, cmap=\"Blues\",annot=True,\n",
    "#             xticklabels=corr.columns.values,\n",
    "#             yticklabels=corr.columns.values).set(title='Correlation entre toutes les colonnes');\n"
   ]
  },
  {
   "cell_type": "markdown",
   "id": "258769a7",
   "metadata": {},
   "source": [
    "# fonctions"
   ]
  },
  {
   "cell_type": "code",
   "execution_count": 23,
   "id": "ce26f018",
   "metadata": {
    "scrolled": false
   },
   "outputs": [],
   "source": [
    "# return alpha qui maximise la precision\n",
    "def getAlphaPourPrecision(X_train, X_test, y_train, y_test,model_,afficher_graph=True):\n",
    "    alphas = np.logspace(-5, 1, 60)\n",
    "    train_precision = list()\n",
    "    test_precision = list()\n",
    "    for i in alphas :\n",
    "        model_.set_params(alpha=i)\n",
    "        model_.fit(X_train, y_train)\n",
    "        train_precision.append(model_.score(X_train, y_train))\n",
    "        test_precision.append(model_.score(X_test, y_test))\n",
    "    # train_precision, test_precision\n",
    "\n",
    "\n",
    "    indice_alpha_optimal = np.argmax(train_precision)\n",
    "    alpha_optimal = alphas[indice_alpha_optimal]\n",
    "\n",
    "\n",
    "    if afficher_graph :\n",
    "        \n",
    "        fig, ax = plt.subplots(figsize=(15, 5))\n",
    "\n",
    "        ax.plot(alphas, train_precision, label=\"precision d'entrainement\")\n",
    "        ax.plot(alphas, test_precision, label=\"precision de Test\")\n",
    "\n",
    "        ax.legend();\n",
    "    return alpha_optimal\n",
    "\n",
    "    # np.argmax(test_precision)\n",
    "    # test_precision,alphas"
   ]
  },
  {
   "cell_type": "code",
   "execution_count": 24,
   "id": "4bbc8263",
   "metadata": {},
   "outputs": [],
   "source": [
    "# return alpha qui minimise l'erreur (log_loss pour la classification et mean_squared_error pour la regression)\n",
    "def getAplhaPourErreur(X_train, X_test, y_train, y_test,model_,afficher_graph=True,regression=False):\n",
    "    alphas = np.logspace(-5, 1, 60)\n",
    "    train_erreur = list()\n",
    "    test_erreur = list()\n",
    "    \n",
    "    for i in alphas :\n",
    "        model_.set_params(alpha=i)\n",
    "        model_.fit(X_train, y_train)\n",
    "\n",
    "        if not regression :\n",
    "            \n",
    "            train_prediction = model_.predict(X_train)\n",
    "            train_erreur.append(metrics.log_loss(y_train,train_prediction))\n",
    "\n",
    "\n",
    "            test_prediction = model_.predict(X_test)\n",
    "            test_erreur.append(metrics.log_loss(y_test,test_prediction))\n",
    "        else :\n",
    "            train_prediction = model_.predict(X_train)\n",
    "            train_erreur.append(metrics.mean_squared_error(y_train,train_prediction))\n",
    "\n",
    "\n",
    "            test_prediction = model_.predict(X_test)\n",
    "            test_erreur.append(metrics.mean_squared_error(y_test,test_prediction))\n",
    "            \n",
    "        \n",
    "    # train_precision, test_precision\n",
    "\n",
    "    # # alphas\n",
    "    index_alpha_optimal_2 = np.argmin(train_erreur)\n",
    "    alpha_optimale_2 = alphas[index_alpha_optimal_2]\n",
    "    alpha_optimale_2\n",
    "    if afficher_graph:\n",
    "        fig, ax = plt.subplots(figsize=(15, 5))\n",
    "        ax.plot(alphas, train_erreur, label=\"erreur d'entrainement\")\n",
    "        ax.plot(alphas, test_erreur, label=\"erreur de Test\")\n",
    "\n",
    "        ax.legend();\n",
    "    \n",
    "    return alpha_optimale_2"
   ]
  },
  {
   "cell_type": "code",
   "execution_count": 25,
   "id": "9a1f153f",
   "metadata": {},
   "outputs": [],
   "source": [
    "# alphas"
   ]
  },
  {
   "cell_type": "markdown",
   "id": "f0c2f5f3",
   "metadata": {},
   "source": [
    "# Classification\n",
    "### Instenciation du model et fixation de l'hyperparamètre "
   ]
  },
  {
   "cell_type": "code",
   "execution_count": 26,
   "id": "7a040515",
   "metadata": {
    "scrolled": false
   },
   "outputs": [],
   "source": [
    "model_cl = SGDClassifier(verbose=0,\n",
    "                      learning_rate=\"optimal\", # Hyperparamètre (taux d'apprentissage)\n",
    "                      random_state=2\n",
    "                     )"
   ]
  },
  {
   "cell_type": "code",
   "execution_count": 27,
   "id": "23b74ad2",
   "metadata": {},
   "outputs": [],
   "source": [
    "# Separation des donnees\n",
    "Y_cl = dataset_pour_classification['score']\n",
    "X_cl = dataset_pour_classification.drop('score',axis=1)\n",
    "X_train_cl, X_test_cl, y_train_cl, y_test_cl = train_test_split(X_cl, Y_cl, random_state=2, train_size = .80)"
   ]
  },
  {
   "cell_type": "code",
   "execution_count": 28,
   "id": "593a6f43",
   "metadata": {},
   "outputs": [],
   "source": [
    "# X_train_cl"
   ]
  },
  {
   "cell_type": "markdown",
   "id": "986831f1",
   "metadata": {},
   "source": [
    "## Critère d'optimisation et Méthode d'optimisation"
   ]
  },
  {
   "cell_type": "markdown",
   "id": "b07d667d",
   "metadata": {},
   "source": [
    "*  recherche de Alpha (optimal) : parametre utiliser pour la regularisation et aussi utiliser dans le calcul de l'hyper parametre (learning rate)"
   ]
  },
  {
   "cell_type": "code",
   "execution_count": 29,
   "id": "fa2a29eb",
   "metadata": {},
   "outputs": [
    {
     "data": {
      "text/plain": [
       "0.7609496685459883"
      ]
     },
     "execution_count": 29,
     "metadata": {},
     "output_type": "execute_result"
    },
    {
     "data": {
      "image/png": "[encoded data removed]",
      "text/plain": [
       "<Figure size 1500x500 with 1 Axes>"
      ]
     },
     "metadata": {},
     "output_type": "display_data"
    }
   ],
   "source": [
    "alpha_cl_PRECISION = getAlphaPourPrecision(X_train=X_train_cl, \n",
    "                                   X_test=X_test_cl, \n",
    "                                   y_train=y_train_cl, \n",
    "                                   y_test=y_test_cl,\n",
    "                                   model_=model_cl,\n",
    "                                          afficher_graph=True)\n",
    "alpha_cl_PRECISION   # Alpha qui donne la precision maximale"
   ]
  },
  {
   "cell_type": "code",
   "execution_count": 30,
   "id": "9003b4c0",
   "metadata": {
    "scrolled": false
   },
   "outputs": [
    {
     "data": {
      "text/plain": [
       "0.7609496685459883"
      ]
     },
     "execution_count": 30,
     "metadata": {},
     "output_type": "execute_result"
    },
    {
     "data": {
      "image/png": "[encoded data removed]",
      "text/plain": [
       "<Figure size 1500x500 with 1 Axes>"
      ]
     },
     "metadata": {},
     "output_type": "display_data"
    }
   ],
   "source": [
    "# Pour l'algorithme OneHotEncoding\n",
    "alpha_cl_ERREUR = getAplhaPourErreur(X_train=X_train_cl, \n",
    "                                     X_test =X_test_cl, \n",
    "                                     y_train=y_train_cl, \n",
    "                                     y_test=y_test_cl,\n",
    "                                     model_=model_cl,\n",
    "                                     afficher_graph=True)\n",
    "alpha_cl_ERREUR   # Alpha qui donne l'erreur minimle"
   ]
  },
  {
   "cell_type": "markdown",
   "id": "e2f0c7dc",
   "metadata": {},
   "source": [
    "### Model pour la classification\n"
   ]
  },
  {
   "cell_type": "code",
   "execution_count": 31,
   "id": "af764ca9",
   "metadata": {},
   "outputs": [
    {
     "data": {
      "text/plain": [
       "True"
      ]
     },
     "execution_count": 31,
     "metadata": {},
     "output_type": "execute_result"
    }
   ],
   "source": [
    "alpha_cl_PRECISION == alpha_cl_ERREUR # Paramètre optimal Alpha"
   ]
  },
  {
   "cell_type": "code",
   "execution_count": 32,
   "id": "e41c8fc5",
   "metadata": {
    "scrolled": false
   },
   "outputs": [],
   "source": [
    "model_cl.set_params(alpha=alpha_cl_ERREUR) # Affectation de Alpha optimal\n",
    "\n",
    "model_cl.fit(X_train_cl,y_train_cl) # Entrainement du model  \n",
    "\n",
    "cl_score = model_cl.score(X_train_cl,y_train_cl) # Calcul de la précision\n",
    "tmp_train_predict = model_cl.predict(X_train_cl)\n",
    "\n",
    "# Calcul des metrics pour les données d'entainement\n",
    "cl_accuracy = metrics.accuracy_score(y_train_cl,tmp_train_predict)\n",
    "cl_log_loss = metrics.log_loss(y_train_cl,tmp_train_predict)\n",
    "cl_confusion_matrix = metrics.confusion_matrix(y_train_cl,tmp_train_predict) #Calculer la matrice de confusion pour évaluer la précision d'un classifieur.\n",
    "\n",
    "cl_hinge_loss = metrics.hinge_loss(y_train_cl,tmp_train_predict) #Renvoie la perte de charnière moyenne.\n",
    "cl_hamming_loss = metrics.hamming_loss(y_train_cl,tmp_train_predict) #Renvoie la perte de Hamming moyenne\n",
    "\n",
    "cl_f1_score = metrics.f1_score(y_train_cl,tmp_train_predict) #Calcul le score F1 (moyenne harmonique de la précision et du rappel)\n",
    "cl_recall_score = metrics.recall_score(y_train_cl,tmp_train_predict)\n",
    "\n",
    "#\n",
    "#\n",
    "#\n",
    "\n",
    "cl_score_test = model_cl.score(X_test_cl,y_test_cl) # Calcul de la précision sur les données de test\n",
    "tmp_test_predict = model_cl.predict(X_test_cl) # Prediction\n",
    "\n",
    "# Calcul des metrics pour les données de test\n",
    "cl_accuracy_test = metrics.accuracy_score(y_test_cl,tmp_test_predict)\n",
    "cl_log_loss_test = metrics.log_loss(y_test_cl,tmp_test_predict)\n",
    "cl_hinge_loss_test = metrics.hinge_loss(y_test_cl,tmp_test_predict) #Renvoie la perte de charnière moyenne.\n",
    "cl_hamming_loss_test = metrics.hamming_loss(y_test_cl,tmp_test_predict) #Renvoie la perte de Hamming moyenne\n",
    "\n",
    "cl_confusion_matrix_test = metrics.confusion_matrix(y_test_cl,tmp_test_predict) #Calculer la matrice de confusion pour évaluer la précision d'un classifieur.\n",
    "\n",
    "\n",
    "cl_f1_score_test = metrics.f1_score(y_test_cl,tmp_test_predict) #Calcul le score F1 (moyenne harmonique de la précision et du rappel)\n",
    "cl_recall_score_test = metrics.recall_score(y_test_cl,tmp_test_predict)\n",
    "#\n",
    "\n",
    "\n",
    "label  = ['score', 'accuracy_score', 'log_loss',  'hinge_loss',  'hamming_loss'  , 'f1_score' , 'recall_score']\n",
    "valeur_train = [cl_score,  cl_accuracy,    cl_log_loss,  cl_hinge_loss , cl_hamming_loss,  cl_f1_score , cl_recall_score]\n",
    "valeur_test = [cl_score_test,  cl_accuracy_test,    cl_log_loss_test,  cl_hinge_loss_test , cl_hamming_loss_test,  cl_f1_score_test , cl_recall_score_test]"
   ]
  },
  {
   "cell_type": "code",
   "execution_count": 33,
   "id": "22cd2e02",
   "metadata": {},
   "outputs": [
    {
     "data": {
      "image/png": "[encoded data removed]",
      "text/plain": [
       "<Figure size 640x480 with 1 Axes>"
      ]
     },
     "metadata": {},
     "output_type": "display_data"
    }
   ],
   "source": [
    "largeur_barre = 0.3\n",
    "position_entrain = [i for i in range(len(valeur_train))]\n",
    "position_test = [i + largeur_barre for i in range(len(valeur_test))]\n",
    "\n",
    "\n",
    "plt.xticks([r + largeur_barre / 2 for r in range(len(valeur_train))], label)\n",
    "\n",
    "\n",
    "plt.xticks(rotation= 'vertical')\n",
    "plt.bar(position_entrain,valeur_train   ,width=largeur_barre)\n",
    "plt.bar(position_test,valeur_test ,width=largeur_barre)\n",
    "plt.legend(['Train','Test'],loc=2)\n",
    "plt.title(\"Metrics du model de classification\");"
   ]
  },
  {
   "cell_type": "code",
   "execution_count": 34,
   "id": "1b2b901a",
   "metadata": {},
   "outputs": [
    {
     "data": {
      "text/plain": [
       "0.7016220600162206"
      ]
     },
     "execution_count": 34,
     "metadata": {},
     "output_type": "execute_result"
    }
   ],
   "source": [
    "cl_score"
   ]
  },
  {
   "cell_type": "markdown",
   "id": "d4bb944a",
   "metadata": {},
   "source": [
    "###  graph pour les metrics"
   ]
  },
  {
   "cell_type": "code",
   "execution_count": 35,
   "id": "09d23857",
   "metadata": {},
   "outputs": [
    {
     "data": {
      "text/plain": [
       "True"
      ]
     },
     "execution_count": 35,
     "metadata": {},
     "output_type": "execute_result"
    }
   ],
   "source": [
    "cl_accuracy_test == cl_score_test"
   ]
  },
  {
   "cell_type": "code",
   "execution_count": 36,
   "id": "3716f783",
   "metadata": {},
   "outputs": [
    {
     "data": {
      "text/plain": [
       "0.5671835463569714"
      ]
     },
     "execution_count": 36,
     "metadata": {},
     "output_type": "execute_result"
    }
   ],
   "source": [
    "np.sum(dataset_pour_classification['score']) / len(dataset_pour_classification)"
   ]
  },
  {
   "cell_type": "code",
   "execution_count": 37,
   "id": "4585b6b0",
   "metadata": {},
   "outputs": [
    {
     "data": {
      "image/png": "[encoded data removed]",
      "text/plain": [
       "<Figure size 1000x700 with 2 Axes>"
      ]
     },
     "metadata": {},
     "output_type": "display_data"
    }
   ],
   "source": [
    "plt.figure(figsize = (10,7))\n",
    "# plt.title(\"Matrice de confusion pour les donnees d'entrainement\")\n",
    "sn.heatmap(cl_confusion_matrix, annot=True);"
   ]
  },
  {
   "cell_type": "code",
   "execution_count": 38,
   "id": "3b4045c9",
   "metadata": {},
   "outputs": [],
   "source": [
    "TF = (720/(720+260))*100"
   ]
  },
  {
   "cell_type": "code",
   "execution_count": 39,
   "id": "f9f741c5",
   "metadata": {},
   "outputs": [
    {
     "data": {
      "image/png": "[encoded data removed]",
      "text/plain": [
       "<Figure size 1000x700 with 2 Axes>"
      ]
     },
     "metadata": {},
     "output_type": "display_data"
    }
   ],
   "source": [
    "plt.figure(figsize = (10,7))\n",
    "plt.title(\"Matrice de confusion pour les donnees de test\")\n",
    "sn.heatmap(cl_confusion_matrix_test, annot=True);"
   ]
  },
  {
   "cell_type": "code",
   "execution_count": 40,
   "id": "dddf4359",
   "metadata": {},
   "outputs": [
    {
     "name": "stdout",
     "output_type": "stream",
     "text": [
      "              precision    recall  f1-score   support\n",
      "\n",
      "       echec       0.68      0.59      0.63      5369\n",
      "       Admin       0.71      0.79      0.75      6961\n",
      "\n",
      "    accuracy                           0.70     12330\n",
      "   macro avg       0.70      0.69      0.69     12330\n",
      "weighted avg       0.70      0.70      0.70     12330\n",
      "\n"
     ]
    }
   ],
   "source": [
    "cl_classification_report = metrics.classification_report(y_train_cl,tmp_train_predict,target_names=['echec','Admin'])\n",
    "\n",
    "print(cl_classification_report)"
   ]
  },
  {
   "cell_type": "code",
   "execution_count": 41,
   "id": "e58f71dd",
   "metadata": {},
   "outputs": [
    {
     "name": "stdout",
     "output_type": "stream",
     "text": [
      "              precision    recall  f1-score   support\n",
      "\n",
      "       echec       0.67      0.60      0.63      1302\n",
      "       Admin       0.73      0.78      0.75      1781\n",
      "\n",
      "    accuracy                           0.71      3083\n",
      "   macro avg       0.70      0.69      0.69      3083\n",
      "weighted avg       0.70      0.71      0.70      3083\n",
      "\n"
     ]
    }
   ],
   "source": [
    "cl_classification_report_test = metrics.classification_report(y_test_cl,tmp_test_predict,target_names=['echec','Admin'])\n",
    "\n",
    "print(cl_classification_report_test)"
   ]
  },
  {
   "cell_type": "code",
   "execution_count": 42,
   "id": "29ca8629",
   "metadata": {},
   "outputs": [],
   "source": [
    "# dir(pipe)"
   ]
  },
  {
   "cell_type": "code",
   "execution_count": 43,
   "id": "7f63bbae",
   "metadata": {},
   "outputs": [],
   "source": [
    "X_train_cl_g = X_train_cl.to_numpy()\n",
    "y_train_cl_g = y_train_cl.to_numpy()"
   ]
  },
  {
   "cell_type": "code",
   "execution_count": 44,
   "id": "7d7f271a",
   "metadata": {},
   "outputs": [],
   "source": [
    "X_test_cl_g = X_test_cl.to_numpy()\n",
    "y_test_cl_g = y_test_cl.to_numpy()"
   ]
  },
  {
   "cell_type": "code",
   "execution_count": 45,
   "id": "da0dc9f4",
   "metadata": {},
   "outputs": [],
   "source": [
    "parameters_cl = {'alpha':np.logspace(-5, 1, 60)}"
   ]
  },
  {
   "cell_type": "markdown",
   "id": "23cfe76c",
   "metadata": {},
   "source": [
    "* Gridsearch method"
   ]
  },
  {
   "cell_type": "code",
   "execution_count": 47,
   "id": "ad789262",
   "metadata": {},
   "outputs": [],
   "source": [
    "GridSearchCV_cl = GridSearchCV(model_cl, parameters_cl, n_jobs = -1)"
   ]
  },
  {
   "cell_type": "code",
   "execution_count": 48,
   "id": "8c8d5f04",
   "metadata": {},
   "outputs": [],
   "source": [
    "# model_cl.get_params().keys()"
   ]
  },
  {
   "cell_type": "code",
   "execution_count": null,
   "id": "0cd43520",
   "metadata": {},
   "outputs": [],
   "source": [
    "GridSearchCV_cl.fit(X_train_cl_g, y_train_cl_g)"
   ]
  },
  {
   "cell_type": "code",
   "execution_count": null,
   "id": "f87fd259",
   "metadata": {},
   "outputs": [],
   "source": [
    "print(GridSearchCV_cl.best_params_)"
   ]
  },
  {
   "cell_type": "code",
   "execution_count": null,
   "id": "3b1a0570",
   "metadata": {},
   "outputs": [],
   "source": [
    "print(GridSearchCV_cl.best_score_)"
   ]
  },
  {
   "cell_type": "markdown",
   "id": "74a25bf4",
   "metadata": {},
   "source": [
    "# Regression"
   ]
  },
  {
   "cell_type": "markdown",
   "id": "37d80cd5",
   "metadata": {},
   "source": [
    "### Instenciation du model et fixation de l'hyperparamètre "
   ]
  },
  {
   "cell_type": "code",
   "execution_count": null,
   "id": "8c5c8066",
   "metadata": {},
   "outputs": [],
   "source": [
    "model_rg = SGDRegressor(loss='squared_error',random_state=10,learning_rate=\"constant\")\n",
    "\n",
    "Y_rg = dataset_pour_regression['score']\n",
    "X_rg = dataset_pour_regression.drop('score',axis=1)\n",
    "\n",
    "X_train_rg, X_test_rg, y_train_rg, y_test_rg = train_test_split(X_rg, Y_rg, random_state=2, train_size = .80)"
   ]
  },
  {
   "cell_type": "markdown",
   "id": "6938f1ce",
   "metadata": {},
   "source": [
    "### Critère d'optimisation et méthode d'optimisation"
   ]
  },
  {
   "cell_type": "code",
   "execution_count": null,
   "id": "f624707c",
   "metadata": {},
   "outputs": [],
   "source": [
    "#"
   ]
  },
  {
   "cell_type": "code",
   "execution_count": null,
   "id": "ab429006",
   "metadata": {},
   "outputs": [],
   "source": [
    "alpha_rg_PRECISION = getAlphaPourPrecision(X_train=X_train_rg, \n",
    "                                   X_test=X_test_rg, \n",
    "                                   y_train=y_train_rg, \n",
    "                                   y_test=y_test_rg,\n",
    "                                   model_=model_rg,\n",
    "                                   afficher_graph=True)\n",
    "alpha_rg_PRECISION"
   ]
  },
  {
   "cell_type": "code",
   "execution_count": null,
   "id": "b99f1ac7",
   "metadata": {},
   "outputs": [],
   "source": [
    "alpha_rg_ERREUR = getAplhaPourErreur(X_train=X_train_rg, \n",
    "                                   X_test=X_test_rg, \n",
    "                                   y_train=y_train_rg, \n",
    "                                   y_test=y_test_rg,\n",
    "                                   model_=model_rg,\n",
    "                                   afficher_graph=True,\n",
    "                                    regression=True)\n",
    "alpha_rg_ERREUR"
   ]
  },
  {
   "cell_type": "code",
   "execution_count": null,
   "id": "e4863421",
   "metadata": {},
   "outputs": [],
   "source": [
    "alpha_rg_ERREUR == alpha_rg_PRECISION # Paramètre optimal Alpha trouvé"
   ]
  },
  {
   "cell_type": "markdown",
   "id": "d36f8015",
   "metadata": {},
   "source": [
    "### Les metrics"
   ]
  },
  {
   "cell_type": "code",
   "execution_count": null,
   "id": "3a47e3c0",
   "metadata": {},
   "outputs": [],
   "source": [
    "model_rg.set_params(alpha=alpha_rg_ERREUR) # Affectation de Alpha\n",
    "model_rg.fit(X_train_rg,y_train_rg) # Entrainement du model\n",
    "\n",
    "# Entrainement \n",
    "rg_score_train = model_rg.score(X_train_rg,y_train_rg)\n",
    "rg_tmp_train_predict = model_rg.predict(X_train_rg)\n",
    "\n",
    "rg_mean_squared_error_train = metrics.mean_squared_error(y_train_rg,rg_tmp_train_predict)\n",
    "\n",
    "# metrics.confusion_matrix(y_train_rg,rg_tmp_train_predict)  #NON\n",
    "# rg_accuracy = metrics.accuracy_score(y_train_rg,rg_tmp_train_predict)   #NON\n",
    "# rg_log_loss = metrics.log_loss(y_train_rg,rg_tmp_train_predict)   #NON\n",
    "# tmp_test_predict\n",
    "\n",
    "#\n",
    "#\n",
    "#\n",
    "\n",
    "# Test\n",
    "rg_score_test = model_rg.score(X_test_rg,y_test_rg)\n",
    "rg_tmp_test_predict_test = model_rg.predict(X_test_rg)\n",
    "\n",
    "rg_mean_squared_error_test = metrics.mean_squared_error(y_test_rg,rg_tmp_test_predict_test)\n",
    "\n",
    "label_rg  =       ['score','mean_squared_error']\n",
    "valeur_train_rg = [rg_score_train,rg_mean_squared_error_train]\n",
    "valeur_test_rg = [rg_score_test,rg_mean_squared_error_test]\n",
    "valeur_test_rg"
   ]
  },
  {
   "cell_type": "code",
   "execution_count": null,
   "id": "1a74a36c",
   "metadata": {},
   "outputs": [],
   "source": [
    "largeur_barre_rg = 0.3\n",
    "position_train = [i for i in range(len(valeur_train_rg))]\n",
    "position_test = [i + largeur_barre for i in range(len(valeur_test_rg))]\n",
    "\n",
    "\n",
    "plt.xticks([r + largeur_barre_rg / 2 for r in range(len(valeur_train_rg))], label_rg)\n",
    "\n",
    "\n",
    "plt.xticks(rotation= 'vertical')\n",
    "plt.bar(position_train,valeur_train_rg   ,width=largeur_barre_rg)\n",
    "plt.bar(position_test,valeur_test_rg ,width=largeur_barre_rg)\n",
    "plt.legend(['Train','Test'],loc=2)\n",
    "plt.title(\"Metrics du model de regression\");"
   ]
  },
  {
   "cell_type": "code",
   "execution_count": null,
   "id": "0c86c04c",
   "metadata": {},
   "outputs": [],
   "source": [
    "plt.scatter([i for i in range(len(rg_tmp_test_predict_test))],  rg_tmp_test_predict_test);"
   ]
  },
  {
   "cell_type": "code",
   "execution_count": null,
   "id": "f1db917f",
   "metadata": {},
   "outputs": [],
   "source": [
    "plt.scatter([i for i in range(len(y_test_rg))],  y_test_rg);"
   ]
  },
  {
   "cell_type": "code",
   "execution_count": null,
   "id": "f6e7d172",
   "metadata": {},
   "outputs": [],
   "source": []
  },
  {
   "cell_type": "code",
   "execution_count": null,
   "id": "aa00c0d7",
   "metadata": {},
   "outputs": [],
   "source": [
    "X_train_rg_g = X_train_rg.to_numpy()\n",
    "y_train_rg_g = y_train_rg.to_numpy()"
   ]
  },
  {
   "cell_type": "code",
   "execution_count": null,
   "id": "558a7c1a",
   "metadata": {},
   "outputs": [],
   "source": [
    "X_test_rg_g = X_test_rg.to_numpy()\n",
    "y_test_rg_g = y_test_rg.to_numpy()"
   ]
  },
  {
   "cell_type": "code",
   "execution_count": null,
   "id": "766f9650",
   "metadata": {},
   "outputs": [],
   "source": [
    "parameters_rg = {'alpha':np.logspace(-5, 1, 60)}"
   ]
  },
  {
   "cell_type": "code",
   "execution_count": null,
   "id": "9f7f3948",
   "metadata": {},
   "outputs": [],
   "source": [
    "GridSearchCV_rg = GridSearchCV(model_rg, parameters_rg, n_jobs = -1)"
   ]
  },
  {
   "cell_type": "code",
   "execution_count": null,
   "id": "ad207f11",
   "metadata": {},
   "outputs": [],
   "source": []
  },
  {
   "cell_type": "code",
   "execution_count": null,
   "id": "e936c743",
   "metadata": {},
   "outputs": [],
   "source": [
    "GridSearchCV_rg.fit(X_train_rg_g, y_train_rg_g)"
   ]
  },
  {
   "cell_type": "code",
   "execution_count": null,
   "id": "a20a30d7",
   "metadata": {},
   "outputs": [],
   "source": [
    "print(GridSearchCV_rg.best_params_)"
   ]
  },
  {
   "cell_type": "code",
   "execution_count": null,
   "id": "773fd1f0",
   "metadata": {},
   "outputs": [],
   "source": []
  },
  {
   "cell_type": "code",
   "execution_count": null,
   "id": "95897c27",
   "metadata": {},
   "outputs": [],
   "source": [
    "print(GridSearchCV_rg.best_score_)"
   ]
  },
  {
   "cell_type": "code",
   "execution_count": null,
   "id": "430288db",
   "metadata": {},
   "outputs": [],
   "source": []
  },
  {
   "cell_type": "code",
   "execution_count": null,
   "id": "98812eaf",
   "metadata": {},
   "outputs": [],
   "source": []
  },
  {
   "cell_type": "code",
   "execution_count": null,
   "id": "3fc34566",
   "metadata": {},
   "outputs": [],
   "source": []
  },
  {
   "cell_type": "code",
   "execution_count": null,
   "id": "6f37461b",
   "metadata": {},
   "outputs": [],
   "source": []
  },
  {
   "cell_type": "code",
   "execution_count": null,
   "id": "7b2a5112",
   "metadata": {},
   "outputs": [],
   "source": []
  },
  {
   "cell_type": "code",
   "execution_count": null,
   "id": "f25eb560",
   "metadata": {},
   "outputs": [],
   "source": []
  },
  {
   "cell_type": "code",
   "execution_count": null,
   "id": "0a90bdbb",
   "metadata": {},
   "outputs": [],
   "source": []
  },
  {
   "cell_type": "code",
   "execution_count": null,
   "id": "4ffd076b",
   "metadata": {},
   "outputs": [],
   "source": []
  },
  {
   "cell_type": "code",
   "execution_count": null,
   "id": "f9577a17",
   "metadata": {},
   "outputs": [],
   "source": []
  },
  {
   "cell_type": "code",
   "execution_count": null,
   "id": "18463104",
   "metadata": {},
   "outputs": [],
   "source": []
  },
  {
   "cell_type": "code",
   "execution_count": null,
   "id": "3d27c517",
   "metadata": {},
   "outputs": [],
   "source": []
  },
  {
   "cell_type": "code",
   "execution_count": null,
   "id": "3ad21c5c",
   "metadata": {},
   "outputs": [],
   "source": []
  },
  {
   "cell_type": "code",
   "execution_count": null,
   "id": "df8fbc08",
   "metadata": {},
   "outputs": [],
   "source": []
  },
  {
   "cell_type": "code",
   "execution_count": null,
   "id": "4f6ef25c",
   "metadata": {},
   "outputs": [],
   "source": []
  },
  {
   "cell_type": "code",
   "execution_count": null,
   "id": "e319e4f5",
   "metadata": {},
   "outputs": [],
   "source": []
  },
  {
   "cell_type": "code",
   "execution_count": null,
   "id": "84502375",
   "metadata": {},
   "outputs": [],
   "source": []
  },
  {
   "cell_type": "code",
   "execution_count": null,
   "id": "ea6f6dc4",
   "metadata": {},
   "outputs": [],
   "source": []
  },
  {
   "cell_type": "code",
   "execution_count": null,
   "id": "2d6c30fc",
   "metadata": {},
   "outputs": [],
   "source": []
  },
  {
   "cell_type": "code",
   "execution_count": null,
   "id": "7cdf5596",
   "metadata": {},
   "outputs": [],
   "source": []
  },
  {
   "cell_type": "code",
   "execution_count": null,
   "id": "c5725dfc",
   "metadata": {},
   "outputs": [],
   "source": []
  },
  {
   "cell_type": "code",
   "execution_count": null,
   "id": "568546f0",
   "metadata": {},
   "outputs": [],
   "source": []
  },
  {
   "cell_type": "code",
   "execution_count": null,
   "id": "2e96771b",
   "metadata": {},
   "outputs": [],
   "source": []
  },
  {
   "cell_type": "code",
   "execution_count": null,
   "id": "976b6bbb",
   "metadata": {},
   "outputs": [],
   "source": []
  },
  {
   "cell_type": "code",
   "execution_count": null,
   "id": "ab9a9ca0",
   "metadata": {},
   "outputs": [],
   "source": []
  },
  {
   "cell_type": "code",
   "execution_count": null,
   "id": "8a9f7233",
   "metadata": {},
   "outputs": [],
   "source": []
  },
  {
   "cell_type": "code",
   "execution_count": null,
   "id": "2cc11591",
   "metadata": {},
   "outputs": [],
   "source": []
  },
  {
   "cell_type": "code",
   "execution_count": null,
   "id": "d3bce23a",
   "metadata": {},
   "outputs": [],
   "source": []
  },
  {
   "cell_type": "code",
   "execution_count": null,
   "id": "56e76025",
   "metadata": {},
   "outputs": [],
   "source": []
  },
  {
   "cell_type": "code",
   "execution_count": null,
   "id": "eacd921e",
   "metadata": {},
   "outputs": [],
   "source": []
  }
 ],
 "metadata": {
  "kernelspec": {
   "display_name": "Python 3 (ipykernel)",
   "language": "python",
   "name": "python3"
  },
  "language_info": {
   "codemirror_mode": {
    "name": "ipython",
    "version": 3
   },
   "file_extension": ".py",
   "mimetype": "text/x-python",
   "name": "python",
   "nbconvert_exporter": "python",
   "pygments_lexer": "ipython3",
   "version": "3.9.12"
  }
 },
 "nbformat": 4,
 "nbformat_minor": 5
}
