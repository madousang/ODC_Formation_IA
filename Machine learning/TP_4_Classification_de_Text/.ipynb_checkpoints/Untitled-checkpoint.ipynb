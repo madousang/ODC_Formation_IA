{
 "cells": [
  {
   "cell_type": "code",
   "execution_count": 1,
   "id": "083b20aa",
   "metadata": {},
   "outputs": [],
   "source": [
    "from sklearn.datasets import fetch_20newsgroups\n",
    "import numpy as np\n",
    "import pandas as pd\n",
    "import matplotlib.pyplot as plt\n",
    "from sklearn.feature_extraction.text import CountVectorizer\n",
    "from sklearn.feature_extraction.text import TfidfTransformer\n",
    "from sklearn.naive_bayes import MultinomialNB\n",
    "from sklearn.pipeline import Pipeline\n",
    "from sklearn.linear_model import SGDClassifier\n",
    "from sklearn import metrics\n",
    "from sklearn.model_selection import GridSearchCV\n",
    "import seaborn as sn"
   ]
  },
  {
   "cell_type": "markdown",
   "id": "7d6f2aa4",
   "metadata": {},
   "source": [
    "* Definition des catégories"
   ]
  },
  {
   "cell_type": "code",
   "execution_count": 2,
   "id": "784a797f",
   "metadata": {},
   "outputs": [],
   "source": [
    "categories = ['alt.atheism', 'soc.religion.christian',\n",
    "             'comp.graphics', 'sci.med']"
   ]
  },
  {
   "cell_type": "markdown",
   "id": "948965e5",
   "metadata": {},
   "source": [
    "* Chargement du dataset"
   ]
  },
  {
   "cell_type": "code",
   "execution_count": 3,
   "id": "b89ade8f",
   "metadata": {},
   "outputs": [],
   "source": [
    "twenty_train = fetch_20newsgroups(subset='train',\n",
    "     categories=categories, shuffle=True, random_state=42)"
   ]
  },
  {
   "cell_type": "markdown",
   "id": "75da73d8",
   "metadata": {},
   "source": [
    "* Affichage des attributs contenus dans le dataframe twenty_train"
   ]
  },
  {
   "cell_type": "code",
   "execution_count": 4,
   "id": "847fe995",
   "metadata": {},
   "outputs": [
    {
     "data": {
      "text/plain": [
       "['DESCR', 'data', 'filenames', 'target', 'target_names']"
      ]
     },
     "execution_count": 4,
     "metadata": {},
     "output_type": "execute_result"
    }
   ],
   "source": [
    "dir(twenty_train)"
   ]
  },
  {
   "cell_type": "code",
   "execution_count": 5,
   "id": "87d0ba79",
   "metadata": {},
   "outputs": [
    {
     "data": {
      "text/plain": [
       "['alt.atheism', 'comp.graphics', 'sci.med', 'soc.religion.christian']"
      ]
     },
     "execution_count": 5,
     "metadata": {},
     "output_type": "execute_result"
    }
   ],
   "source": [
    "# Affichage du nom des étiquettes\n",
    "twenty_train.target_names"
   ]
  },
  {
   "cell_type": "code",
   "execution_count": 6,
   "id": "bf5de3e4",
   "metadata": {},
   "outputs": [
    {
     "data": {
      "text/plain": [
       "array(['C:\\\\Users\\\\Usuario\\\\scikit_learn_data\\\\20news_home\\\\20news-bydate-train\\\\comp.graphics\\\\38440',\n",
       "       'C:\\\\Users\\\\Usuario\\\\scikit_learn_data\\\\20news_home\\\\20news-bydate-train\\\\comp.graphics\\\\38479',\n",
       "       'C:\\\\Users\\\\Usuario\\\\scikit_learn_data\\\\20news_home\\\\20news-bydate-train\\\\soc.religion.christian\\\\20737',\n",
       "       ...,\n",
       "       'C:\\\\Users\\\\Usuario\\\\scikit_learn_data\\\\20news_home\\\\20news-bydate-train\\\\sci.med\\\\58112',\n",
       "       'C:\\\\Users\\\\Usuario\\\\scikit_learn_data\\\\20news_home\\\\20news-bydate-train\\\\sci.med\\\\58578',\n",
       "       'C:\\\\Users\\\\Usuario\\\\scikit_learn_data\\\\20news_home\\\\20news-bydate-train\\\\sci.med\\\\58895'],\n",
       "      dtype='<U97')"
      ]
     },
     "execution_count": 6,
     "metadata": {},
     "output_type": "execute_result"
    }
   ],
   "source": [
    "# Affichage du chemin des documents relatifs aux categories\n",
    "twenty_train.filenames"
   ]
  },
  {
   "cell_type": "code",
   "execution_count": 7,
   "id": "22481336",
   "metadata": {},
   "outputs": [
    {
     "data": {
      "text/plain": [
       "array([0, 1, 2, 3], dtype=int64)"
      ]
     },
     "execution_count": 7,
     "metadata": {},
     "output_type": "execute_result"
    }
   ],
   "source": [
    "# Valeur unique des targets\n",
    "np.unique(twenty_train.target)"
   ]
  },
  {
   "cell_type": "code",
   "execution_count": 8,
   "id": "4ac8c0e8",
   "metadata": {},
   "outputs": [
    {
     "data": {
      "text/plain": [
       "(2257, 2257)"
      ]
     },
     "execution_count": 8,
     "metadata": {},
     "output_type": "execute_result"
    }
   ],
   "source": [
    "# Taille des données dans le dataset et taille des catégories dans le dataset\n",
    "len(twenty_train.data), len(twenty_train.filenames)"
   ]
  },
  {
   "cell_type": "markdown",
   "id": "460c9244",
   "metadata": {},
   "source": [
    "* Impression des premières lignes du premier fichier chargé "
   ]
  },
  {
   "cell_type": "code",
   "execution_count": 9,
   "id": "91baec5b",
   "metadata": {},
   "outputs": [
    {
     "name": "stdout",
     "output_type": "stream",
     "text": [
      "From: sd345@city.ac.uk (Michael Collier)\n",
      "Subject: Converting images to HP LaserJet III?\n",
      "Nntp-Posting-Host: hampton\n",
      "Organization: The City University\n",
      "Lines: 14\n",
      "\n",
      "Does anyone know of a good way (standard PC application/PD utility) to\n",
      "convert tif/img/tga files into LaserJet III format.  We would also like to\n",
      "do the same, converting to HPGL (HP plotter) files.\n",
      "\n",
      "Please email any response.\n",
      "\n",
      "Is this the correct group?\n",
      "\n",
      "Thanks in advance.  Michael.\n",
      "-- \n",
      "Michael Collier (Programmer)                 The Computer Unit,\n",
      "Email: M.P.Collier@uk.ac.city                The City University,\n",
      "Tel: 071 477-8000 x3769                      London,\n",
      "Fax: 071 477-8565                            EC1V 0HB.\n",
      "\n"
     ]
    }
   ],
   "source": [
    "print(\"\\n\".join(twenty_train.data[0].split(\"\\n\")))"
   ]
  },
  {
   "cell_type": "code",
   "execution_count": 10,
   "id": "1b2f484e",
   "metadata": {},
   "outputs": [
    {
     "name": "stdout",
     "output_type": "stream",
     "text": [
      "comp.graphics\n"
     ]
    }
   ],
   "source": [
    "# Affichage du nom de l'étiquette associé première ligne\n",
    "print(twenty_train.target_names[twenty_train.target[0]])"
   ]
  },
  {
   "cell_type": "code",
   "execution_count": 11,
   "id": "4392c28e",
   "metadata": {},
   "outputs": [
    {
     "data": {
      "text/plain": [
       "array([1, 1, 3, 3, 3, 3, 3, 2, 2, 2], dtype=int64)"
      ]
     },
     "execution_count": 11,
     "metadata": {},
     "output_type": "execute_result"
    }
   ],
   "source": [
    "twenty_train.target[:10]"
   ]
  },
  {
   "cell_type": "markdown",
   "id": "0b5485a1",
   "metadata": {},
   "source": [
    "* Affichage des noms des dix premier targets "
   ]
  },
  {
   "cell_type": "code",
   "execution_count": 12,
   "id": "8bdd5025",
   "metadata": {},
   "outputs": [
    {
     "name": "stdout",
     "output_type": "stream",
     "text": [
      "comp.graphics\n",
      "comp.graphics\n",
      "soc.religion.christian\n",
      "soc.religion.christian\n",
      "soc.religion.christian\n",
      "soc.religion.christian\n",
      "soc.religion.christian\n",
      "sci.med\n",
      "sci.med\n",
      "sci.med\n"
     ]
    }
   ],
   "source": [
    "for t in twenty_train.target[:10]:\n",
    "    print(twenty_train.target_names[t])"
   ]
  },
  {
   "cell_type": "markdown",
   "id": "47d51aa7",
   "metadata": {},
   "source": [
    "### Pretraitement du texte avec Countvectorizer : Tokenisation"
   ]
  },
  {
   "cell_type": "markdown",
   "id": "b61009f7",
   "metadata": {},
   "source": [
    "* Le prétraitement du texte, la segmentation et le filtrage des mots vides sont tous inclus dans CountVectorizer, qui crée un dictionnaire d'entités et transforme les documents en vecteurs d'entités\n",
    "* CountVectorizer prend en charge le nombre de N-grammes de mots ou de caractères consécutifs. Une fois ajusté, le vectoriseur a construit un dictionnaire d'indices de caractéristiques\n",
    "* N-grammes : le nombre de mot consideré comme un token (par ex : 2-grammes contient deux mots qui représente un token)"
   ]
  },
  {
   "cell_type": "code",
   "execution_count": 13,
   "id": "8bfc0673",
   "metadata": {},
   "outputs": [
    {
     "data": {
      "text/plain": [
       "(2257, 35788)"
      ]
     },
     "execution_count": 13,
     "metadata": {},
     "output_type": "execute_result"
    }
   ],
   "source": [
    "count_vect = CountVectorizer() # Instenciation \n",
    "X_train_counts = count_vect.fit_transform(twenty_train.data) # ajustement et transformation des données\n",
    "X_train_counts.shape # forme des données après ajustement"
   ]
  },
  {
   "cell_type": "code",
   "execution_count": 14,
   "id": "9d2f9b6f",
   "metadata": {},
   "outputs": [],
   "source": [
    "# count_vect.get_feature_names_out()"
   ]
  },
  {
   "cell_type": "markdown",
   "id": "d3a58669",
   "metadata": {},
   "source": [
    "* La valeur d'indice d'un mot dans le vocabulaire est liée à sa fréquence dans l'ensemble du corpus d'apprentissage."
   ]
  },
  {
   "cell_type": "code",
   "execution_count": 15,
   "id": "e9bff708",
   "metadata": {},
   "outputs": [
    {
     "data": {
      "text/plain": [
       "5549"
      ]
     },
     "execution_count": 15,
     "metadata": {},
     "output_type": "execute_result"
    }
   ],
   "source": [
    "# Affichage de la fréquence d'un mot dans le dataset\n",
    "count_vect.vocabulary_.get('as')"
   ]
  },
  {
   "cell_type": "markdown",
   "id": "f8ff7662",
   "metadata": {},
   "source": [
    "### Normalization : TfidfTransformer"
   ]
  },
  {
   "cell_type": "markdown",
   "id": "3cd52274",
   "metadata": {},
   "source": [
    "* L'objectif d'utiliser tf-idf au lieu des fréquences brutes d'occurrence d'un jeton dans un document donné est de réduire l'impact des jetons qui se produisent très fréquemment dans un corpus donné et qui sont donc empiriquement moins informatifs que les caractéristiques qui se produisent dans un petite fraction du corpus de formation.\n",
    "\n",
    "* Pour éviter les écarts potentiels, il suffit de diviser le nombre d'occurrences de chaque mot dans un document par le nombre total de mots dans le document : ces nouvelles fonctionnalités sont appelées **tf Term Frequencies**.\n",
    "\n",
    "* La réduction d'échelle est appelée **tf–idf** pour « **Term Frequency times Inverse Document Frequency** ».\n",
    "\n",
    "* **tf** et **tf–idf** peuvent être calculés comme suit en utilisant **TfidfTransformer**. \n",
    "\n",
    "* Le corpus est l'ensemble des documents "
   ]
  },
  {
   "cell_type": "code",
   "execution_count": 16,
   "id": "75e71c91",
   "metadata": {},
   "outputs": [
    {
     "data": {
      "text/plain": [
       "(2257, 35788)"
      ]
     },
     "execution_count": 16,
     "metadata": {},
     "output_type": "execute_result"
    }
   ],
   "source": [
    "tfidf_transformer = TfidfTransformer()\n",
    "X_train_tfidf = tfidf_transformer.fit_transform(X_train_counts)\n",
    "X_train_tfidf.shape"
   ]
  },
  {
   "cell_type": "markdown",
   "id": "39b82f48",
   "metadata": {},
   "source": [
    "### Model de classification"
   ]
  },
  {
   "cell_type": "code",
   "execution_count": 17,
   "id": "7602d53d",
   "metadata": {},
   "outputs": [],
   "source": [
    "clf = MultinomialNB() # Création d'un model naive_bayes MultinomialNB"
   ]
  },
  {
   "cell_type": "code",
   "execution_count": 18,
   "id": "07e5abbf",
   "metadata": {},
   "outputs": [
    {
     "data": {
      "text/plain": [
       "MultinomialNB()"
      ]
     },
     "execution_count": 18,
     "metadata": {},
     "output_type": "execute_result"
    }
   ],
   "source": [
    "clf.fit(X_train_tfidf, twenty_train.target) # Entrainement du model"
   ]
  },
  {
   "cell_type": "markdown",
   "id": "61a3c3bc",
   "metadata": {},
   "source": [
    "### Inférence"
   ]
  },
  {
   "cell_type": "code",
   "execution_count": 19,
   "id": "09f12a3c",
   "metadata": {},
   "outputs": [
    {
     "name": "stdout",
     "output_type": "stream",
     "text": [
      "'God is love' => soc.religion.christian\n",
      "'OpenGL on the GPU is fast' => comp.graphics\n"
     ]
    }
   ],
   "source": [
    "docs_new = ['God is love', 'OpenGL on the GPU is fast'] # création de nouvelles données\n",
    "#\n",
    "X_new_counts = count_vect.transform(docs_new) # Pretraitement\n",
    "X_new_tfidf = tfidf_transformer.transform(X_new_counts) # Normalisation\n",
    "#\n",
    "predicted = clf.predict(X_new_tfidf) # Prédiction sur les nouvelles données\n",
    "#\n",
    "# Affichage des résultats\n",
    "for doc, category in zip(docs_new, predicted):\n",
    "     print('%r => %s' % (doc, twenty_train.target_names[category]))"
   ]
  },
  {
   "cell_type": "markdown",
   "id": "8856792b",
   "metadata": {},
   "source": [
    "### Création d'un Pipeline"
   ]
  },
  {
   "cell_type": "markdown",
   "id": "3e17fdf6",
   "metadata": {},
   "source": [
    "* C'est un estimateur qui va contenir l'ensemble de nos traitements précedents : pretraitement, normalisation, et le model"
   ]
  },
  {
   "cell_type": "code",
   "execution_count": 20,
   "id": "8b30aa2b",
   "metadata": {},
   "outputs": [],
   "source": [
    "# Création du Pipeline\n",
    "text_clf = Pipeline([\n",
    "     ('vect', CountVectorizer()),\n",
    "    ('tfidf', TfidfTransformer()),\n",
    "     ('clf', MultinomialNB()),\n",
    "])"
   ]
  },
  {
   "cell_type": "code",
   "execution_count": 21,
   "id": "99c71400",
   "metadata": {},
   "outputs": [
    {
     "data": {
      "text/plain": [
       "Pipeline(steps=[('vect', CountVectorizer()), ('tfidf', TfidfTransformer()),\n",
       "                ('clf', MultinomialNB())])"
      ]
     },
     "execution_count": 21,
     "metadata": {},
     "output_type": "execute_result"
    }
   ],
   "source": [
    "# Entrainement du model avec l'estimateur pipeline\n",
    "text_clf.fit(twenty_train.data, twenty_train.target)"
   ]
  },
  {
   "cell_type": "code",
   "execution_count": 22,
   "id": "0159b859",
   "metadata": {},
   "outputs": [],
   "source": [
    "# Création d'un ensemble de test\n",
    "twenty_test = fetch_20newsgroups(subset='test',\n",
    "     categories=categories, shuffle=True, random_state=42)"
   ]
  },
  {
   "cell_type": "code",
   "execution_count": 23,
   "id": "8170e542",
   "metadata": {},
   "outputs": [],
   "source": [
    "docs_test = twenty_test.data"
   ]
  },
  {
   "cell_type": "code",
   "execution_count": null,
   "id": "77b75b04",
   "metadata": {},
   "outputs": [],
   "source": []
  },
  {
   "cell_type": "code",
   "execution_count": 24,
   "id": "439fdd1d",
   "metadata": {},
   "outputs": [],
   "source": [
    "# predicted"
   ]
  },
  {
   "cell_type": "code",
   "execution_count": 25,
   "id": "66cb3d97",
   "metadata": {},
   "outputs": [
    {
     "data": {
      "text/plain": [
       "0.8348868175765646"
      ]
     },
     "execution_count": 25,
     "metadata": {},
     "output_type": "execute_result"
    }
   ],
   "source": [
    "predicted = text_clf.predict(docs_test) # Prediction\n",
    "np.mean(predicted == twenty_test.target) # Calcul de la moyenne du tableau où les deux valeurs sont equivalentes"
   ]
  },
  {
   "cell_type": "markdown",
   "id": "7ad6d6b1",
   "metadata": {},
   "source": [
    "### Création d'un nouveau Pipeline"
   ]
  },
  {
   "cell_type": "code",
   "execution_count": 26,
   "id": "e8995d07",
   "metadata": {},
   "outputs": [
    {
     "data": {
      "text/plain": [
       "Pipeline(steps=[('vect', CountVectorizer()), ('tfidf', TfidfTransformer()),\n",
       "                ('clf',\n",
       "                 SGDClassifier(alpha=0.001, max_iter=5, random_state=42,\n",
       "                               tol=None))])"
      ]
     },
     "execution_count": 26,
     "metadata": {},
     "output_type": "execute_result"
    }
   ],
   "source": [
    "# Création d'un pipeline avec les classes CountVectorizer, et TfidfTransformer et le model SGDClassifier\n",
    "text_clf = Pipeline([\n",
    "     ('vect', CountVectorizer()),\n",
    "     ('tfidf', TfidfTransformer()),\n",
    "     ('clf', SGDClassifier(loss='hinge', penalty='l2',\n",
    "                           alpha=1e-3, random_state=42,\n",
    "                          max_iter=5, tol=None)),\n",
    "])\n",
    "\n",
    "text_clf.fit(twenty_train.data, twenty_train.target) # Entrainement du model"
   ]
  },
  {
   "cell_type": "code",
   "execution_count": 27,
   "id": "ffde03d8",
   "metadata": {},
   "outputs": [
    {
     "data": {
      "text/plain": [
       "0.9101198402130493"
      ]
     },
     "execution_count": 27,
     "metadata": {},
     "output_type": "execute_result"
    }
   ],
   "source": [
    "# Prediction et  Calcul de la moyenne du tableau où les deux valeurs sont equivalentes\n",
    "predicted = text_clf.predict(docs_test)\n",
    "\n",
    "np.mean(predicted == twenty_test.target)"
   ]
  },
  {
   "cell_type": "markdown",
   "id": "872e5f85",
   "metadata": {},
   "source": [
    "* Affichage des valeurs des differentes metrics de classification"
   ]
  },
  {
   "cell_type": "code",
   "execution_count": 28,
   "id": "0c3d2d9b",
   "metadata": {},
   "outputs": [
    {
     "name": "stdout",
     "output_type": "stream",
     "text": [
      "                        precision    recall  f1-score   support\n",
      "\n",
      "           alt.atheism       0.95      0.80      0.87       319\n",
      "         comp.graphics       0.87      0.98      0.92       389\n",
      "               sci.med       0.94      0.89      0.91       396\n",
      "soc.religion.christian       0.90      0.95      0.93       398\n",
      "\n",
      "              accuracy                           0.91      1502\n",
      "             macro avg       0.91      0.91      0.91      1502\n",
      "          weighted avg       0.91      0.91      0.91      1502\n",
      "\n"
     ]
    }
   ],
   "source": [
    "print(metrics.classification_report(twenty_test.target, predicted,\n",
    "    target_names=twenty_test.target_names))"
   ]
  },
  {
   "cell_type": "markdown",
   "id": "49d50947",
   "metadata": {},
   "source": [
    "* Affichage de la matrice de confusion"
   ]
  },
  {
   "cell_type": "code",
   "execution_count": 29,
   "id": "5581e6c4",
   "metadata": {},
   "outputs": [],
   "source": [
    "matrix = metrics.confusion_matrix(twenty_test.target, predicted)"
   ]
  },
  {
   "cell_type": "code",
   "execution_count": 30,
   "id": "4796b2f8",
   "metadata": {},
   "outputs": [
    {
     "data": {
      "image/png": "[encoded data removed]",
      "text/plain": [
       "<Figure size 1000x700 with 2 Axes>"
      ]
     },
     "metadata": {},
     "output_type": "display_data"
    }
   ],
   "source": [
    "plt.figure(figsize = (10,7))\n",
    "plt.title(\"Matrice de confusion\")\n",
    "sn.heatmap(matrix, annot=True);"
   ]
  },
  {
   "cell_type": "markdown",
   "id": "bdde74d7",
   "metadata": {},
   "source": [
    "### Utilisation de GridSearchCV"
   ]
  },
  {
   "cell_type": "markdown",
   "id": "be9fad94",
   "metadata": {},
   "source": [
    "* La méthode GridSearchCV est utilisée pour obtenir les paramètres optimaux du model"
   ]
  },
  {
   "cell_type": "code",
   "execution_count": 31,
   "id": "e5bda1cd",
   "metadata": {},
   "outputs": [],
   "source": [
    "parameters = {\n",
    "     'vect__ngram_range': [(1, 1), (1, 2)],\n",
    "     'tfidf__use_idf': (True, False),\n",
    "     'clf__alpha': (1e-2, 1e-3),\n",
    " }"
   ]
  },
  {
   "cell_type": "code",
   "execution_count": 32,
   "id": "821835c2",
   "metadata": {},
   "outputs": [],
   "source": [
    "gs_clf = GridSearchCV(text_clf, parameters, cv=5, n_jobs=-1) # Instenciation "
   ]
  },
  {
   "cell_type": "code",
   "execution_count": 33,
   "id": "53e2b776",
   "metadata": {},
   "outputs": [],
   "source": [
    "gs_clf = gs_clf.fit(twenty_train.data[:400], twenty_train.target[:400]) # Entrainement "
   ]
  },
  {
   "cell_type": "markdown",
   "id": "64950552",
   "metadata": {},
   "source": [
    "* Inference"
   ]
  },
  {
   "cell_type": "code",
   "execution_count": 34,
   "id": "b61e51cc",
   "metadata": {},
   "outputs": [
    {
     "data": {
      "text/plain": [
       "'soc.religion.christian'"
      ]
     },
     "execution_count": 34,
     "metadata": {},
     "output_type": "execute_result"
    }
   ],
   "source": [
    "twenty_train.target_names[gs_clf.predict(['God is love'])[0]]"
   ]
  },
  {
   "cell_type": "markdown",
   "id": "3d513d52",
   "metadata": {},
   "source": [
    "* Affichage du meilleur score"
   ]
  },
  {
   "cell_type": "code",
   "execution_count": 35,
   "id": "d2b4267f",
   "metadata": {},
   "outputs": [
    {
     "data": {
      "text/plain": [
       "0.9175000000000001"
      ]
     },
     "execution_count": 35,
     "metadata": {},
     "output_type": "execute_result"
    }
   ],
   "source": [
    "gs_clf.best_score_"
   ]
  },
  {
   "cell_type": "markdown",
   "id": "9ac85b4c",
   "metadata": {},
   "source": [
    "* Affichage des paramètres optimaux"
   ]
  },
  {
   "cell_type": "code",
   "execution_count": 36,
   "id": "d7d61f7a",
   "metadata": {},
   "outputs": [
    {
     "name": "stdout",
     "output_type": "stream",
     "text": [
      "clf__alpha: 0.001\n",
      "tfidf__use_idf: True\n",
      "vect__ngram_range: (1, 1)\n"
     ]
    }
   ],
   "source": [
    "for param_name in sorted(parameters.keys()):\n",
    "     print(\"%s: %r\" % (param_name, gs_clf.best_params_[param_name]))"
   ]
  },
  {
   "cell_type": "code",
   "execution_count": null,
   "id": "52b70ece",
   "metadata": {},
   "outputs": [],
   "source": []
  },
  {
   "cell_type": "code",
   "execution_count": null,
   "id": "89ccd652",
   "metadata": {},
   "outputs": [],
   "source": []
  }
 ],
 "metadata": {
  "kernelspec": {
   "display_name": "Python 3 (ipykernel)",
   "language": "python",
   "name": "python3"
  },
  "language_info": {
   "codemirror_mode": {
    "name": "ipython",
    "version": 3
   },
   "file_extension": ".py",
   "mimetype": "text/x-python",
   "name": "python",
   "nbconvert_exporter": "python",
   "pygments_lexer": "ipython3",
   "version": "3.9.12"
  }
 },
 "nbformat": 4,
 "nbformat_minor": 5
}
