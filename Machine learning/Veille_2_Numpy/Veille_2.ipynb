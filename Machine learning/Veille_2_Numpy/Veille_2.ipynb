{
 "cells": [
  {
   "cell_type": "markdown",
   "id": "9483cf9a",
   "metadata": {},
   "source": [
    "# Veille 2: Prise en main de la librairie Numpy"
   ]
  },
  {
   "cell_type": "markdown",
   "id": "df51d552",
   "metadata": {},
   "source": [
    "#### NumPy est une bibliothèque fondamentale sur laquelle reposent la plupart des bibliothèques de traitement de données Python largement utilisées (pandas, OpenCV), inspirées de (PyTorch) ou avec lesquelles elles peuvent partager efficacement des données (TensorFlow, Keras, etc.)."
   ]
  },
  {
   "cell_type": "markdown",
   "id": "6fc2108e",
   "metadata": {},
   "source": [
    "Le concept central de NumPy est un tableau à n dimensions. La beauté de cela est que la plupart des opérations se ressemblent, quel que soit le nombre de dimensions d'un tableau. Mais les cas 1D et 2D sont un peu particuliers. L'article est composé de trois parties :\n",
    "1. Vecteurs, les tableaux à une (1) dimension\n",
    "2. Matrices, les tableaux à deux (2) dimensions\n",
    "3. A 3 dimensions et plus"
   ]
  },
  {
   "cell_type": "markdown",
   "id": "6c09f0e8",
   "metadata": {},
   "source": [
    "## Tableau Numpy vs liste Python"
   ]
  },
  {
   "cell_type": "code",
   "execution_count": 306,
   "id": "9f899731",
   "metadata": {},
   "outputs": [],
   "source": [
    "import pandas as pd"
   ]
  },
  {
   "cell_type": "code",
   "execution_count": 1,
   "id": "300431ca",
   "metadata": {},
   "outputs": [
    {
     "data": {
      "text/plain": [
       "[2, 4, 6]"
      ]
     },
     "execution_count": 1,
     "metadata": {},
     "output_type": "execute_result"
    }
   ],
   "source": [
    "#Avec les listes\n",
    "a = [1,2,3]\n",
    "[q*2 for q in a]"
   ]
  },
  {
   "cell_type": "code",
   "execution_count": 2,
   "id": "e081c0c0",
   "metadata": {},
   "outputs": [
    {
     "data": {
      "text/plain": [
       "array([2, 4, 6])"
      ]
     },
     "execution_count": 2,
     "metadata": {},
     "output_type": "execute_result"
    }
   ],
   "source": [
    "#Avec NumPy\n",
    "import numpy as np\n",
    "a = np.array([1,2,3])\n",
    "a*2\n"
   ]
  },
  {
   "cell_type": "code",
   "execution_count": 4,
   "id": "fff1f64f",
   "metadata": {},
   "outputs": [
    {
     "data": {
      "text/plain": [
       "[5, 7, 9]"
      ]
     },
     "execution_count": 4,
     "metadata": {},
     "output_type": "execute_result"
    }
   ],
   "source": [
    "#Avec les listes\n",
    "a = [1,2,3]\n",
    "b = [4,5,6]\n",
    "[q+r for q, r in zip(a,b)]"
   ]
  },
  {
   "cell_type": "code",
   "execution_count": 2,
   "id": "a520ffd3",
   "metadata": {},
   "outputs": [
    {
     "name": "stdout",
     "output_type": "stream",
     "text": [
      "[5. 7. 9. 9.]\n"
     ]
    }
   ],
   "source": [
    "#Avec NumPy\n",
    "import numpy as np\n",
    "a = np.array([1.0,2.0,3.0,5.0])\n",
    "b = np.array([4,5,6,4])\n",
    "print(a+b)\n"
   ]
  },
  {
   "cell_type": "markdown",
   "id": "40fc1775",
   "metadata": {},
   "source": [
    "## Quelques caractéristiques des tableaux NumPy :\n",
    "\n",
    "- Plus compact, surtout lorsqu'il y a plus d'une dimension\n",
    "-  Plus rapide que les listes lorsque l'opération peut être vectorisée\n",
    "- Plus lent que les listes lorsque vous ajoutez des éléments à la fin\n",
    "- Généralement homogène : ne peut fonctionner rapidement qu'avec des éléments d'un seul type"
   ]
  },
  {
   "cell_type": "markdown",
   "id": "a5601314",
   "metadata": {},
   "source": [
    "### Quelques signification :\n",
    "- O(N) signifie que le temps nécessaire pour terminer l'opération est proportionnel à la taille du tableau.\n",
    "- O*(1) (le O(1) dit « amorti » ) signifie que le temps ne dépend généralement pas de la taille du tableau "
   ]
  },
  {
   "cell_type": "markdown",
   "id": "833505cf",
   "metadata": {},
   "source": [
    "## 1. Vecteurs, les tableaux à une (1) dimension"
   ]
  },
  {
   "cell_type": "markdown",
   "id": "81228bb0",
   "metadata": {},
   "source": [
    "##### Initialisation vectorielle\n",
    "Une façon de créer un tableau NumPy consiste à convertir une liste Python. Le type sera automatiquement déduit des types d'éléments de la liste."
   ]
  },
  {
   "cell_type": "markdown",
   "id": "ac2672dc",
   "metadata": {},
   "source": [
    "### - fonction dtype :\n",
    "Elle permet de déterminer le type d'une donnée."
   ]
  },
  {
   "cell_type": "code",
   "execution_count": 27,
   "id": "d5bd02d6",
   "metadata": {},
   "outputs": [
    {
     "data": {
      "text/plain": [
       "dtype('int32')"
      ]
     },
     "execution_count": 27,
     "metadata": {},
     "output_type": "execute_result"
    }
   ],
   "source": [
    "a = np.array([1,2,3])\n",
    "a.dtype"
   ]
  },
  {
   "cell_type": "code",
   "execution_count": 28,
   "id": "a28c279f",
   "metadata": {},
   "outputs": [
    {
     "data": {
      "text/plain": [
       "dtype('float64')"
      ]
     },
     "execution_count": 28,
     "metadata": {},
     "output_type": "execute_result"
    }
   ],
   "source": [
    "b = np.array([1.,2.,3.])\n",
    "b.dtype"
   ]
  },
  {
   "cell_type": "markdown",
   "id": "fe17e2c6",
   "metadata": {},
   "source": [
    "### - fonction shape :\n",
    "Elle permet de déterminer la taille d'un tableau."
   ]
  },
  {
   "cell_type": "code",
   "execution_count": 29,
   "id": "7d77bb6f",
   "metadata": {},
   "outputs": [
    {
     "data": {
      "text/plain": [
       "(5,)"
      ]
     },
     "execution_count": 29,
     "metadata": {},
     "output_type": "execute_result"
    }
   ],
   "source": [
    "b = np.array([1.,2.,3.,0.0,5.6])\n",
    "b.shape"
   ]
  },
  {
   "cell_type": "markdown",
   "id": "273abbc6",
   "metadata": {},
   "source": [
    "### - Preallocation d'espace : Tableau Numpy\n",
    "#### - Quelques fonctions utiles :\n",
    "- zeros()\n",
    "- empty()\n",
    "###### Elles permettent d'allouer l'espace necessaire passé en premier paramètre tout en donnant le type de donnée en second paramètre "
   ]
  },
  {
   "cell_type": "code",
   "execution_count": 34,
   "id": "fb101595",
   "metadata": {},
   "outputs": [
    {
     "data": {
      "text/plain": [
       "array([0., 0., 0., 0., 0.])"
      ]
     },
     "execution_count": 34,
     "metadata": {},
     "output_type": "execute_result"
    }
   ],
   "source": [
    "b = np.zeros(5,float)\n",
    "b"
   ]
  },
  {
   "cell_type": "code",
   "execution_count": 37,
   "id": "44be3f97",
   "metadata": {},
   "outputs": [
    {
     "data": {
      "text/plain": [
       "array([0., 0., 0., 0., 0.])"
      ]
     },
     "execution_count": 37,
     "metadata": {},
     "output_type": "execute_result"
    }
   ],
   "source": [
    "b = np.empty(5,float)\n",
    "b"
   ]
  },
  {
   "cell_type": "markdown",
   "id": "1832d116",
   "metadata": {},
   "source": [
    "### - fonction zeros_like() :\n",
    "Elle permet de créer un tableau vide qui corresponde à celui existant par forme et type d'éléments."
   ]
  },
  {
   "cell_type": "code",
   "execution_count": 111,
   "id": "84a58bf6",
   "metadata": {},
   "outputs": [
    {
     "data": {
      "text/plain": [
       "array([0, 0, 0])"
      ]
     },
     "execution_count": 111,
     "metadata": {},
     "output_type": "execute_result"
    }
   ],
   "source": [
    "c = np.zeros_like(b)\n",
    "c"
   ]
  },
  {
   "cell_type": "markdown",
   "id": "634082e6",
   "metadata": {},
   "source": [
    "### - Remarque : \n",
    "Toutes les fonctions qui créent un tableau rempli d'une valeur constante ont une contrepartie _like.\n",
    "On distingue : \n",
    "- zeros() -> zeros_like()\n",
    "- ones() -> ones_like()\n",
    "- empty() -> empty_like()\n",
    "- full() -> full_like(), prend 2 paramètres, le premier est pour la taille du tableau et le second initialise le tableau en une variable donnée."
   ]
  },
  {
   "cell_type": "code",
   "execution_count": 51,
   "id": "f5dfb8b6",
   "metadata": {},
   "outputs": [],
   "source": [
    "a = np.array([1,2,3])"
   ]
  },
  {
   "cell_type": "code",
   "execution_count": 52,
   "id": "af08b025",
   "metadata": {},
   "outputs": [
    {
     "data": {
      "text/plain": [
       "array([0., 0., 0.])"
      ]
     },
     "execution_count": 52,
     "metadata": {},
     "output_type": "execute_result"
    }
   ],
   "source": [
    "# Cré un tableau de réel à une (1) dimension de taille 3 contenant que 0.0\n",
    "np.zeros(3)"
   ]
  },
  {
   "cell_type": "code",
   "execution_count": 53,
   "id": "358566f2",
   "metadata": {},
   "outputs": [
    {
     "data": {
      "text/plain": [
       "array([0, 0, 0])"
      ]
     },
     "execution_count": 53,
     "metadata": {},
     "output_type": "execute_result"
    }
   ],
   "source": [
    "# Initialise le tableau a en une même dimension et même taille contenant que des entiers (0)\n",
    "np.zeros_like(a)"
   ]
  },
  {
   "cell_type": "code",
   "execution_count": 85,
   "id": "a86eaecb",
   "metadata": {},
   "outputs": [],
   "source": [
    "b = np.array([4,5,6])"
   ]
  },
  {
   "cell_type": "code",
   "execution_count": 54,
   "id": "ae73603b",
   "metadata": {},
   "outputs": [
    {
     "data": {
      "text/plain": [
       "array([1., 1., 1.])"
      ]
     },
     "execution_count": 54,
     "metadata": {},
     "output_type": "execute_result"
    }
   ],
   "source": [
    "# Cré un tableau de réel à une dimension de taille 3 contenant que des 1.0\n",
    "np.ones(3)"
   ]
  },
  {
   "cell_type": "code",
   "execution_count": 60,
   "id": "6fe156a2",
   "metadata": {},
   "outputs": [
    {
     "data": {
      "text/plain": [
       "array([1, 1, 1])"
      ]
     },
     "execution_count": 60,
     "metadata": {},
     "output_type": "execute_result"
    }
   ],
   "source": [
    "# Initialise le tableau b en une même dimension et même taille contenant que des entiers (1)\n",
    "np.ones_like(b)"
   ]
  },
  {
   "cell_type": "code",
   "execution_count": 87,
   "id": "e5d035c0",
   "metadata": {},
   "outputs": [],
   "source": [
    "c = np.array([7,8,9])"
   ]
  },
  {
   "cell_type": "code",
   "execution_count": 88,
   "id": "b72e38ac",
   "metadata": {},
   "outputs": [
    {
     "data": {
      "text/plain": [
       "array([1., 1., 1.])"
      ]
     },
     "execution_count": 88,
     "metadata": {},
     "output_type": "execute_result"
    }
   ],
   "source": [
    "# Cré un tableau de réel à une dimension de taille 3 contenant que 1.0\n",
    "np.empty(3)"
   ]
  },
  {
   "cell_type": "code",
   "execution_count": 89,
   "id": "abe6f2c0",
   "metadata": {},
   "outputs": [
    {
     "data": {
      "text/plain": [
       "array([7, 8, 9])"
      ]
     },
     "execution_count": 89,
     "metadata": {},
     "output_type": "execute_result"
    }
   ],
   "source": [
    "# Reproduit le même tableau c en une même dimension et même taille contenant les mêmes éléments\n",
    "np.empty_like(c)"
   ]
  },
  {
   "cell_type": "code",
   "execution_count": 92,
   "id": "b32ca0a5",
   "metadata": {},
   "outputs": [],
   "source": [
    "d = np.array([10,11,12])"
   ]
  },
  {
   "cell_type": "code",
   "execution_count": 93,
   "id": "c3d782f3",
   "metadata": {},
   "outputs": [
    {
     "data": {
      "text/plain": [
       "array([5., 5., 5.])"
      ]
     },
     "execution_count": 93,
     "metadata": {},
     "output_type": "execute_result"
    }
   ],
   "source": [
    "# Cré un tableau de réel à une dimension de taille 3 contenant que 7.0\n",
    "np.full(3, 5.)"
   ]
  },
  {
   "cell_type": "code",
   "execution_count": 96,
   "id": "7163a7d9",
   "metadata": {},
   "outputs": [
    {
     "data": {
      "text/plain": [
       "array([8, 8, 8])"
      ]
     },
     "execution_count": 96,
     "metadata": {},
     "output_type": "execute_result"
    }
   ],
   "source": [
    "# Initialise le tableau d en une même dimension et même taille contenant que la variable passé en paramètre.\n",
    "np.full_like(d, 8)"
   ]
  },
  {
   "cell_type": "markdown",
   "id": "5ba53889",
   "metadata": {},
   "source": [
    "##### Il existe jusqu'à deux fonctions pour l'initialisation d'un tableau avec une séquence monotone dans NumPy : \n",
    "On a la fonction arange() et la fonction linspace()."
   ]
  },
  {
   "cell_type": "markdown",
   "id": "a250f2ad",
   "metadata": {},
   "source": [
    "### - fonction arange() :\n",
    "Elle permet de créer un tableau tout en passant en paramètre le debut, la fin et le pas (np.arange(debut, fin, pas)).\n",
    "Elle exclut la valeur maximale à moins qu'une erreur d'arrondi n'en fasse autrement (avec les flottants).\n",
    "Elle est surtout utilisé pour créer un tableau d'entiers.\n"
   ]
  },
  {
   "cell_type": "code",
   "execution_count": 101,
   "id": "f1653527",
   "metadata": {},
   "outputs": [
    {
     "data": {
      "text/plain": [
       "array([ 2,  5,  8, 11, 14])"
      ]
     },
     "execution_count": 101,
     "metadata": {},
     "output_type": "execute_result"
    }
   ],
   "source": [
    "np.arange(2, 15, 3)"
   ]
  },
  {
   "cell_type": "markdown",
   "id": "8dbd950c",
   "metadata": {},
   "source": [
    "### - fonction linspace() :\n",
    "Elle permet de créer un tableau tout en passant en paramètre le debut, la fin et le nombre d'étape (np.arange(debut, fin, nb_etape)).\n",
    "Elle permet de définir le nombre de valeurs que vous obtenez, y compris les valeurs min et max spécifiées.\n",
    "On peut ne pas lui passé un 3ème paramètre, dans ce cas elle générera un tableau de réel automatiquement."
   ]
  },
  {
   "cell_type": "code",
   "execution_count": 109,
   "id": "6ed752fd",
   "metadata": {},
   "outputs": [
    {
     "data": {
      "text/plain": [
       "array([ 3.,  7., 11., 15.])"
      ]
     },
     "execution_count": 109,
     "metadata": {},
     "output_type": "execute_result"
    }
   ],
   "source": [
    "np.linspace(3, 15, 4)"
   ]
  },
  {
   "cell_type": "code",
   "execution_count": 110,
   "id": "c425a647",
   "metadata": {},
   "outputs": [
    {
     "data": {
      "text/plain": [
       "array([ 3.        ,  3.24489796,  3.48979592,  3.73469388,  3.97959184,\n",
       "        4.2244898 ,  4.46938776,  4.71428571,  4.95918367,  5.20408163,\n",
       "        5.44897959,  5.69387755,  5.93877551,  6.18367347,  6.42857143,\n",
       "        6.67346939,  6.91836735,  7.16326531,  7.40816327,  7.65306122,\n",
       "        7.89795918,  8.14285714,  8.3877551 ,  8.63265306,  8.87755102,\n",
       "        9.12244898,  9.36734694,  9.6122449 ,  9.85714286, 10.10204082,\n",
       "       10.34693878, 10.59183673, 10.83673469, 11.08163265, 11.32653061,\n",
       "       11.57142857, 11.81632653, 12.06122449, 12.30612245, 12.55102041,\n",
       "       12.79591837, 13.04081633, 13.28571429, 13.53061224, 13.7755102 ,\n",
       "       14.02040816, 14.26530612, 14.51020408, 14.75510204, 15.        ])"
      ]
     },
     "execution_count": 110,
     "metadata": {},
     "output_type": "execute_result"
    }
   ],
   "source": [
    "np.linspace(3, 15, )"
   ]
  },
  {
   "cell_type": "markdown",
   "id": "51d51179",
   "metadata": {},
   "source": [
    "### - fonction random() :\n",
    "Elle permet de générer des tableaux aléatoires. Il en exite : "
   ]
  },
  {
   "cell_type": "markdown",
   "id": "79ff7c31",
   "metadata": {},
   "source": [
    "#### - La fonction random.randint() : \n",
    "Elle prend 3 paramètres et permet de générer un tableau aléatoire d'entier : np.random.randint(debut, fin, nombre_de chiffre_entre_debut_fin)"
   ]
  },
  {
   "cell_type": "code",
   "execution_count": 139,
   "id": "f43f1d9e",
   "metadata": {},
   "outputs": [
    {
     "data": {
      "text/plain": [
       "array([ 5, 15, 18, 20, 15, 18, 18, 24,  1,  0, 35, 39,  8,  4, 30, 25,  3,\n",
       "       26, 34, 25, 18, 35, 28, 37,  9, 29,  3, 11, 19,  1,  3,  8,  8,  9,\n",
       "       29, 15, 38, 48,  1,  0, 27, 25,  5, 24, 12,  0, 40, 42, 37, 10, 15,\n",
       "        7,  1, 40, 28, 20, 24, 37, 25, 40, 18, 33,  8, 47, 14, 23, 41, 30,\n",
       "       29, 41, 23,  7, 44, 42, 33,  0, 20, 29, 39, 26, 47, 31,  4, 21, 42,\n",
       "       31, 39,  9, 25, 17, 34, 18, 36, 10, 17, 14, 12, 20, 47, 19])"
      ]
     },
     "execution_count": 139,
     "metadata": {},
     "output_type": "execute_result"
    }
   ],
   "source": [
    "np.random.randint(0, 50, 100)"
   ]
  },
  {
   "cell_type": "markdown",
   "id": "388058e8",
   "metadata": {},
   "source": [
    "#### - La fonction random.rand() : \n",
    "Elle prend 1 paramètre et permet de générer un tableau aléatoire de réel compris entre [0, 1] : np.random.rand(taille_tableau)"
   ]
  },
  {
   "cell_type": "code",
   "execution_count": 134,
   "id": "4f46de93",
   "metadata": {},
   "outputs": [
    {
     "data": {
      "text/plain": [
       "array([0.85548992, 0.45446359, 0.15506042, 0.57739044, 0.40516275,\n",
       "       0.73819698, 0.0077023 ])"
      ]
     },
     "execution_count": 134,
     "metadata": {},
     "output_type": "execute_result"
    }
   ],
   "source": [
    "np.random.rand(7)"
   ]
  },
  {
   "cell_type": "markdown",
   "id": "18ac1f79",
   "metadata": {},
   "source": [
    "#### - La fonction random.randn() : \n",
    "Elle prend 1 paramètre et permet de générer un tableau aléatoire de réel négatif ou positif : np.random.randn(taille_tableau)"
   ]
  },
  {
   "cell_type": "code",
   "execution_count": 137,
   "id": "528b8bd4",
   "metadata": {},
   "outputs": [
    {
     "data": {
      "text/plain": [
       "array([-0.66602909,  0.18673709, -1.36894216, -0.77820593, -0.50200695])"
      ]
     },
     "execution_count": 137,
     "metadata": {},
     "output_type": "execute_result"
    }
   ],
   "source": [
    "np.random.randn(5)"
   ]
  },
  {
   "cell_type": "markdown",
   "id": "c4591b17",
   "metadata": {},
   "source": [
    "#### - La fonction random.uniform() : \n",
    "Elle prend 3 paramètres et permet de générer un tableau aléatoire de réel compris entre le min et le max du tableau et tous les deux inclus : np.random.uniform(debut, fin, nombre_de chiffre_entre_debut_fin)"
   ]
  },
  {
   "cell_type": "code",
   "execution_count": 142,
   "id": "cc35d4d7",
   "metadata": {},
   "outputs": [
    {
     "data": {
      "text/plain": [
       "array([15.36083155, 17.1938518 , 17.85640537, 16.28254119, 24.97351206,\n",
       "       12.66679954,  3.48992437, 13.38387986,  9.53726017, 26.70908248,\n",
       "        8.5732048 ,  7.96494029, 12.96874114, 14.04926132, 12.9259246 ,\n",
       "        8.01027122, 13.42419612, 21.8279461 ,  8.93619995,  6.81400017,\n",
       "       16.29487989, 21.74575155, 23.97825279, 27.39862947, 25.19112031,\n",
       "        8.90630099, 14.09243285,  1.96702547, 19.38639327,  2.77131323,\n",
       "       26.71460613,  1.70993688, 15.59779167, 23.88270855, 12.33814709,\n",
       "       12.50657814, 11.1039969 , 11.62738107,  3.98203133,  3.09941983,\n",
       "       10.69836564,  8.28401198,  2.49753299, 19.33372866, 26.64317713,\n",
       "       15.85199058, 13.88873694,  8.61630354, 20.82352266, 16.02877696])"
      ]
     },
     "execution_count": 142,
     "metadata": {},
     "output_type": "execute_result"
    }
   ],
   "source": [
    "np.random.uniform(1, 30, 50)"
   ]
  },
  {
   "cell_type": "markdown",
   "id": "176dbf74",
   "metadata": {},
   "source": [
    "#### - La fonction random.normal() : \n",
    "Elle prend 3 paramètres et permet de générer un tableau aléatoire de réel : np.random.normal(moyenne, ecart_type, taille_tableau)"
   ]
  },
  {
   "cell_type": "code",
   "execution_count": 149,
   "id": "7bd3bf06",
   "metadata": {},
   "outputs": [
    {
     "data": {
      "text/plain": [
       "array([[ 3.55163512, 12.54148262,  7.19923881],\n",
       "       [13.32847803,  4.32043048, -0.19986943]])"
      ]
     },
     "execution_count": 149,
     "metadata": {},
     "output_type": "execute_result"
    }
   ],
   "source": [
    "np.random.normal(8, 4, size=(2, 3))\n",
    "#np.random.normal(size=(2, 3))"
   ]
  },
  {
   "cell_type": "markdown",
   "id": "d811ce2e",
   "metadata": {},
   "source": [
    "#### - NB : \n",
    "##### Il existe également une nouvelle interface pour la génération de tableaux aléatoires (ci-dessous). Il est : \n",
    "##### > Mieux adapté au multi-threading\n",
    "##### > Un peu plus rapide\n",
    "##### > Plus configurable \n",
    "##### > Capable de passer deux tests synthétiques délicats que l'ancienne version échoue.\n"
   ]
  },
  {
   "cell_type": "code",
   "execution_count": 153,
   "id": "e7287abb",
   "metadata": {},
   "outputs": [],
   "source": [
    "rng = np.random.default_rng(45)"
   ]
  },
  {
   "cell_type": "raw",
   "id": "9903051e",
   "metadata": {},
   "source": [
    "rng.integers(0, 10)"
   ]
  },
  {
   "cell_type": "code",
   "execution_count": 156,
   "id": "3f4c4b12",
   "metadata": {},
   "outputs": [
    {
     "data": {
      "text/plain": [
       "array([0.05488732, 0.11987991, 0.70230947, 0.04407558, 0.70020679,\n",
       "       0.41987544, 0.36937176, 0.15392513, 0.10637131, 0.12538958])"
      ]
     },
     "execution_count": 156,
     "metadata": {},
     "output_type": "execute_result"
    }
   ],
   "source": [
    "rng.random(10)"
   ]
  },
  {
   "cell_type": "code",
   "execution_count": 158,
   "id": "d4b5cf93",
   "metadata": {},
   "outputs": [
    {
     "data": {
      "text/plain": [
       "array([4.98661049, 2.28353946, 5.96329664, 3.62023971, 2.99464608,\n",
       "       9.93994526, 4.86748979, 7.53756994, 3.68255885, 2.10856223,\n",
       "       9.79808851, 7.78653384, 7.6572234 , 8.54728598, 4.55304202,\n",
       "       5.49045492, 4.99950801, 8.99431163, 4.52789617, 4.72444167])"
      ]
     },
     "execution_count": 158,
     "metadata": {},
     "output_type": "execute_result"
    }
   ],
   "source": [
    "rng.uniform(2, 10, 20)"
   ]
  },
  {
   "cell_type": "code",
   "execution_count": 160,
   "id": "3a13f527",
   "metadata": {},
   "outputs": [
    {
     "data": {
      "text/plain": [
       "array([6.98028342, 4.39709788, 5.38671864])"
      ]
     },
     "execution_count": 160,
     "metadata": {},
     "output_type": "execute_result"
    }
   ],
   "source": [
    "rng.normal(5, 2, 3)"
   ]
  },
  {
   "cell_type": "code",
   "execution_count": 165,
   "id": "19f0d174",
   "metadata": {},
   "outputs": [
    {
     "data": {
      "text/plain": [
       "array([-1.26072181,  0.99830614, -0.65722162,  0.28175016,  0.93672138])"
      ]
     },
     "execution_count": 165,
     "metadata": {},
     "output_type": "execute_result"
    }
   ],
   "source": [
    "#Même fonction que rng.random() mais de moyenne = 0 et d'écart-type = 1\n",
    "rng.standard_normal(5)"
   ]
  },
  {
   "cell_type": "markdown",
   "id": "8082bce0",
   "metadata": {},
   "source": [
    "### 1.1 Indexation vectorielle\n",
    "Il en existe plusieurs manières :"
   ]
  },
  {
   "cell_type": "code",
   "execution_count": 168,
   "id": "5cd79cf1",
   "metadata": {},
   "outputs": [
    {
     "data": {
      "text/plain": [
       "array([1, 2, 3, 4, 5, 6, 7, 8, 9])"
      ]
     },
     "execution_count": 168,
     "metadata": {},
     "output_type": "execute_result"
    }
   ],
   "source": [
    "a = np.arange(1, 10)\n",
    "a"
   ]
  },
  {
   "cell_type": "code",
   "execution_count": 169,
   "id": "379cba9a",
   "metadata": {},
   "outputs": [
    {
     "data": {
      "text/plain": [
       "2"
      ]
     },
     "execution_count": 169,
     "metadata": {},
     "output_type": "execute_result"
    }
   ],
   "source": [
    "a[1]"
   ]
  },
  {
   "cell_type": "code",
   "execution_count": 170,
   "id": "092c67ea",
   "metadata": {},
   "outputs": [
    {
     "data": {
      "text/plain": [
       "array([3, 4, 5, 6])"
      ]
     },
     "execution_count": 170,
     "metadata": {},
     "output_type": "execute_result"
    }
   ],
   "source": [
    "a[2:6]"
   ]
  },
  {
   "cell_type": "code",
   "execution_count": 171,
   "id": "7ffc6d6f",
   "metadata": {},
   "outputs": [
    {
     "data": {
      "text/plain": [
       "array([8, 9])"
      ]
     },
     "execution_count": 171,
     "metadata": {},
     "output_type": "execute_result"
    }
   ],
   "source": [
    "a[-2:]"
   ]
  },
  {
   "cell_type": "code",
   "execution_count": 174,
   "id": "12f1ace0",
   "metadata": {},
   "outputs": [],
   "source": [
    "a[2:4] = 0"
   ]
  },
  {
   "cell_type": "code",
   "execution_count": 175,
   "id": "2544d403",
   "metadata": {},
   "outputs": [
    {
     "data": {
      "text/plain": [
       "array([1, 2, 0, 0, 5, 6, 7, 8, 9])"
      ]
     },
     "execution_count": 175,
     "metadata": {},
     "output_type": "execute_result"
    }
   ],
   "source": [
    "a"
   ]
  },
  {
   "cell_type": "code",
   "execution_count": 178,
   "id": "cff69b55",
   "metadata": {},
   "outputs": [
    {
     "data": {
      "text/plain": [
       "array([1, 3, 4, 0, 5, 6, 7, 8, 9])"
      ]
     },
     "execution_count": 178,
     "metadata": {},
     "output_type": "execute_result"
    }
   ],
   "source": [
    "a[1:3] = [3, 4]\n",
    "a"
   ]
  },
  {
   "cell_type": "markdown",
   "id": "eebd9c16",
   "metadata": {},
   "source": [
    "#### - Fonction de copy des données : "
   ]
  },
  {
   "cell_type": "code",
   "execution_count": 180,
   "id": "3534c59b",
   "metadata": {},
   "outputs": [
    {
     "data": {
      "text/plain": [
       "array([1, 3, 4, 0, 5, 6, 7, 8, 9])"
      ]
     },
     "execution_count": 180,
     "metadata": {},
     "output_type": "execute_result"
    }
   ],
   "source": [
    "b = a.copy()\n",
    "b"
   ]
  },
  {
   "cell_type": "markdown",
   "id": "5fc03b91",
   "metadata": {},
   "source": [
    "#### - L'indexation booléenne : "
   ]
  },
  {
   "cell_type": "code",
   "execution_count": 426,
   "id": "40582344",
   "metadata": {},
   "outputs": [
    {
     "data": {
      "text/plain": [
       "array([ 1,  2,  3,  4,  5,  6,  7,  8,  9, 10, 11, 12, 13])"
      ]
     },
     "execution_count": 426,
     "metadata": {},
     "output_type": "execute_result"
    }
   ],
   "source": [
    "a = np.arange(1, 14)\n",
    "a"
   ]
  },
  {
   "cell_type": "code",
   "execution_count": 428,
   "id": "5affd3b8",
   "metadata": {},
   "outputs": [
    {
     "name": "stdout",
     "output_type": "stream",
     "text": [
      "Essai_1 : 4\n",
      "Essai_2 : [4]\n",
      "Essai_3 : [ 4  5  6  7  8  9 10 11 12 13]\n",
      "Essai_4 : [ 1  4  7 10 13]\n",
      "Essai_5 : [12 13]\n",
      "Essai_6 : [2 4 6]\n"
     ]
    }
   ],
   "source": [
    "print(\"Essai_1 :\",a[3])\n",
    "print(\"Essai_2 :\",a[3:4])\n",
    "print(\"Essai_3 :\",a[3:])\n",
    "print(\"Essai_4 :\",a[::3]) #a[debut:fin:pas]\n",
    "print(\"Essai_5 :\",a[-2:])\n",
    "print(\"Essai_6 :\",a[[1, 3, 5]])"
   ]
  },
  {
   "cell_type": "code",
   "execution_count": 240,
   "id": "020b4f49",
   "metadata": {},
   "outputs": [
    {
     "data": {
      "text/plain": [
       "array([1, 2, 3, 4, 5, 6, 7, 6, 5, 4, 3, 2, 1])"
      ]
     },
     "execution_count": 240,
     "metadata": {},
     "output_type": "execute_result"
    }
   ],
   "source": [
    "a[7:12] = [6,5,4,3,2]\n",
    "a[12] = 1\n",
    "a\n",
    "#b = a.copy()"
   ]
  },
  {
   "cell_type": "code",
   "execution_count": 200,
   "id": "da651f1a",
   "metadata": {},
   "outputs": [
    {
     "data": {
      "text/plain": [
       "array([False, False, False, False, False,  True,  True,  True, False,\n",
       "       False, False, False, False])"
      ]
     },
     "execution_count": 200,
     "metadata": {},
     "output_type": "execute_result"
    }
   ],
   "source": [
    "a>5"
   ]
  },
  {
   "cell_type": "code",
   "execution_count": 201,
   "id": "4437ae52",
   "metadata": {},
   "outputs": [
    {
     "data": {
      "text/plain": [
       "True"
      ]
     },
     "execution_count": 201,
     "metadata": {},
     "output_type": "execute_result"
    }
   ],
   "source": [
    "np.any(a>5)"
   ]
  },
  {
   "cell_type": "code",
   "execution_count": 202,
   "id": "482c72a9",
   "metadata": {},
   "outputs": [
    {
     "data": {
      "text/plain": [
       "False"
      ]
     },
     "execution_count": 202,
     "metadata": {},
     "output_type": "execute_result"
    }
   ],
   "source": [
    "np.all(a>5)"
   ]
  },
  {
   "cell_type": "code",
   "execution_count": 203,
   "id": "e85f06ff",
   "metadata": {},
   "outputs": [
    {
     "data": {
      "text/plain": [
       "array([6, 7, 6])"
      ]
     },
     "execution_count": 203,
     "metadata": {},
     "output_type": "execute_result"
    }
   ],
   "source": [
    "a[a>5]"
   ]
  },
  {
   "cell_type": "code",
   "execution_count": 205,
   "id": "93206017",
   "metadata": {},
   "outputs": [
    {
     "data": {
      "text/plain": [
       "array([1, 2, 3, 4, 5, 0, 0, 0, 5, 4, 3, 2, 1])"
      ]
     },
     "execution_count": 205,
     "metadata": {},
     "output_type": "execute_result"
    }
   ],
   "source": [
    "a[a>5] = 0\n",
    "a"
   ]
  },
  {
   "cell_type": "code",
   "execution_count": 210,
   "id": "061775a4",
   "metadata": {},
   "outputs": [
    {
     "data": {
      "text/plain": [
       "array([1, 2, 0, 0, 0, 6, 7, 6, 0, 0, 0, 2, 1])"
      ]
     },
     "execution_count": 210,
     "metadata": {},
     "output_type": "execute_result"
    }
   ],
   "source": [
    "a[5:8] = [6, 7, 6]\n",
    "a[(a>=3) & (a<=5)] = 0\n",
    "a"
   ]
  },
  {
   "cell_type": "markdown",
   "id": "53c9ae4f",
   "metadata": {},
   "source": [
    "#### - Utilisation de quelques fonctions :"
   ]
  },
  {
   "cell_type": "code",
   "execution_count": 211,
   "id": "1dc71b2a",
   "metadata": {},
   "outputs": [
    {
     "data": {
      "text/plain": [
       "(array([5, 6, 7], dtype=int64),)"
      ]
     },
     "execution_count": 211,
     "metadata": {},
     "output_type": "execute_result"
    }
   ],
   "source": [
    "#np.where()\n",
    "np.where(a>5)"
   ]
  },
  {
   "cell_type": "code",
   "execution_count": 212,
   "id": "15cc864e",
   "metadata": {},
   "outputs": [
    {
     "data": {
      "text/plain": [
       "(array([5, 6, 7], dtype=int64),)"
      ]
     },
     "execution_count": 212,
     "metadata": {},
     "output_type": "execute_result"
    }
   ],
   "source": [
    "#np.nonzero()\n",
    "np.nonzero(a>5)"
   ]
  },
  {
   "cell_type": "code",
   "execution_count": 231,
   "id": "d25ce1f3",
   "metadata": {},
   "outputs": [
    {
     "data": {
      "text/plain": [
       "array([1, 2, 3, 4, 5, 6, 7, 6, 5, 4, 3, 2, 1])"
      ]
     },
     "execution_count": 231,
     "metadata": {},
     "output_type": "execute_result"
    }
   ],
   "source": [
    "b"
   ]
  },
  {
   "cell_type": "code",
   "execution_count": 238,
   "id": "63bbda3a",
   "metadata": {},
   "outputs": [
    {
     "data": {
      "text/plain": [
       "array([0, 0, 0, 0, 5, 6, 7, 6, 5, 0, 0, 0, 0])"
      ]
     },
     "execution_count": 238,
     "metadata": {},
     "output_type": "execute_result"
    }
   ],
   "source": [
    "b[b < 5] = 0 \n",
    "b"
   ]
  },
  {
   "cell_type": "code",
   "execution_count": 239,
   "id": "3c1b5a2c",
   "metadata": {},
   "outputs": [
    {
     "data": {
      "text/plain": [
       "array([0, 0, 0, 0, 1, 1, 1, 1, 1, 0, 0, 0, 0])"
      ]
     },
     "execution_count": 239,
     "metadata": {},
     "output_type": "execute_result"
    }
   ],
   "source": [
    "b[b >= 5] = 1\n",
    "b"
   ]
  },
  {
   "cell_type": "code",
   "execution_count": 228,
   "id": "117d52bc",
   "metadata": {},
   "outputs": [
    {
     "data": {
      "text/plain": [
       "array([0, 0, 0, 0, 1, 1, 1, 1, 1, 0, 0, 0, 0])"
      ]
     },
     "execution_count": 228,
     "metadata": {},
     "output_type": "execute_result"
    }
   ],
   "source": [
    "np.where(a>=5, 1, 0)"
   ]
  },
  {
   "cell_type": "code",
   "execution_count": 232,
   "id": "8e120082",
   "metadata": {},
   "outputs": [
    {
     "data": {
      "text/plain": [
       "array([2, 2, 3, 4, 5, 6, 7, 6, 5, 4, 3, 2, 2])"
      ]
     },
     "execution_count": 232,
     "metadata": {},
     "output_type": "execute_result"
    }
   ],
   "source": [
    "b[b<2] = 2 \n",
    "b"
   ]
  },
  {
   "cell_type": "code",
   "execution_count": 234,
   "id": "7fa7052d",
   "metadata": {},
   "outputs": [
    {
     "data": {
      "text/plain": [
       "array([2, 2, 3, 4, 5, 5, 5, 5, 5, 4, 3, 2, 2])"
      ]
     },
     "execution_count": 234,
     "metadata": {},
     "output_type": "execute_result"
    }
   ],
   "source": [
    "b[b>5] = 5\n",
    "b"
   ]
  },
  {
   "cell_type": "code",
   "execution_count": 235,
   "id": "3e2ab8e1",
   "metadata": {},
   "outputs": [
    {
     "data": {
      "text/plain": [
       "array([2, 2, 3, 4, 5, 5, 5, 5, 5, 4, 3, 2, 2])"
      ]
     },
     "execution_count": 235,
     "metadata": {},
     "output_type": "execute_result"
    }
   ],
   "source": [
    "np.clip(a, 2, 5)"
   ]
  },
  {
   "cell_type": "code",
   "execution_count": 241,
   "id": "f9d28f32",
   "metadata": {},
   "outputs": [
    {
     "data": {
      "text/plain": [
       "array([5, 6, 7], dtype=int64)"
      ]
     },
     "execution_count": 241,
     "metadata": {},
     "output_type": "execute_result"
    }
   ],
   "source": [
    "np.where(a>5)[0] "
   ]
  },
  {
   "cell_type": "code",
   "execution_count": 242,
   "id": "35121671",
   "metadata": {},
   "outputs": [
    {
     "data": {
      "text/plain": [
       "array([5, 6, 7], dtype=int64)"
      ]
     },
     "execution_count": 242,
     "metadata": {},
     "output_type": "execute_result"
    }
   ],
   "source": [
    "np.nonzero(a>5)[0]"
   ]
  },
  {
   "cell_type": "markdown",
   "id": "759d8e15",
   "metadata": {},
   "source": [
    "###### - NB : Notez que np.where avec un argument renvoie un tuple de tableaux (1-tuple dans le cas 1D, 2-tuple dans le cas 2D, etc.), (idem pour np.nonzero)"
   ]
  },
  {
   "cell_type": "markdown",
   "id": "2ca15fb7",
   "metadata": {},
   "source": [
    "#### - Opérations vectorielles : \n",
    "Il existe plusieurs opérateurs : "
   ]
  },
  {
   "cell_type": "code",
   "execution_count": 321,
   "id": "cf8b9ecc",
   "metadata": {},
   "outputs": [
    {
     "name": "stdout",
     "output_type": "stream",
     "text": [
      "[5 7]\n",
      "[ 3 -3]\n",
      "[ 4 10]\n",
      "[4.  0.4]\n",
      "[4 1]\n",
      "[64  8]\n"
     ]
    }
   ],
   "source": [
    "#Addition\n",
    "print(np.array([4, 2]) + np.array([1, 5]))\n",
    "#Soustraction\n",
    "print(np.array([4, 2]) - np.array([1, 5]))\n",
    "#Multiplication\n",
    "print(np.array([4, 2]) * np.array([1, 5]))\n",
    "#Division réelle dont le quotient et le reste sont réelles\n",
    "print(np.array([4, 2]) / np.array([1, 5]))\n",
    "#division entière dont le quotient et le re#ste sont entières\n",
    "print(np.array([4, 2]) // np.array([1, 2]))\n",
    "#Elévation en puissance ou exposant\n",
    "print(np.array([4, 2])**3)"
   ]
  },
  {
   "cell_type": "markdown",
   "id": "640f8255",
   "metadata": {},
   "source": [
    "#### - Remarque : \n",
    "La plupart des fonctions mathématiques ont des homologues NumPy qui peuvent gérer des vecteurs :"
   ]
  },
  {
   "cell_type": "code",
   "execution_count": 257,
   "id": "331e0fa7",
   "metadata": {},
   "outputs": [
    {
     "name": "stdout",
     "output_type": "stream",
     "text": [
      "[3. 2.]\n",
      "[2.71828183 7.3890561 ]\n",
      "[0.69314718 1.60943791]\n"
     ]
    }
   ],
   "source": [
    "#La racine carrée\n",
    "print(np.sqrt([9, 4]))\n",
    "#L'exponantielle\n",
    "print(np.exp([1, 2]))\n",
    "#Le logarithme\n",
    "print(np.log([2, 5]))"
   ]
  },
  {
   "cell_type": "markdown",
   "id": "dbb95790",
   "metadata": {},
   "source": [
    "##### Le produit scalaire et le produit vectorielle ont leurs propres opérateurs :"
   ]
  },
  {
   "cell_type": "code",
   "execution_count": 250,
   "id": "f94e8e3b",
   "metadata": {},
   "outputs": [
    {
     "data": {
      "text/plain": [
       "11"
      ]
     },
     "execution_count": 250,
     "metadata": {},
     "output_type": "execute_result"
    }
   ],
   "source": [
    "#Produit scalaire\n",
    "np.dot([1,2],[3,4])"
   ]
  },
  {
   "cell_type": "code",
   "execution_count": 262,
   "id": "a8c7b9b4",
   "metadata": {},
   "outputs": [
    {
     "data": {
      "text/plain": [
       "array([-32,  51,  -1])"
      ]
     },
     "execution_count": 262,
     "metadata": {},
     "output_type": "execute_result"
    }
   ],
   "source": [
    "#Produit vectorielle\n",
    "np.cross([3, 2, 6], [11, 7, 5])"
   ]
  },
  {
   "cell_type": "markdown",
   "id": "8ca5d8c1",
   "metadata": {},
   "source": [
    "##### Quelques fonction trigonométriques :"
   ]
  },
  {
   "cell_type": "code",
   "execution_count": 263,
   "id": "59b37943",
   "metadata": {},
   "outputs": [
    {
     "data": {
      "text/plain": [
       "array([1.2246468e-16, 1.0000000e+00])"
      ]
     },
     "execution_count": 263,
     "metadata": {},
     "output_type": "execute_result"
    }
   ],
   "source": [
    "np.sin([np.pi, np.pi/2])"
   ]
  },
  {
   "cell_type": "code",
   "execution_count": 264,
   "id": "ba7abd9a",
   "metadata": {},
   "outputs": [
    {
     "data": {
      "text/plain": [
       "array([0.        , 1.57079633])"
      ]
     },
     "execution_count": 264,
     "metadata": {},
     "output_type": "execute_result"
    }
   ],
   "source": [
    "np.arcsin([0, 1])"
   ]
  },
  {
   "cell_type": "code",
   "execution_count": 270,
   "id": "b171c23d",
   "metadata": {},
   "outputs": [
    {
     "data": {
      "text/plain": [
       "array([0.        , 0.78539816])"
      ]
     },
     "execution_count": 270,
     "metadata": {},
     "output_type": "execute_result"
    }
   ],
   "source": [
    "np.arctan([0, 1])"
   ]
  },
  {
   "cell_type": "code",
   "execution_count": 271,
   "id": "b606d815",
   "metadata": {},
   "outputs": [
    {
     "data": {
      "text/plain": [
       "array([0.        , 1.57079633])"
      ]
     },
     "execution_count": 271,
     "metadata": {},
     "output_type": "execute_result"
    }
   ],
   "source": [
    "np.arctan2([0, 1], [1, 0])"
   ]
  },
  {
   "cell_type": "markdown",
   "id": "7bcfca2f",
   "metadata": {},
   "source": [
    "##### Les tableaux peuvent être arrondis dans leur ensemble, on a au moins trois fonctions : "
   ]
  },
  {
   "cell_type": "code",
   "execution_count": 280,
   "id": "7ce67c8e",
   "metadata": {},
   "outputs": [
    {
     "name": "stdout",
     "output_type": "stream",
     "text": [
      "[1. 1. 1. 2.]\n",
      "[2. 2. 2. 3.]\n",
      "[1. 2. 2. 2.]\n",
      "[1. 2. 2. 2.]\n"
     ]
    }
   ],
   "source": [
    "#np.floor() arrondit à -∞\n",
    "print(np.floor([1.4, 1.5, 1.9, 2.5]))\n",
    "#np.ceil() arrondit à +∞ \n",
    "print(np.ceil([1.1, 1.4, 1.9, 2.5]))\n",
    "#np.round() = np.around() arrondit en excès à l'entier le plus proche ( à partir de 0,5)\n",
    "print(np.round([1.4, 1.5, 1.9, 2.5]))\n",
    "print(np.around([1.4, 1.5, 1.9, 2.5]))"
   ]
  },
  {
   "cell_type": "markdown",
   "id": "57ac8304",
   "metadata": {},
   "source": [
    "##### Fonctions statistiques de base :  "
   ]
  },
  {
   "cell_type": "code",
   "execution_count": 290,
   "id": "6419d726",
   "metadata": {},
   "outputs": [
    {
     "data": {
      "text/plain": [
       "array([ 2, 11, 15,  4,  8, 13,  8])"
      ]
     },
     "execution_count": 290,
     "metadata": {},
     "output_type": "execute_result"
    }
   ],
   "source": [
    "a = np.random.randint(0, 20, 7)\n",
    "a"
   ]
  },
  {
   "cell_type": "code",
   "execution_count": 295,
   "id": "a202e106",
   "metadata": {},
   "outputs": [
    {
     "name": "stdout",
     "output_type": "stream",
     "text": [
      "Le maximum du tableau a est :  15\n",
      "Indexe du maximum du tableau a est :  2\n",
      "Le minimum du tableau a est :  2\n",
      "Indexe du minimum du tableau a est :  0\n",
      "La somme des éléments du tableau a est :  61\n",
      "La variance du tableau a est :  18.775510204081634\n",
      "La moyenne du tableau a est :  8.714285714285714\n",
      "Ecart-type du tableau a est :  4.333071682315172\n"
     ]
    }
   ],
   "source": [
    "#Fonction de calcul du maximum np.max() ou tab.max() (tab est un tableau)\n",
    "print(\"Le maximum du tableau a est : \",a.max())\n",
    "#Fonction de recherche l'indexe du maximum argmax()\n",
    "print(\"Indexe du maximum du tableau a est : \",a.argmax())\n",
    "#Fonction de calcul du minimum tab.min()\n",
    "print(\"Le minimum du tableau a est : \",a.min())\n",
    "#Fonction de recherche l'indexe du minimum argmin()\n",
    "print(\"Indexe du minimum du tableau a est : \",a.argmin())\n",
    "#Fonction de calcul de somme tab.sum()\n",
    "print(\"La somme des éléments du tableau a est : \",a.sum())\n",
    "#Fonction de calcul de la variance tab.var()\n",
    "print(\"La variance du tableau a est : \",a.var())\n",
    "#Fonction de calcul de la moyenne tab.mean()\n",
    "print(\"La moyenne du tableau a est : \",a.mean())\n",
    "#Fonction de calcul de l'écart-type tab.std()\n",
    "print(\"Ecart-type du tableau a est : \",a.std())"
   ]
  },
  {
   "cell_type": "markdown",
   "id": "a0d8ae94",
   "metadata": {},
   "source": [
    "##### la correction de Bessel  sur l'écart-type : "
   ]
  },
  {
   "cell_type": "code",
   "execution_count": 300,
   "id": "c4f839bb",
   "metadata": {},
   "outputs": [
    {
     "data": {
      "text/plain": [
       "array([1, 2, 3])"
      ]
     },
     "execution_count": 300,
     "metadata": {},
     "output_type": "execute_result"
    }
   ],
   "source": [
    "a = np.arange(1,4)\n",
    "a"
   ]
  },
  {
   "cell_type": "code",
   "execution_count": 311,
   "id": "c4824abd",
   "metadata": {},
   "outputs": [
    {
     "name": "stdout",
     "output_type": "stream",
     "text": [
      "Ecart-type :  0.816496580927726\n",
      "Ecart-type avec le correctif de Bessel :  1.0\n",
      "Ecart-type avec la bibliothèque Pandas :  0    0.816497\n",
      "dtype: float64\n"
     ]
    }
   ],
   "source": [
    "print(\"Ecart-type : \",a.std())\n",
    "#Fonction utilisant le correctif de Bessel\n",
    "print(\"Ecart-type avec le correctif de Bessel : \",a.std(ddof = 1))\n",
    "#La fonction std() utilise la correction de Bessel par défaut dans la bibliothèque Pandas\n",
    "print(\"Ecart-type avec la bibliothèque Pandas : \",pd.Series(a.std()))"
   ]
  },
  {
   "cell_type": "markdown",
   "id": "d03f6861",
   "metadata": {},
   "source": [
    "##### Avec une taille d'échantillon croissant la correction du Bessel diminue rapidement "
   ]
  },
  {
   "cell_type": "code",
   "execution_count": 326,
   "id": "fd3b8033",
   "metadata": {},
   "outputs": [
    {
     "name": "stdout",
     "output_type": "stream",
     "text": [
      "res1 =  None\n",
      "res2 =  None\n",
      "res3 =  None\n",
      "res1 =  None\n",
      "res2 =  None\n",
      "res3 =  None\n",
      "res1 =  None\n",
      "res2 =  None\n",
      "res3 =  None\n",
      "res1 =  None\n",
      "res2 =  None\n",
      "res3 =  None\n",
      "res1 =  None\n",
      "res2 =  None\n",
      "res3 =  None\n",
      "res1 =  None\n",
      "res2 =  None\n",
      "res3 =  None\n",
      "res1 =  None\n",
      "res2 =  None\n",
      "res3 =  None\n",
      "res1 =  None\n",
      "res2 =  None\n",
      "res3 =  None\n",
      "res1 =  None\n",
      "res2 =  None\n",
      "res3 =  None\n",
      "res1 =  None\n",
      "res2 =  None\n",
      "res3 =  None\n"
     ]
    }
   ],
   "source": [
    "res1 , res2, res3 = [], [], []\n",
    "for i in range(10):\n",
    "    a = np.random.randn(5)\n",
    "    print(\"res1 = \",res1.append(a.std()))\n",
    "    print(\"res2 = \",res2.append(a.std(ddof = 1)))\n",
    "    print(\"res3 = \",res3.append(a.std(ddof = 1.5)))"
   ]
  },
  {
   "cell_type": "code",
   "execution_count": 327,
   "id": "6f044efb",
   "metadata": {},
   "outputs": [
    {
     "name": "stdout",
     "output_type": "stream",
     "text": [
      "la moyenne de res1 =  0.7200491658325623\n",
      "la moyenne de res2 =  0.8050394409718142\n",
      "la moyenne de res3 =  0.8606233631304437\n"
     ]
    }
   ],
   "source": [
    "print(\"la moyenne de res1 = \",np.mean(res1))\n",
    "print(\"la moyenne de res2 = \",np.mean(res2))\n",
    "print(\"la moyenne de res3 = \",np.mean(res3))"
   ]
  },
  {
   "cell_type": "markdown",
   "id": "0dbf4324",
   "metadata": {},
   "source": [
    "### - les fonctions de tris :\n",
    "Elles ont moins de fonctionnalités que leurs homologues Python."
   ]
  },
  {
   "cell_type": "code",
   "execution_count": 338,
   "id": "536564f9",
   "metadata": {},
   "outputs": [
    {
     "data": {
      "text/plain": [
       "array([ 3,  6, 13,  3,  7, 13, 13,  2,  3, 13])"
      ]
     },
     "execution_count": 338,
     "metadata": {},
     "output_type": "execute_result"
    }
   ],
   "source": [
    "c = np.random.randint(1, 15, 10)\n",
    "c"
   ]
  },
  {
   "cell_type": "code",
   "execution_count": 339,
   "id": "5a8e3d1b",
   "metadata": {},
   "outputs": [
    {
     "name": "stdout",
     "output_type": "stream",
     "text": [
      "Le tableau trié est :  None\n",
      "Le tableau trié est :  [ 2  3  3  3  6  7 13 13 13 13]\n"
     ]
    }
   ],
   "source": [
    "#En Numpy\n",
    "print(\"Le tableau trié est : \",c.sort())\n",
    "print(\"Le tableau trié est : \",np.sort(c))"
   ]
  },
  {
   "cell_type": "code",
   "execution_count": 358,
   "id": "03a83930",
   "metadata": {},
   "outputs": [
    {
     "name": "stdout",
     "output_type": "stream",
     "text": [
      "Le tableau trié est :  None\n",
      "Le tableau trié est :  [2, 3, 3, 3, 6, 7, 13, 13, 13, 13]\n",
      "Le tableau trié est :  [6, 2, 7, 3, 3, 3, 13, 13, 13, 13]\n"
     ]
    }
   ],
   "source": [
    "#En Python\n",
    "def func(x):\n",
    "    return x % 5\n",
    "print(\"La liste triée est : \",c.sort())\n",
    "print(\"La liste triée est : \",sorted(c))\n",
    "print(\"La liste triée est : \",sorted(c, key = func))#Classe les élts de la liste selon la valeur modulo calculée"
   ]
  },
  {
   "cell_type": "markdown",
   "id": "0d0791ab",
   "metadata": {},
   "source": [
    "### - Recherche d'un élément dans un vecteur : \n",
    "Contrairement aux listes Python, un tableau NumPy n'a pas de méthode index. La demande de fonctionnalité correspondante est en suspens depuis un certain temps maintenant."
   ]
  },
  {
   "cell_type": "code",
   "execution_count": 452,
   "id": "b96b2f4f",
   "metadata": {},
   "outputs": [
    {
     "data": {
      "text/plain": [
       "array([19, 14, 12, 18, 13,  5,  6, 18,  4,  7,  1, 11, 19,  5, 14])"
      ]
     },
     "execution_count": 452,
     "metadata": {},
     "output_type": "execute_result"
    }
   ],
   "source": [
    "d = np.random.randint(1, 20, 15)\n",
    "d"
   ]
  },
  {
   "cell_type": "code",
   "execution_count": 373,
   "id": "efcc10f1",
   "metadata": {},
   "outputs": [
    {
     "data": {
      "text/plain": [
       "[2, 14, [12, 0, 47, 5, 1], 2, 16]"
      ]
     },
     "execution_count": 373,
     "metadata": {},
     "output_type": "execute_result"
    }
   ],
   "source": [
    "a1 = [12, 0, 47, 5, 1]\n",
    "b1 = [2, 14, a1, 2, 16]\n",
    "b1"
   ]
  },
  {
   "cell_type": "code",
   "execution_count": 476,
   "id": "5dcf4270",
   "metadata": {},
   "outputs": [
    {
     "data": {
      "text/plain": [
       "13"
      ]
     },
     "execution_count": 476,
     "metadata": {},
     "output_type": "execute_result"
    }
   ],
   "source": [
    "#Permet de trouver l'indice d'une valeur valeur dans le tableau (d==5), \n",
    "#premier indice designe la ligne et le deuxième designe la colonne\n",
    "np.where(d==5)[0][1]"
   ]
  },
  {
   "cell_type": "code",
   "execution_count": 477,
   "id": "6b443c56",
   "metadata": {},
   "outputs": [
    {
     "data": {
      "text/plain": [
       "3"
      ]
     },
     "execution_count": 477,
     "metadata": {},
     "output_type": "execute_result"
    }
   ],
   "source": [
    "#Permet de trouver l'indice d'une valeur dans le tableau (v==18)\n",
    "f = next((i[0] for i, v in np.ndenumerate(d) if v==18), -1)\n",
    "f"
   ]
  },
  {
   "cell_type": "code",
   "execution_count": 480,
   "id": "aefe35bf",
   "metadata": {},
   "outputs": [
    {
     "data": {
      "text/plain": [
       "3"
      ]
     },
     "execution_count": 480,
     "metadata": {},
     "output_type": "execute_result"
    }
   ],
   "source": [
    "#Permet de trouver l'indice d'une valeur dans le tableau (v==18)\n",
    "k = np.searchsorted(d, 18)\n",
    "k"
   ]
  },
  {
   "cell_type": "markdown",
   "id": "608b678b",
   "metadata": {},
   "source": [
    "### Comparaison des flotteurs : \n",
    "#### La fonction np.allclose(a, b) compare des tableaux de flottants avec une tolérance donnée"
   ]
  },
  {
   "cell_type": "code",
   "execution_count": 400,
   "id": "87267b20",
   "metadata": {},
   "outputs": [
    {
     "name": "stdout",
     "output_type": "stream",
     "text": [
      "Comparaison1 :  False\n",
      "Comparaison2 :  True\n",
      "Comparaison3 :  True\n"
     ]
    }
   ],
   "source": [
    "import math\n",
    "print(\"Comparaison1 : \",(0.1 + 0.2) == 0.3)\n",
    "print(\"Comparaison2 : \",np.allclose(0.1 + 0.2, 0.3))\n",
    "print(\"Comparaison3 : \",math.isclose(0.1 + 0.2, 0.3))"
   ]
  },
  {
   "cell_type": "code",
   "execution_count": 401,
   "id": "1dca39c7",
   "metadata": {},
   "outputs": [
    {
     "name": "stdout",
     "output_type": "stream",
     "text": [
      "Comparaison1 :  False\n",
      "Comparaison2 :  True\n",
      "Comparaison3 :  False\n"
     ]
    }
   ],
   "source": [
    "print(\"Comparaison1 : \",1e-9 == 2e-9)\n",
    "print(\"Comparaison2 : \",np.allclose(1e-9, 2e-9))\n",
    "print(\"Comparaison3 : \",math.isclose(1e-9, 2e-9))"
   ]
  },
  {
   "cell_type": "code",
   "execution_count": 402,
   "id": "c8006aea",
   "metadata": {},
   "outputs": [
    {
     "name": "stdout",
     "output_type": "stream",
     "text": [
      "Comparaison1 :  False\n",
      "Comparaison2 :  True\n",
      "Comparaison3 :  False\n"
     ]
    }
   ],
   "source": [
    "print(\"Comparaison1 : \",0.1 + 0.2 - 0.3 == 0)\n",
    "print(\"Comparaison2 : \",np.allclose(0.1 + 0.2 - 0.3, 0))\n",
    "print(\"Comparaison3 : \",math.isclose(0.1 + 0.2 - 0.3, 0))"
   ]
  },
  {
   "cell_type": "markdown",
   "id": "d8e85a6f",
   "metadata": {},
   "source": [
    "## 2. Matrices, les tableaux 2D"
   ]
  },
  {
   "cell_type": "markdown",
   "id": "c8a0cf38",
   "metadata": {},
   "source": [
    "### - Fonction d'initialisation des matrices :"
   ]
  },
  {
   "cell_type": "code",
   "execution_count": 411,
   "id": "a8c66c6a",
   "metadata": {},
   "outputs": [
    {
     "data": {
      "text/plain": [
       "array([[1, 2, 3],\n",
       "       [4, 5, 6]])"
      ]
     },
     "execution_count": 411,
     "metadata": {},
     "output_type": "execute_result"
    }
   ],
   "source": [
    "a = np.array([[1, 2, 3],[4, 5, 6]])\n",
    "a"
   ]
  },
  {
   "cell_type": "code",
   "execution_count": 412,
   "id": "da28f7d6",
   "metadata": {},
   "outputs": [
    {
     "name": "stdout",
     "output_type": "stream",
     "text": [
      "Type de la matrice : int32\n",
      "Taille de la matrice : (2, 3)\n"
     ]
    }
   ],
   "source": [
    "print(\"Type de la matrice :\",a.dtype)\n",
    "print(\"Taille de la matrice :\",a.shape)"
   ]
  },
  {
   "cell_type": "code",
   "execution_count": 416,
   "id": "55a6b64c",
   "metadata": {},
   "outputs": [
    {
     "data": {
      "text/plain": [
       "array([[0., 0.],\n",
       "       [0., 0.],\n",
       "       [0., 0.]])"
      ]
     },
     "execution_count": 416,
     "metadata": {},
     "output_type": "execute_result"
    }
   ],
   "source": [
    "#Fonction np.zero()\n",
    "np.zeros((3, 2))"
   ]
  },
  {
   "cell_type": "code",
   "execution_count": 417,
   "id": "01b6bdd3",
   "metadata": {},
   "outputs": [
    {
     "data": {
      "text/plain": [
       "array([[7, 7],\n",
       "       [7, 7],\n",
       "       [7, 7]])"
      ]
     },
     "execution_count": 417,
     "metadata": {},
     "output_type": "execute_result"
    }
   ],
   "source": [
    "#Fonction np.full()\n",
    "np.full((3, 2), 7)"
   ]
  },
  {
   "cell_type": "code",
   "execution_count": 418,
   "id": "21c73420",
   "metadata": {},
   "outputs": [
    {
     "data": {
      "text/plain": [
       "array([[1., 1.],\n",
       "       [1., 1.],\n",
       "       [1., 1.]])"
      ]
     },
     "execution_count": 418,
     "metadata": {},
     "output_type": "execute_result"
    }
   ],
   "source": [
    "#Fonction np.ones()\n",
    "np.ones((3, 2))"
   ]
  },
  {
   "cell_type": "code",
   "execution_count": 421,
   "id": "3e0c910e",
   "metadata": {},
   "outputs": [
    {
     "data": {
      "text/plain": [
       "array([[1., 1.],\n",
       "       [1., 1.],\n",
       "       [1., 1.]])"
      ]
     },
     "execution_count": 421,
     "metadata": {},
     "output_type": "execute_result"
    }
   ],
   "source": [
    "#Fonction np.empty()\n",
    "np.empty((3, 2))"
   ]
  },
  {
   "cell_type": "code",
   "execution_count": 425,
   "id": "436fbe6f",
   "metadata": {},
   "outputs": [
    {
     "data": {
      "text/plain": [
       "array([[1., 0., 0.],\n",
       "       [0., 1., 0.],\n",
       "       [0., 0., 1.]])"
      ]
     },
     "execution_count": 425,
     "metadata": {},
     "output_type": "execute_result"
    }
   ],
   "source": [
    "#Fonction np.eye()\n",
    "#np.eye(3, 3) ou\n",
    "np.eye(3)"
   ]
  },
  {
   "cell_type": "markdown",
   "id": "5a6624ce",
   "metadata": {},
   "source": [
    "### - Fonction de génération de matrices aléatoires :"
   ]
  },
  {
   "cell_type": "code",
   "execution_count": 429,
   "id": "d77d948d",
   "metadata": {},
   "outputs": [
    {
     "data": {
      "text/plain": [
       "array([[9, 1],\n",
       "       [7, 6],\n",
       "       [6, 1]])"
      ]
     },
     "execution_count": 429,
     "metadata": {},
     "output_type": "execute_result"
    }
   ],
   "source": [
    "#Fonction random.randint()\n",
    "np.random.randint(0, 10, (3, 2))"
   ]
  },
  {
   "cell_type": "code",
   "execution_count": 430,
   "id": "0b2b82ca",
   "metadata": {},
   "outputs": [
    {
     "data": {
      "text/plain": [
       "array([[0.32376403, 0.1791637 ],\n",
       "       [0.02526515, 0.63871483],\n",
       "       [0.1113989 , 0.30117289]])"
      ]
     },
     "execution_count": 430,
     "metadata": {},
     "output_type": "execute_result"
    }
   ],
   "source": [
    "#Fonction random.rand()\n",
    "np.random.rand(3, 2)"
   ]
  },
  {
   "cell_type": "code",
   "execution_count": 431,
   "id": "46b74946",
   "metadata": {},
   "outputs": [
    {
     "data": {
      "text/plain": [
       "array([[ 0.32660179,  0.56507959],\n",
       "       [ 0.82096147,  0.10066832],\n",
       "       [ 0.19765907, -1.1886563 ]])"
      ]
     },
     "execution_count": 431,
     "metadata": {},
     "output_type": "execute_result"
    }
   ],
   "source": [
    "#Fonction random.randn()\n",
    "np.random.randn(3, 2)"
   ]
  },
  {
   "cell_type": "code",
   "execution_count": 432,
   "id": "338f5b16",
   "metadata": {},
   "outputs": [
    {
     "data": {
      "text/plain": [
       "array([[7.72156278, 2.93905443],\n",
       "       [3.95428832, 6.29204108],\n",
       "       [2.37726612, 5.40492602]])"
      ]
     },
     "execution_count": 432,
     "metadata": {},
     "output_type": "execute_result"
    }
   ],
   "source": [
    "#Fonction random.uniform()\n",
    "np.random.uniform(1, 10, (3, 2))"
   ]
  },
  {
   "cell_type": "code",
   "execution_count": 433,
   "id": "046dbb88",
   "metadata": {},
   "outputs": [
    {
     "data": {
      "text/plain": [
       "array([[ 8.82598627, 14.82380462],\n",
       "       [13.65627248,  8.75597344],\n",
       "       [11.50483194, 12.5506985 ]])"
      ]
     },
     "execution_count": 433,
     "metadata": {},
     "output_type": "execute_result"
    }
   ],
   "source": [
    "#Fonction random.normal()\n",
    "np.random.normal(10, 2, (3, 2))"
   ]
  },
  {
   "cell_type": "markdown",
   "id": "4388a1a1",
   "metadata": {},
   "source": [
    "### - Fonction de génération de matrices aléatoires avec un nouveau style :"
   ]
  },
  {
   "cell_type": "code",
   "execution_count": 434,
   "id": "b83a51bc",
   "metadata": {},
   "outputs": [],
   "source": [
    "rng = np.random.default_rng()"
   ]
  },
  {
   "cell_type": "code",
   "execution_count": 435,
   "id": "b3317336",
   "metadata": {},
   "outputs": [
    {
     "data": {
      "text/plain": [
       "array([[1, 5],\n",
       "       [6, 6],\n",
       "       [2, 3]], dtype=int64)"
      ]
     },
     "execution_count": 435,
     "metadata": {},
     "output_type": "execute_result"
    }
   ],
   "source": [
    "rng.integers(1, 10,(3, 2))"
   ]
  },
  {
   "cell_type": "code",
   "execution_count": 436,
   "id": "c3423a5e",
   "metadata": {},
   "outputs": [
    {
     "data": {
      "text/plain": [
       "array([[0.12343954, 0.47375045],\n",
       "       [0.69507332, 0.38202425],\n",
       "       [0.47553796, 0.60461083]])"
      ]
     },
     "execution_count": 436,
     "metadata": {},
     "output_type": "execute_result"
    }
   ],
   "source": [
    "rng.random((3, 2))"
   ]
  },
  {
   "cell_type": "code",
   "execution_count": 437,
   "id": "c8657ed9",
   "metadata": {},
   "outputs": [
    {
     "data": {
      "text/plain": [
       "array([[-0.44747152,  0.30238731],\n",
       "       [-0.59961532,  0.42847384],\n",
       "       [-0.39042251, -0.14955102]])"
      ]
     },
     "execution_count": 437,
     "metadata": {},
     "output_type": "execute_result"
    }
   ],
   "source": [
    "#Même fonction que rng.random() mais de moyenne = 0 et d'écart-type = 1\n",
    "rng.standard_normal((3, 2))"
   ]
  },
  {
   "cell_type": "code",
   "execution_count": 438,
   "id": "5fd52375",
   "metadata": {},
   "outputs": [
    {
     "data": {
      "text/plain": [
       "array([[5.31610113, 5.06652208],\n",
       "       [5.22564293, 3.21250243],\n",
       "       [1.49750961, 3.48816692]])"
      ]
     },
     "execution_count": 438,
     "metadata": {},
     "output_type": "execute_result"
    }
   ],
   "source": [
    "rng.uniform(1, 10,(3, 2))"
   ]
  },
  {
   "cell_type": "code",
   "execution_count": 439,
   "id": "ac15afa3",
   "metadata": {},
   "outputs": [
    {
     "data": {
      "text/plain": [
       "array([[9.0087349 , 5.75487823],\n",
       "       [7.73344772, 5.16996577],\n",
       "       [7.68928689, 5.61154794]])"
      ]
     },
     "execution_count": 439,
     "metadata": {},
     "output_type": "execute_result"
    }
   ],
   "source": [
    "rng.normal(5, 2, (3, 2))"
   ]
  },
  {
   "cell_type": "markdown",
   "id": "1bc8e634",
   "metadata": {},
   "source": [
    "### - Indexation bidimensionnelle :\n",
    "La syntaxe d'indexation bidimensionnelle est plus pratique que celle des listes imbriquées."
   ]
  },
  {
   "cell_type": "code",
   "execution_count": 441,
   "id": "953e9a3c",
   "metadata": {},
   "outputs": [
    {
     "data": {
      "text/plain": [
       "array([[ 2,  2,  3,  7, 12,  6],\n",
       "       [11,  1,  8, 12, 14, 14],\n",
       "       [ 7,  6,  8, 14,  6,  2]], dtype=int64)"
      ]
     },
     "execution_count": 441,
     "metadata": {},
     "output_type": "execute_result"
    }
   ],
   "source": [
    "a2 = rng.integers(1, 15,(3, 6))\n",
    "a2"
   ]
  },
  {
   "cell_type": "code",
   "execution_count": 443,
   "id": "a6544507",
   "metadata": {},
   "outputs": [
    {
     "name": "stdout",
     "output_type": "stream",
     "text": [
      "indexation_1 : 8\n",
      "indexation_2 : [11  1  8 12 14 14]\n",
      "indexation_3 : [3 8 8]\n",
      "indexation_4 : [[2 3]\n",
      " [1 8]\n",
      " [6 8]]\n",
      "indexation_5 : [[14 14]\n",
      " [ 6  2]]\n",
      "indexation_6 : [[ 2  7  6]\n",
      " [ 6 14  2]]\n"
     ]
    }
   ],
   "source": [
    "print(\"indexation_1 :\",a2[1,2])\n",
    "print(\"indexation_2 :\",a2[1,:])\n",
    "print(\"indexation_3 :\",a2[:,2])\n",
    "print(\"indexation_4 :\",a2[:,1:3])\n",
    "print(\"indexation_5 :\",a2[-2:,-2:])\n",
    "print(\"indexation_6 :\",a2[::2,1::2])"
   ]
  },
  {
   "cell_type": "markdown",
   "id": "13e41454",
   "metadata": {},
   "source": [
    "### - L'argument de l'axe : \n",
    "axis = 0 pour les colonnes et axis = 1 pour les lignes"
   ]
  },
  {
   "cell_type": "code",
   "execution_count": 482,
   "id": "fd2293a9",
   "metadata": {},
   "outputs": [
    {
     "data": {
      "text/plain": [
       "array([[4, 4, 3],\n",
       "       [5, 2, 2],\n",
       "       [6, 3, 6]], dtype=int64)"
      ]
     },
     "execution_count": 482,
     "metadata": {},
     "output_type": "execute_result"
    }
   ],
   "source": [
    "a3 = rng.integers(1, 7,(3, 3))\n",
    "a3"
   ]
  },
  {
   "cell_type": "code",
   "execution_count": 483,
   "id": "3b91ba7c",
   "metadata": {},
   "outputs": [
    {
     "data": {
      "text/plain": [
       "35"
      ]
     },
     "execution_count": 483,
     "metadata": {},
     "output_type": "execute_result"
    }
   ],
   "source": [
    "a3.sum()"
   ]
  },
  {
   "cell_type": "code",
   "execution_count": 484,
   "id": "cc818e12",
   "metadata": {},
   "outputs": [
    {
     "data": {
      "text/plain": [
       "array([15,  9, 11], dtype=int64)"
      ]
     },
     "execution_count": 484,
     "metadata": {},
     "output_type": "execute_result"
    }
   ],
   "source": [
    "a3.sum(axis = 0)"
   ]
  },
  {
   "cell_type": "code",
   "execution_count": 485,
   "id": "2965f600",
   "metadata": {},
   "outputs": [
    {
     "data": {
      "text/plain": [
       "array([11,  9, 15], dtype=int64)"
      ]
     },
     "execution_count": 485,
     "metadata": {},
     "output_type": "execute_result"
    }
   ],
   "source": [
    "a3.sum(axis = 1)"
   ]
  },
  {
   "cell_type": "code",
   "execution_count": 486,
   "id": "bf87c4e4",
   "metadata": {},
   "outputs": [
    {
     "data": {
      "text/plain": [
       "array([11,  9, 15], dtype=int64)"
      ]
     },
     "execution_count": 486,
     "metadata": {},
     "output_type": "execute_result"
    }
   ],
   "source": [
    "#Sommation d'Einstein pour une ligne\n",
    "np.einsum('ij->i', a3)"
   ]
  },
  {
   "cell_type": "code",
   "execution_count": 487,
   "id": "a4c81857",
   "metadata": {},
   "outputs": [
    {
     "data": {
      "text/plain": [
       "array([15,  9, 11], dtype=int64)"
      ]
     },
     "execution_count": 487,
     "metadata": {},
     "output_type": "execute_result"
    }
   ],
   "source": [
    "#Sommation d'Einstein pour une colonne\n",
    "np.einsum('ij->j', a3)"
   ]
  },
  {
   "cell_type": "markdown",
   "id": "9856e1ca",
   "metadata": {},
   "source": [
    "### - Arithmétique matricielle : \n",
    "##### En plus des opérateurs ordinaires (comme +,-,*,/,// et **) qui fonctionnent élément par élément, il existe un opérateur @ qui calcule un produit matriciel."
   ]
  },
  {
   "cell_type": "code",
   "execution_count": 491,
   "id": "6a4486c2",
   "metadata": {},
   "outputs": [
    {
     "name": "stdout",
     "output_type": "stream",
     "text": [
      "La matrice a3 est : [[1 4]\n",
      " [1 1]]\n",
      "La matrice a4 est : [[6 2]\n",
      " [6 1]]\n"
     ]
    }
   ],
   "source": [
    "a3 = rng.integers(1, 7,(2, 2))\n",
    "a4 = rng.integers(1, 7,(2, 2))\n",
    "print(\"La matrice a3 est :\",a3)\n",
    "print(\"La matrice a4 est :\",a4)"
   ]
  },
  {
   "cell_type": "code",
   "execution_count": 492,
   "id": "74525933",
   "metadata": {},
   "outputs": [
    {
     "data": {
      "text/plain": [
       "array([[7, 6],\n",
       "       [7, 2]], dtype=int64)"
      ]
     },
     "execution_count": 492,
     "metadata": {},
     "output_type": "execute_result"
    }
   ],
   "source": [
    "a3 + a4"
   ]
  },
  {
   "cell_type": "code",
   "execution_count": 493,
   "id": "c6412f0c",
   "metadata": {},
   "outputs": [
    {
     "data": {
      "text/plain": [
       "array([[-5,  2],\n",
       "       [-5,  0]], dtype=int64)"
      ]
     },
     "execution_count": 493,
     "metadata": {},
     "output_type": "execute_result"
    }
   ],
   "source": [
    "a3 - a4"
   ]
  },
  {
   "cell_type": "code",
   "execution_count": 494,
   "id": "083ecd8c",
   "metadata": {},
   "outputs": [
    {
     "data": {
      "text/plain": [
       "array([[6, 8],\n",
       "       [6, 1]], dtype=int64)"
      ]
     },
     "execution_count": 494,
     "metadata": {},
     "output_type": "execute_result"
    }
   ],
   "source": [
    "a3 * a4"
   ]
  },
  {
   "cell_type": "code",
   "execution_count": 495,
   "id": "e73658a1",
   "metadata": {},
   "outputs": [
    {
     "data": {
      "text/plain": [
       "array([[30,  6],\n",
       "       [12,  3]], dtype=int64)"
      ]
     },
     "execution_count": 495,
     "metadata": {},
     "output_type": "execute_result"
    }
   ],
   "source": [
    "#produit matriciel (produit scalaire) @\n",
    "a3 @ a4"
   ]
  },
  {
   "cell_type": "code",
   "execution_count": 496,
   "id": "f92e40ae",
   "metadata": {},
   "outputs": [
    {
     "data": {
      "text/plain": [
       "array([[ 1, 16],\n",
       "       [ 1,  1]], dtype=int64)"
      ]
     },
     "execution_count": 496,
     "metadata": {},
     "output_type": "execute_result"
    }
   ],
   "source": [
    "a3 ** a4"
   ]
  },
  {
   "cell_type": "markdown",
   "id": "000eb2d2",
   "metadata": {},
   "source": [
    "##### NumPy permet des opérations mixtes entre un vecteur et une matrice, et même entre deux vecteurs."
   ]
  },
  {
   "cell_type": "code",
   "execution_count": 5,
   "id": "a8900756",
   "metadata": {},
   "outputs": [
    {
     "data": {
      "text/plain": [
       "array([[2, 6, 4],\n",
       "       [6, 9, 4],\n",
       "       [4, 4, 4]])"
      ]
     },
     "execution_count": 5,
     "metadata": {},
     "output_type": "execute_result"
    }
   ],
   "source": [
    "a5 = np.random.randint(1, 10, (3, 3))\n",
    "a5"
   ]
  },
  {
   "cell_type": "code",
   "execution_count": 7,
   "id": "c33d1ed3",
   "metadata": {},
   "outputs": [
    {
     "name": "stdout",
     "output_type": "stream",
     "text": [
      "La matrice b1 : [9]\n",
      "La matrice b2 : [-1  0  1]\n",
      "La matrice b3 : [[6]\n",
      " [2]\n",
      " [6]]\n"
     ]
    }
   ],
   "source": [
    "b1 = np.array([9])\n",
    "b2 = np.array([-1, 0, 1])\n",
    "b3 = np.random.randint(1, 10, (3, 1))\n",
    "print(\"La matrice b1 :\",b1)\n",
    "print(\"La matrice b2 :\",b2)\n",
    "print(\"La matrice b3 :\",b3)"
   ]
  },
  {
   "cell_type": "code",
   "execution_count": 61,
   "id": "24f7e448",
   "metadata": {},
   "outputs": [
    {
     "name": "stdout",
     "output_type": "stream",
     "text": [
      "La matrice a6 : [[1 2 3]]\n",
      "La matrice b4 : [[1]\n",
      " [2]\n",
      " [3]]\n"
     ]
    }
   ],
   "source": [
    "a6 = np.array([[1, 2, 3]])\n",
    "b4 = np.array([[1], [2], [3]])\n",
    "print(\"La matrice a6 :\",a6)\n",
    "print(\"La matrice b4 :\",b4)"
   ]
  },
  {
   "cell_type": "code",
   "execution_count": 37,
   "id": "674318dd",
   "metadata": {},
   "outputs": [
    {
     "data": {
      "text/plain": [
       "array([[0.22222222, 0.66666667, 0.44444444],\n",
       "       [0.66666667, 1.        , 0.44444444],\n",
       "       [0.44444444, 0.44444444, 0.44444444]])"
      ]
     },
     "execution_count": 37,
     "metadata": {},
     "output_type": "execute_result"
    }
   ],
   "source": [
    "#Division\n",
    "a5 / b1 "
   ]
  },
  {
   "cell_type": "code",
   "execution_count": 25,
   "id": "87b906af",
   "metadata": {},
   "outputs": [
    {
     "data": {
      "text/plain": [
       "array([[-2,  0,  4],\n",
       "       [-6,  0,  4],\n",
       "       [-4,  0,  4]])"
      ]
     },
     "execution_count": 25,
     "metadata": {},
     "output_type": "execute_result"
    }
   ],
   "source": [
    "#Multiplication\n",
    "a5 * b2"
   ]
  },
  {
   "cell_type": "code",
   "execution_count": 10,
   "id": "de1cca21",
   "metadata": {},
   "outputs": [
    {
     "data": {
      "text/plain": [
       "array([[0.33333333, 1.        , 0.66666667],\n",
       "       [3.        , 4.5       , 2.        ],\n",
       "       [0.66666667, 0.66666667, 0.66666667]])"
      ]
     },
     "execution_count": 10,
     "metadata": {},
     "output_type": "execute_result"
    }
   ],
   "source": [
    "a5 / b3 "
   ]
  },
  {
   "cell_type": "code",
   "execution_count": 18,
   "id": "0b2c3d6f",
   "metadata": {},
   "outputs": [
    {
     "data": {
      "text/plain": [
       "array([[1, 2, 3],\n",
       "       [2, 4, 6],\n",
       "       [3, 6, 9]])"
      ]
     },
     "execution_count": 18,
     "metadata": {},
     "output_type": "execute_result"
    }
   ],
   "source": [
    "a6 * b4"
   ]
  },
  {
   "cell_type": "code",
   "execution_count": 21,
   "id": "a90e6eae",
   "metadata": {},
   "outputs": [
    {
     "data": {
      "text/plain": [
       "array([14])"
      ]
     },
     "execution_count": 21,
     "metadata": {},
     "output_type": "execute_result"
    }
   ],
   "source": [
    "#Inner product (produit intérieur)\n",
    "a6 @ b4"
   ]
  },
  {
   "cell_type": "code",
   "execution_count": 62,
   "id": "6c0e2fdc",
   "metadata": {},
   "outputs": [
    {
     "data": {
      "text/plain": [
       "array([[1, 2, 3],\n",
       "       [2, 4, 6],\n",
       "       [3, 6, 9]])"
      ]
     },
     "execution_count": 62,
     "metadata": {},
     "output_type": "execute_result"
    }
   ],
   "source": [
    "#Outer product (produit extérieur)\n",
    "b4 @ a6"
   ]
  },
  {
   "cell_type": "markdown",
   "id": "6f50034e",
   "metadata": {},
   "source": [
    "##### Transposition de matrice"
   ]
  },
  {
   "cell_type": "code",
   "execution_count": 67,
   "id": "204735e1",
   "metadata": {},
   "outputs": [
    {
     "name": "stdout",
     "output_type": "stream",
     "text": [
      "Avant transposition :\n",
      " [[1 2 3]\n",
      " [4 5 6]\n",
      " [7 8 9]]\n",
      "\n",
      "Après transposition :\n",
      " [[1 4 7]\n",
      " [2 5 8]\n",
      " [3 6 9]]\n"
     ]
    }
   ],
   "source": [
    "c1 = np.array([[1, 2, 3],\n",
    "                [4, 5, 6],\n",
    "                [7, 8, 9]])\n",
    "print(\"Avant transposition :\\n\",c1, end ='\\n\\n')\n",
    "print(\"Après transposition :\\n\",c1.transpose())"
   ]
  },
  {
   "cell_type": "code",
   "execution_count": 68,
   "id": "4057a82b",
   "metadata": {},
   "outputs": [
    {
     "name": "stdout",
     "output_type": "stream",
     "text": [
      "Avant transposition :\n",
      " [[1 2 3]]\n",
      "\n",
      "Après transposition :\n",
      " [[1]\n",
      " [2]\n",
      " [3]]\n"
     ]
    }
   ],
   "source": [
    "c2 = np.array([[1, 2, 3]])\n",
    "print(\"Avant transposition :\\n\",c2, end ='\\n\\n')\n",
    "print(\"Après transposition :\\n\",c2.transpose())"
   ]
  },
  {
   "cell_type": "markdown",
   "id": "8842f216",
   "metadata": {},
   "source": [
    "##### Ici, l'argument -1 indique de calculer automatiquement l'une des tailles de dimension et None entre crochets sert de raccourci pour np.newaxis, ce qui ajoute un axe vide à l'endroit désigné."
   ]
  },
  {
   "cell_type": "code",
   "execution_count": 92,
   "id": "f4a94766",
   "metadata": {},
   "outputs": [
    {
     "name": "stdout",
     "output_type": "stream",
     "text": [
      "Tableau 1D :\n",
      " [1 2 3 4 5 6]\n"
     ]
    }
   ],
   "source": [
    "a = np.arange(1, 7)\n",
    "print(\"Tableau 1D :\\n\",a)"
   ]
  },
  {
   "cell_type": "code",
   "execution_count": 93,
   "id": "5aaefa1f",
   "metadata": {},
   "outputs": [
    {
     "name": "stdout",
     "output_type": "stream",
     "text": [
      "Vecteurs lignes 2D :\n",
      " [[1 2 3 4 5 6]]\n"
     ]
    }
   ],
   "source": [
    "#a.reshape(1, -1) ou\n",
    "#a[None, :] ou \n",
    "print(\"Vecteurs lignes 2D :\\n\",a[np.newaxis, :])\n",
    "aL = a[np.newaxis, :]"
   ]
  },
  {
   "cell_type": "code",
   "execution_count": 94,
   "id": "cd451612",
   "metadata": {},
   "outputs": [
    {
     "name": "stdout",
     "output_type": "stream",
     "text": [
      "Vecteurs colonnes 2D :\n",
      " [[1]\n",
      " [2]\n",
      " [3]\n",
      " [4]\n",
      " [5]\n",
      " [6]]\n"
     ]
    }
   ],
   "source": [
    "#[:, None] ou\n",
    "#a.reshape(-1, 1) ou\n",
    "print(\"Vecteurs colonnes 2D :\\n\",a[:, np.newaxis])\n",
    "aC = a[:, np.newaxis]"
   ]
  },
  {
   "cell_type": "code",
   "execution_count": 95,
   "id": "58e3242f",
   "metadata": {},
   "outputs": [
    {
     "name": "stdout",
     "output_type": "stream",
     "text": [
      "Vecteurs colonnes 2D -> Tableau original :\n",
      " [1 2 3 4 5 6]\n"
     ]
    }
   ],
   "source": [
    "#aC.rashape(-1) ou\n",
    "#np.ravel(aC) ou\n",
    "print(\"Vecteurs colonnes 2D -> Tableau original :\\n\",aC.flatten())"
   ]
  },
  {
   "cell_type": "code",
   "execution_count": 96,
   "id": "a61bc172",
   "metadata": {},
   "outputs": [
    {
     "name": "stdout",
     "output_type": "stream",
     "text": [
      "Vecteurs lignes 2D -> Tableau original :\n",
      " [1 2 3 4 5 6]\n"
     ]
    }
   ],
   "source": [
    "#aL.rashape(-1) ou\n",
    "#aL.flatten() ou\n",
    "print(\"Vecteurs lignes 2D -> Tableau original :\\n\",np.ravel(aL))"
   ]
  },
  {
   "cell_type": "code",
   "execution_count": 97,
   "id": "6d5b2951",
   "metadata": {},
   "outputs": [
    {
     "name": "stdout",
     "output_type": "stream",
     "text": [
      "La matrice aCL :\n",
      " [[1 2 3]\n",
      " [4 5 6]]\n"
     ]
    }
   ],
   "source": [
    "#a.reshape(2, 3)\n",
    "aCL = a.reshape(2, -1)\n",
    "print(\"La matrice aCL :\\n\",aCL)"
   ]
  },
  {
   "cell_type": "code",
   "execution_count": 98,
   "id": "f44e1ded",
   "metadata": {},
   "outputs": [
    {
     "name": "stdout",
     "output_type": "stream",
     "text": [
      "La matrice aLC :\n",
      " [[1 2]\n",
      " [3 4]\n",
      " [5 6]]\n"
     ]
    }
   ],
   "source": [
    "aLC = a.reshape(-1, 2)\n",
    "print(\"La matrice aLC :\\n\",aLC)"
   ]
  },
  {
   "cell_type": "code",
   "execution_count": 99,
   "id": "9b9ea6f5",
   "metadata": {},
   "outputs": [
    {
     "name": "stdout",
     "output_type": "stream",
     "text": [
      "Matrice aLC -> Tableau original :\n",
      " [1 2 3 4 5 6]\n",
      "Matrice aCL -> Tableau original :\n",
      " [1 2 3 4 5 6]\n"
     ]
    }
   ],
   "source": [
    "print(\"Matrice aLC -> Tableau original :\\n\",aLC.reshape(-1))\n",
    "print(\"Matrice aCL -> Tableau original :\\n\",aCL.reshape(-1))"
   ]
  },
  {
   "cell_type": "markdown",
   "id": "f9f252d9",
   "metadata": {},
   "source": [
    "### - Manipulations matricielles\n",
    "#### Jointure : Il existe deux fonctions principales pour joindre les tableaux \n"
   ]
  },
  {
   "cell_type": "code",
   "execution_count": 130,
   "id": "7e606807",
   "metadata": {},
   "outputs": [
    {
     "name": "stdout",
     "output_type": "stream",
     "text": [
      "La matrice a :\n",
      " [[10  7  5  2]\n",
      " [ 3 12  1  3]\n",
      " [11  8 11 11]]\n",
      "\n",
      "La matrice b :\n",
      " [[4 5 1 7]\n",
      " [4 1 3 7]]\n",
      "\n",
      "La matrice c :\n",
      " [[4 2]\n",
      " [6 4]\n",
      " [2 4]]\n"
     ]
    }
   ],
   "source": [
    "a = np.random.randint(1, 13, (3, 4))\n",
    "b = np.random.randint(1, 9, (2, 4))\n",
    "c = np.random.randint(1, 7, (3, 2))\n",
    "print(\"La matrice a :\\n\", a, end ='\\n\\n')\n",
    "print(\"La matrice b :\\n\", b, end ='\\n\\n')\n",
    "print(\"La matrice c :\\n\", c)"
   ]
  },
  {
   "cell_type": "code",
   "execution_count": 146,
   "id": "e8215cb5",
   "metadata": {},
   "outputs": [
    {
     "data": {
      "text/plain": [
       "array([[10,  7,  5,  2],\n",
       "       [ 3, 12,  1,  3],\n",
       "       [11,  8, 11, 11],\n",
       "       [ 4,  5,  1,  7],\n",
       "       [ 4,  1,  3,  7]])"
      ]
     },
     "execution_count": 146,
     "metadata": {},
     "output_type": "execute_result"
    }
   ],
   "source": [
    "#Jointure verticale (avec les matrices de mêmes colonnes)\n",
    "aJb = np.vstack((a, b))\n",
    "aJb"
   ]
  },
  {
   "cell_type": "code",
   "execution_count": 147,
   "id": "02522921",
   "metadata": {},
   "outputs": [
    {
     "data": {
      "text/plain": [
       "array([[10,  7,  5,  2,  4,  2],\n",
       "       [ 3, 12,  1,  3,  6,  4],\n",
       "       [11,  8, 11, 11,  2,  4]])"
      ]
     },
     "execution_count": 147,
     "metadata": {},
     "output_type": "execute_result"
    }
   ],
   "source": [
    "#Jointure horizontale (avec les matrices de mêmes lignes)\n",
    "aJc = np.hstack((a, c))\n",
    "aJc"
   ]
  },
  {
   "cell_type": "markdown",
   "id": "a836654d",
   "metadata": {},
   "source": [
    "##### Jointure d'une matrice avec un tableau 1D "
   ]
  },
  {
   "cell_type": "code",
   "execution_count": 140,
   "id": "da518b92",
   "metadata": {},
   "outputs": [
    {
     "name": "stdout",
     "output_type": "stream",
     "text": [
      "Vecteur de colonnne c1 :\n",
      " [[1]\n",
      " [2]\n",
      " [1]]\n",
      "\n",
      "Vecteur de ligne c2 :\n",
      " [[1 1 3 1]]\n"
     ]
    }
   ],
   "source": [
    "c1 = np.random.randint(1, 4, (3,1))\n",
    "c2 = np.random.randint(1, 4, (1,4))\n",
    "print(\"Vecteur de colonnne c1 :\\n\", c1, end='\\n\\n')\n",
    "print(\"Vecteur de ligne c2 :\\n\", c2)"
   ]
  },
  {
   "cell_type": "code",
   "execution_count": 141,
   "id": "755f103f",
   "metadata": {},
   "outputs": [
    {
     "data": {
      "text/plain": [
       "array([[10,  7,  5,  2,  1],\n",
       "       [ 3, 12,  1,  3,  2],\n",
       "       [11,  8, 11, 11,  1]])"
      ]
     },
     "execution_count": 141,
     "metadata": {},
     "output_type": "execute_result"
    }
   ],
   "source": [
    "#Jointure horizontale (avec les tableaux de mêmes lignes)\n",
    "np.hstack((a, c1))"
   ]
  },
  {
   "cell_type": "code",
   "execution_count": 142,
   "id": "8146f187",
   "metadata": {},
   "outputs": [
    {
     "data": {
      "text/plain": [
       "array([[10,  7,  5,  2,  1],\n",
       "       [ 3, 12,  1,  3,  2],\n",
       "       [11,  8, 11, 11,  1]])"
      ]
     },
     "execution_count": 142,
     "metadata": {},
     "output_type": "execute_result"
    }
   ],
   "source": [
    "#Jointure horizontale (avec les tableaux de mêmes lignes)\n",
    "np.column_stack((a, c1))"
   ]
  },
  {
   "cell_type": "code",
   "execution_count": 143,
   "id": "0940ea38",
   "metadata": {},
   "outputs": [
    {
     "data": {
      "text/plain": [
       "array([[10,  7,  5,  2],\n",
       "       [ 3, 12,  1,  3],\n",
       "       [11,  8, 11, 11],\n",
       "       [ 1,  1,  3,  1]])"
      ]
     },
     "execution_count": 143,
     "metadata": {},
     "output_type": "execute_result"
    }
   ],
   "source": [
    "#Jointure verticale (avec les tableaux de mêmes colonnes)\n",
    "np.vstack((a, c2))"
   ]
  },
  {
   "cell_type": "markdown",
   "id": "dba577d0",
   "metadata": {},
   "source": [
    "#### Fractionnement : scinder la jointure "
   ]
  },
  {
   "cell_type": "code",
   "execution_count": 151,
   "id": "ea6f23ff",
   "metadata": {},
   "outputs": [
    {
     "name": "stdout",
     "output_type": "stream",
     "text": [
      "Fractionnement de la jointure aJb :\n",
      " [array([[10,  7,  5,  2],\n",
      "       [ 3, 12,  1,  3],\n",
      "       [11,  8, 11, 11]]), array([[4, 5, 1, 7],\n",
      "       [4, 1, 3, 7]])]\n"
     ]
    }
   ],
   "source": [
    "#fractionnement vertical avec vsplit(nom_jointure, [nbre_d'indice_à_la_verticale])\n",
    "print(\"Fractionnement de la jointure aJb :\\n\", np.vsplit(aJb, [3]))"
   ]
  },
  {
   "cell_type": "code",
   "execution_count": 152,
   "id": "8e1f87a2",
   "metadata": {},
   "outputs": [
    {
     "name": "stdout",
     "output_type": "stream",
     "text": [
      "Fractionnement de la jointure aJc :\n",
      " [array([[10,  7,  5,  2],\n",
      "       [ 3, 12,  1,  3],\n",
      "       [11,  8, 11, 11]]), array([[4, 2],\n",
      "       [6, 4],\n",
      "       [2, 4]])]\n"
     ]
    }
   ],
   "source": [
    "#fractionnement horizontal avec hsplit(nom_jointure, [nbre_d'indice_à_l'horizontale])\n",
    "print(\"Fractionnement de la jointure aJc :\\n\", np.hsplit(aJc, [4]))"
   ]
  },
  {
   "cell_type": "code",
   "execution_count": 153,
   "id": "0833d56e",
   "metadata": {},
   "outputs": [
    {
     "name": "stdout",
     "output_type": "stream",
     "text": [
      "Fractionnement de la jointure aJc :\n",
      " [array([[10,  7,  5],\n",
      "       [ 3, 12,  1],\n",
      "       [11,  8, 11]]), array([[ 2],\n",
      "       [ 3],\n",
      "       [11]]), array([[4, 2],\n",
      "       [6, 4],\n",
      "       [2, 4]])]\n"
     ]
    }
   ],
   "source": [
    "#fractionnement horizontal avec hsplit(nom_jointure, [nbre_indice_à_l'horizontale, fin_indice])\n",
    "print(\"Fractionnement de la jointure aJc :\\n\", np.hsplit(aJc, [3, 4]))"
   ]
  },
  {
   "cell_type": "code",
   "execution_count": 155,
   "id": "d9f69c14",
   "metadata": {},
   "outputs": [
    {
     "name": "stdout",
     "output_type": "stream",
     "text": [
      "Fractionnement de la jointure aJc :\n",
      " [array([[10,  7],\n",
      "       [ 3, 12],\n",
      "       [11,  8]]), array([[ 5,  2],\n",
      "       [ 1,  3],\n",
      "       [11, 11]]), array([[4, 2],\n",
      "       [6, 4],\n",
      "       [2, 4]])]\n"
     ]
    }
   ],
   "source": [
    "#fractionnement horizontal avec hsplit(nom_jointure, nbre_d'indice) l'indice maximum est exclus\n",
    "print(\"Fractionnement de la jointure aJc :\\n\", np.hsplit(aJc, 3))"
   ]
  },
  {
   "cell_type": "markdown",
   "id": "8972b876",
   "metadata": {},
   "source": [
    "### - La réplication matricielle : \n",
    " Elle peut être effectuée de deux manières : \n",
    " - tile() agit comme un copier-coller\n",
    " - repeat() comme une impression assemblée "
   ]
  },
  {
   "cell_type": "code",
   "execution_count": 156,
   "id": "356da003",
   "metadata": {},
   "outputs": [
    {
     "name": "stdout",
     "output_type": "stream",
     "text": [
      "la matrice a :\n",
      " [[4 1]\n",
      " [3 4]]\n"
     ]
    }
   ],
   "source": [
    "a = np.random.randint(1, 5,(2, 2))\n",
    "print(\"la matrice a :\\n\", a)"
   ]
  },
  {
   "cell_type": "code",
   "execution_count": 157,
   "id": "b87762e3",
   "metadata": {},
   "outputs": [
    {
     "data": {
      "text/plain": [
       "array([[4, 1, 4, 1, 4, 1],\n",
       "       [3, 4, 3, 4, 3, 4],\n",
       "       [4, 1, 4, 1, 4, 1],\n",
       "       [3, 4, 3, 4, 3, 4]])"
      ]
     },
     "execution_count": 157,
     "metadata": {},
     "output_type": "execute_result"
    }
   ],
   "source": [
    "#Copier-coller de a avec la fonction tile(nom_matrice, (nbre_Ligne, nbre_Colonne))\n",
    "np.tile(a, (2, 3))"
   ]
  },
  {
   "cell_type": "code",
   "execution_count": 158,
   "id": "999994fa",
   "metadata": {},
   "outputs": [
    {
     "data": {
      "text/plain": [
       "array([[4, 4, 4, 1, 1, 1],\n",
       "       [3, 3, 3, 4, 4, 4]])"
      ]
     },
     "execution_count": 158,
     "metadata": {},
     "output_type": "execute_result"
    }
   ],
   "source": [
    "#Impression assemblée de a avec la fonction repeat(nbre_colonne, axis = 1)\n",
    "b = a.repeat(3, axis = 1)\n",
    "b"
   ]
  },
  {
   "cell_type": "code",
   "execution_count": 159,
   "id": "ee5108f5",
   "metadata": {},
   "outputs": [
    {
     "data": {
      "text/plain": [
       "array([[4, 4, 4, 1, 1, 1],\n",
       "       [4, 4, 4, 1, 1, 1],\n",
       "       [3, 3, 3, 4, 4, 4],\n",
       "       [3, 3, 3, 4, 4, 4]])"
      ]
     },
     "execution_count": 159,
     "metadata": {},
     "output_type": "execute_result"
    }
   ],
   "source": [
    "#Impression assemblée de a avec la fonction repeat(nbre_ligne, axis = 0)\n",
    "b.repeat(2, axis = 0)"
   ]
  },
  {
   "cell_type": "markdown",
   "id": "fbeacce5",
   "metadata": {},
   "source": [
    "##### Suppression de colonnes et de lignes spécifiques avec la fonction delete()\n",
    "\n"
   ]
  },
  {
   "cell_type": "code",
   "execution_count": 165,
   "id": "ccbcfbe4",
   "metadata": {},
   "outputs": [
    {
     "name": "stdout",
     "output_type": "stream",
     "text": [
      "la matrice a :\n",
      " [[ 4  5  7  1  1]\n",
      " [12 12 11  8  1]\n",
      " [ 3  5  8 13 14]]\n"
     ]
    }
   ],
   "source": [
    "a = np.random.randint(1, 16,(3, 5))\n",
    "print(\"la matrice a :\\n\", a)"
   ]
  },
  {
   "cell_type": "code",
   "execution_count": 166,
   "id": "17641a46",
   "metadata": {},
   "outputs": [
    {
     "data": {
      "text/plain": [
       "array([[ 4,  7,  1],\n",
       "       [12, 11,  1],\n",
       "       [ 3,  8, 14]])"
      ]
     },
     "execution_count": 166,
     "metadata": {},
     "output_type": "execute_result"
    }
   ],
   "source": [
    "#suppression de colonnes avec delete(nom_matrice, [i, j], axis = 1) avec i et j des indices de colonnes\n",
    "np.delete(a, [1, 3], axis = 1)"
   ]
  },
  {
   "cell_type": "code",
   "execution_count": 5,
   "id": "1871a152",
   "metadata": {},
   "outputs": [
    {
     "name": "stdout",
     "output_type": "stream",
     "text": [
      "la matrice a :\n",
      " [[ 1  6 10  2  6]\n",
      " [11  8 10  4 12]\n",
      " [15  6  2 14  7]]\n"
     ]
    }
   ],
   "source": [
    "a = np.random.randint(1, 16,(3, 5))\n",
    "print(\"la matrice a :\\n\", a)"
   ]
  },
  {
   "cell_type": "code",
   "execution_count": 168,
   "id": "259e66d6",
   "metadata": {},
   "outputs": [
    {
     "data": {
      "text/plain": [
       "array([[10,  3],\n",
       "       [ 2, 12],\n",
       "       [14, 10]])"
      ]
     },
     "execution_count": 168,
     "metadata": {},
     "output_type": "execute_result"
    }
   ],
   "source": [
    "#suppression de colonnes alignées de i à j avec delete(nom_matrice, np.s_[i:j], axis = 1)\n",
    "np.delete(a, np.s_[1:-1], axis = 1)"
   ]
  },
  {
   "cell_type": "code",
   "execution_count": 3,
   "id": "85788e6f",
   "metadata": {},
   "outputs": [
    {
     "name": "stdout",
     "output_type": "stream",
     "text": [
      "la matrice a :\n",
      " [[11  4  7  7  1]\n",
      " [10  3  7 15 12]\n",
      " [13  7 11  5  3]]\n"
     ]
    }
   ],
   "source": [
    "a = np.random.randint(1, 16,(3, 5))\n",
    "print(\"la matrice a :\\n\", a)"
   ]
  },
  {
   "cell_type": "code",
   "execution_count": 172,
   "id": "50969586",
   "metadata": {},
   "outputs": [
    {
     "data": {
      "text/plain": [
       "array([[ 3, 14],\n",
       "       [ 6,  8],\n",
       "       [10, 14]])"
      ]
     },
     "execution_count": 172,
     "metadata": {},
     "output_type": "execute_result"
    }
   ],
   "source": [
    "#suppression de colonnes alignées de i à j avec delete(nom_matrice, slice(i, j), axis = 1)\n",
    "np.delete(a, slice(1, -1), axis = 1)"
   ]
  },
  {
   "cell_type": "code",
   "execution_count": 7,
   "id": "371e9d67",
   "metadata": {},
   "outputs": [
    {
     "data": {
      "text/plain": [
       "array([[ 1,  6, 10,  2,  6],\n",
       "       [11,  8, 10,  4, 12]])"
      ]
     },
     "execution_count": 7,
     "metadata": {},
     "output_type": "execute_result"
    }
   ],
   "source": [
    "#suppression de lignes i avec delete(nom_matrice, num_indice_ ligne, axis = 0)\n",
    "np.delete(a, 2, axis = 0)"
   ]
  },
  {
   "cell_type": "markdown",
   "id": "7ee9c136",
   "metadata": {},
   "source": [
    "##### Insertion de colonnes et de lignes spécifiques avec la fonction insert()"
   ]
  },
  {
   "cell_type": "code",
   "execution_count": 8,
   "id": "6db578a2",
   "metadata": {},
   "outputs": [
    {
     "name": "stdout",
     "output_type": "stream",
     "text": [
      "la matrice h :\n",
      " [[10  2 15]\n",
      " [ 2 13  2]\n",
      " [ 7  1  8]]\n"
     ]
    }
   ],
   "source": [
    "h = np.random.randint(1, 16,(3, 3))\n",
    "print(\"la matrice h :\\n\", h)"
   ]
  },
  {
   "cell_type": "code",
   "execution_count": 9,
   "id": "1cc1d9be",
   "metadata": {},
   "outputs": [
    {
     "name": "stdout",
     "output_type": "stream",
     "text": [
      "la matrice v :\n",
      " [[13  3  6  4  5]\n",
      " [10  7  3  4 14]]\n"
     ]
    }
   ],
   "source": [
    "v = np.random.randint(1, 16,(2, 5))\n",
    "print(\"la matrice v :\\n\", v)"
   ]
  },
  {
   "cell_type": "code",
   "execution_count": 10,
   "id": "dd7d42a8",
   "metadata": {},
   "outputs": [
    {
     "name": "stdout",
     "output_type": "stream",
     "text": [
      "la matrice u :\n",
      " [[15  1]\n",
      " [ 4 13]\n",
      " [13  9]]\n"
     ]
    }
   ],
   "source": [
    "u = np.random.randint(1, 16,(3, 2))\n",
    "print(\"la matrice u :\\n\", u)"
   ]
  },
  {
   "cell_type": "code",
   "execution_count": 11,
   "id": "88fc7b44",
   "metadata": {},
   "outputs": [
    {
     "name": "stdout",
     "output_type": "stream",
     "text": [
      "la matrice w :\n",
      " [[5 6 7]\n",
      " [3 7 1]\n",
      " [9 5 9]]\n"
     ]
    }
   ],
   "source": [
    "w = np.random.randint(1, 16,(3, 3))\n",
    "print(\"la matrice w :\\n\", w)"
   ]
  },
  {
   "cell_type": "code",
   "execution_count": 18,
   "id": "a78d49cf",
   "metadata": {},
   "outputs": [
    {
     "data": {
      "text/plain": [
       "array([[13,  3,  6,  4,  5],\n",
       "       [ 5,  5,  5,  5,  5],\n",
       "       [10,  7,  3,  4, 14],\n",
       "       [ 5,  5,  5,  5,  5]])"
      ]
     },
     "execution_count": 18,
     "metadata": {},
     "output_type": "execute_result"
    }
   ],
   "source": [
    "#Insertion de lignes à l'indice i ou/et j avec la fonction insert(nom_matrice, [i, j], valeur_à_inserée, axis = 0)\n",
    "np.insert(v, [1, 2], 5, axis = 0)"
   ]
  },
  {
   "cell_type": "code",
   "execution_count": 19,
   "id": "e147d728",
   "metadata": {},
   "outputs": [
    {
     "data": {
      "text/plain": [
       "array([[10,  2,  8, 15],\n",
       "       [ 2, 13,  8,  2],\n",
       "       [ 7,  1,  8,  8]])"
      ]
     },
     "execution_count": 19,
     "metadata": {},
     "output_type": "execute_result"
    }
   ],
   "source": [
    "#Insertion de colonnes à l'indice i ou/et j avec la fonction insert(nom_matrice, [i, j], valeur_à_inserée, axis = 1)\n",
    "np.insert(h, 2, 8, axis = 1)"
   ]
  },
  {
   "cell_type": "code",
   "execution_count": 20,
   "id": "4a231ab0",
   "metadata": {},
   "outputs": [
    {
     "data": {
      "text/plain": [
       "array([[ 5,  6,  7, 15,  1],\n",
       "       [ 3,  7,  1,  4, 13],\n",
       "       [ 9,  5,  9, 13,  9]])"
      ]
     },
     "execution_count": 20,
     "metadata": {},
     "output_type": "execute_result"
    }
   ],
   "source": [
    "#Insertion de tableau à l'indice i avec la fonction insert(nom_matrice, [i], tableau_à_inseré, axis = 1)\n",
    "np.insert(u, [0], w, axis = 1)"
   ]
  },
  {
   "cell_type": "markdown",
   "id": "897a0013",
   "metadata": {},
   "source": [
    "##### Ajout de colonnes et de lignes spécifiques avec la fonction append() ou coloumn_stack()"
   ]
  },
  {
   "cell_type": "code",
   "execution_count": 50,
   "id": "1b0ab076",
   "metadata": {},
   "outputs": [
    {
     "name": "stdout",
     "output_type": "stream",
     "text": [
      "la matrice t :\n",
      " [[ 3  7 10 10 11]\n",
      " [ 5  3 12 11  2]\n",
      " [13  8 11 10 10]]\n"
     ]
    }
   ],
   "source": [
    "t = np.random.randint(1, 16,(3, 5))\n",
    "print(\"la matrice t :\\n\", t)"
   ]
  },
  {
   "cell_type": "code",
   "execution_count": 26,
   "id": "488df461",
   "metadata": {},
   "outputs": [
    {
     "data": {
      "text/plain": [
       "array([[15.,  5.,  9.,  8., 13.,  0.,  0.],\n",
       "       [ 7., 13.,  3.,  8.,  9.,  0.,  0.],\n",
       "       [ 7.,  5., 11., 12., 11.,  0.,  0.]])"
      ]
     },
     "execution_count": 26,
     "metadata": {},
     "output_type": "execute_result"
    }
   ],
   "source": [
    "#Ajout de colonnes avec la fonction append(nom_matrice, colonne_à_inseré, axis = 1)\n",
    "np.append(t, np.zeros((3, 2)), axis = 1)"
   ]
  },
  {
   "cell_type": "code",
   "execution_count": 35,
   "id": "2041ea91",
   "metadata": {},
   "outputs": [
    {
     "data": {
      "text/plain": [
       "array([[15.,  5.,  9.,  8., 13.,  0.],\n",
       "       [ 7., 13.,  3.,  8.,  9.,  0.],\n",
       "       [ 7.,  5., 11., 12., 11.,  0.]])"
      ]
     },
     "execution_count": 35,
     "metadata": {},
     "output_type": "execute_result"
    }
   ],
   "source": [
    "#Ajout d'une seule colonne avec la fonction colomn_satck(nom_matrice, colonne_à_inseré)\n",
    "np.column_stack((t, np.zeros(3)))"
   ]
  },
  {
   "cell_type": "code",
   "execution_count": 55,
   "id": "aad74958",
   "metadata": {},
   "outputs": [
    {
     "data": {
      "text/plain": [
       "array([[ 3.,  7., 10., 10., 11.],\n",
       "       [ 5.,  3., 12., 11.,  2.],\n",
       "       [13.,  8., 11., 10., 10.],\n",
       "       [ 1.,  1.,  1.,  1.,  1.],\n",
       "       [ 1.,  1.,  1.,  1.,  1.]])"
      ]
     },
     "execution_count": 55,
     "metadata": {},
     "output_type": "execute_result"
    }
   ],
   "source": [
    "#Ajout de ligne avec la fonction append(nom_matrice, ligne_à_inseré, axis = 0)\n",
    "np.append(t, np.ones((2, 5)), axis = 0)"
   ]
  },
  {
   "cell_type": "markdown",
   "id": "d95c2cfc",
   "metadata": {},
   "source": [
    "##### Ajout des valeurs constantes à la ou aux bordures du tableau avec la fonction pad()"
   ]
  },
  {
   "cell_type": "code",
   "execution_count": 36,
   "id": "da41a31f",
   "metadata": {},
   "outputs": [
    {
     "name": "stdout",
     "output_type": "stream",
     "text": [
      "la matrice p :\n",
      " [[14 11  7]\n",
      " [ 6  6 13]]\n"
     ]
    }
   ],
   "source": [
    "p = np.random.randint(1, 16,(2, 3))\n",
    "print(\"la matrice p :\\n\", p)"
   ]
  },
  {
   "cell_type": "code",
   "execution_count": 47,
   "id": "91d799b8",
   "metadata": {},
   "outputs": [
    {
     "data": {
      "text/plain": [
       "array([[ 0,  0,  0,  0,  0,  0,  0],\n",
       "       [ 0,  0,  0,  0,  0,  0,  0],\n",
       "       [ 0,  0, 14, 11,  7,  0,  0],\n",
       "       [ 0,  0,  6,  6, 13,  0,  0],\n",
       "       [ 0,  0,  0,  0,  0,  0,  0]])"
      ]
     },
     "execution_count": 47,
     "metadata": {},
     "output_type": "execute_result"
    }
   ],
   "source": [
    "#Ajout de valeur constante (par defaut la valeur est 0) avec la fonction pad(nom_matrice, ((i, j), (k, t)))\n",
    "#i représente le nbre de chiffres à ajouter en haut\n",
    "#j représente le nbre de chiffres à ajouter en bas\n",
    "#k représente le nbre de chiffres à ajouter en gauche\n",
    "#t représente le nbre de chiffres à ajouter en droite\n",
    "np.pad(p, ((2, 1), (2, 2)))"
   ]
  },
  {
   "cell_type": "code",
   "execution_count": 48,
   "id": "ff79e8aa",
   "metadata": {},
   "outputs": [
    {
     "data": {
      "text/plain": [
       "array([[ 5,  5,  5,  5],\n",
       "       [ 5,  5,  5,  5],\n",
       "       [ 5, 14, 11,  7],\n",
       "       [ 5,  6,  6, 13],\n",
       "       [ 5,  5,  5,  5]])"
      ]
     },
     "execution_count": 48,
     "metadata": {},
     "output_type": "execute_result"
    }
   ],
   "source": [
    "#Ajout de valeur constante (valeur = 5) avec la fonction pad(nom_matrice, ((i, j), (k, t)), constant_values = 5)\n",
    "np.pad(p, ((2, 1), (1, 0)), constant_values = 5)"
   ]
  },
  {
   "cell_type": "code",
   "execution_count": 49,
   "id": "5bd1baae",
   "metadata": {},
   "outputs": [
    {
     "data": {
      "text/plain": [
       "array([[ 0,  0,  0,  0,  0],\n",
       "       [ 0, 14, 11,  7,  0],\n",
       "       [ 0,  6,  6, 13,  0],\n",
       "       [ 0,  0,  0,  0,  0]])"
      ]
     },
     "execution_count": 49,
     "metadata": {},
     "output_type": "execute_result"
    }
   ],
   "source": [
    "#Ajout de valeur constante avec la fonction pad(nom_matrice, 1), ajoute à toutes les bordures le chiffre renseigné\n",
    "np.pad(p, 1)"
   ]
  },
  {
   "cell_type": "markdown",
   "id": "a896a1f9",
   "metadata": {},
   "source": [
    "### - Meshgrids (Grille de maillage)"
   ]
  },
  {
   "cell_type": "code",
   "execution_count": 58,
   "id": "6ea853c5",
   "metadata": {},
   "outputs": [
    {
     "name": "stdout",
     "output_type": "stream",
     "text": [
      "[[ 0.  1.  2.]\n",
      " [-1.  0.  1.]]\n"
     ]
    }
   ],
   "source": [
    "#La logique de C\n",
    "a = np.empty((2, 3))\n",
    "for i in range(2):\n",
    "    for j in range(3):\n",
    "        a[i, j] = j-i\n",
    "print(a)"
   ]
  },
  {
   "cell_type": "code",
   "execution_count": 60,
   "id": "0dfc1580",
   "metadata": {},
   "outputs": [
    {
     "data": {
      "text/plain": [
       "array([[ 0,  1,  2],\n",
       "       [-1,  0,  1]])"
      ]
     },
     "execution_count": 60,
     "metadata": {},
     "output_type": "execute_result"
    }
   ],
   "source": [
    "#La logique de Python (permet de remplir aléatoirement un tableau suivant la taille ces dimensions)\n",
    "c = [[(j-i) for j in range(3)] for i in range(2)]\n",
    "a = np.array(c)\n",
    "a"
   ]
  },
  {
   "cell_type": "code",
   "execution_count": null,
   "id": "f9e7556f",
   "metadata": {},
   "outputs": [],
   "source": []
  }
 ],
 "metadata": {
  "kernelspec": {
   "display_name": "Python 3 (ipykernel)",
   "language": "python",
   "name": "python3"
  },
  "language_info": {
   "codemirror_mode": {
    "name": "ipython",
    "version": 3
   },
   "file_extension": ".py",
   "mimetype": "text/x-python",
   "name": "python",
   "nbconvert_exporter": "python",
   "pygments_lexer": "ipython3",
   "version": "3.9.12"
  }
 },
 "nbformat": 4,
 "nbformat_minor": 5
}
