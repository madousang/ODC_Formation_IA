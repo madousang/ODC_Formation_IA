{
 "cells": [
  {
   "cell_type": "code",
   "execution_count": 1,
   "id": "53f984ad",
   "metadata": {},
   "outputs": [
    {
     "ename": "ModuleNotFoundError",
     "evalue": "No module named 'TP_2_Classe'",
     "output_type": "error",
     "traceback": [
      "\u001b[1;31m---------------------------------------------------------------------------\u001b[0m",
      "\u001b[1;31mModuleNotFoundError\u001b[0m                       Traceback (most recent call last)",
      "Input \u001b[1;32mIn [1]\u001b[0m, in \u001b[0;36m<cell line: 1>\u001b[1;34m()\u001b[0m\n\u001b[1;32m----> 1\u001b[0m \u001b[38;5;28;01mfrom\u001b[39;00m \u001b[38;5;21;01mTP_2_Classe\u001b[39;00m \u001b[38;5;28;01mimport\u001b[39;00m TP_2_Classe \n\u001b[0;32m      3\u001b[0m p1 \u001b[38;5;241m=\u001b[39m TP_2_Classe()\n\u001b[0;32m      4\u001b[0m p1\u001b[38;5;241m.\u001b[39mfunct_df()\n",
      "\u001b[1;31mModuleNotFoundError\u001b[0m: No module named 'TP_2_Classe'"
     ]
    }
   ],
   "source": [
    "from TP_2_Classe import TP_2_Classe \n",
    "\n",
    "p1 = TP_2_Classe()\n",
    "p1.funct_df()"
   ]
  },
  {
   "cell_type": "code",
   "execution_count": null,
   "id": "e1755d90",
   "metadata": {},
   "outputs": [],
   "source": []
  },
  {
   "cell_type": "code",
   "execution_count": null,
   "id": "5d0d2bbc",
   "metadata": {},
   "outputs": [],
   "source": []
  },
  {
   "cell_type": "code",
   "execution_count": null,
   "id": "2b7f4b87",
   "metadata": {},
   "outputs": [],
   "source": []
  }
 ],
 "metadata": {
  "kernelspec": {
   "display_name": "Python 3 (ipykernel)",
   "language": "python",
   "name": "python3"
  },
  "language_info": {
   "codemirror_mode": {
    "name": "ipython",
    "version": 3
   },
   "file_extension": ".py",
   "mimetype": "text/x-python",
   "name": "python",
   "nbconvert_exporter": "python",
   "pygments_lexer": "ipython3",
   "version": "3.9.12"
  }
 },
 "nbformat": 4,
 "nbformat_minor": 5
}
