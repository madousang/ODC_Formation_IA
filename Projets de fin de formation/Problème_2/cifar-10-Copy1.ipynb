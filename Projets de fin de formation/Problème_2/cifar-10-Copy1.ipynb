{
 "cells": [
  {
   "cell_type": "markdown",
   "metadata": {},
   "source": [
    "### - Importation des bibliothèques necessaires"
   ]
  },
  {
   "cell_type": "code",
   "execution_count": 1,
   "metadata": {
    "execution": {
     "iopub.execute_input": "2022-07-07T12:23:46.401489Z",
     "iopub.status.busy": "2022-07-07T12:23:46.400742Z",
     "iopub.status.idle": "2022-07-07T12:23:46.403558Z",
     "shell.execute_reply": "2022-07-07T12:23:46.403116Z"
    },
    "papermill": {
     "duration": 0.055909,
     "end_time": "2022-07-07T12:23:46.403652",
     "exception": false,
     "start_time": "2022-07-07T12:23:46.347743",
     "status": "completed"
    },
    "tags": []
   },
   "outputs": [],
   "source": [
    "from tensorflow.keras.models import Sequential\n",
    "from tensorflow.keras.layers import Conv2D,MaxPool2D,Dense,Flatten,Dropout,Input, AveragePooling2D, Activation,Conv2D, MaxPooling2D, BatchNormalization,Concatenate\n",
    "from tensorflow.keras import regularizers, optimizers\n",
    "from tensorflow.keras.datasets import cifar10\n",
    "from tensorflow.keras.utils import to_categorical\n",
    "import pandas as pd"
   ]
  },
  {
   "cell_type": "markdown",
   "metadata": {},
   "source": [
    "### Problème de classification d'images : Reseau de neurone convolutionnel (CNN)\n",
    "* On veut classer les 60000 images de l'ensemble de donnée CIFAR-10 en ces 10 classes.\n",
    "* **Formulation mathematique du problème** : \n",
    "    * On part de l'equation d'un problème de classification en machine learning  \n",
    "                                        a(x) = b + w*x = b + sommei(wixi)\n",
    "    * Où les xi sont les paramètre à chercher.\n",
    "    * Sur cette equation on applique une fonction d'activation g(x):\n",
    "                                        h(x) = g(a(x)) = g(b + sommei(wixi))\n",
    "* Le reseau se compose de cette fonction d'activation au niveau de chaque neurone."
   ]
  },
  {
   "cell_type": "markdown",
   "metadata": {},
   "source": [
    "### - Importation du dataset"
   ]
  },
  {
   "cell_type": "markdown",
   "metadata": {},
   "source": [
    "* L'ensemble de données **CIFAR-10** se compose de **60 000 images couleur 32x32** réparties en **10 classes**, avec **6 000 images par classe**. Il y a **50 000 images d'entraînement** et **10 000 images de test**."
   ]
  },
  {
   "cell_type": "code",
   "execution_count": 2,
   "metadata": {
    "execution": {
     "iopub.execute_input": "2022-07-07T12:23:34.310838Z",
     "iopub.status.busy": "2022-07-07T12:23:34.310107Z",
     "iopub.status.idle": "2022-07-07T12:23:45.645466Z",
     "shell.execute_reply": "2022-07-07T12:23:45.644855Z"
    },
    "papermill": {
     "duration": 11.36879,
     "end_time": "2022-07-07T12:23:45.645614",
     "exception": false,
     "start_time": "2022-07-07T12:23:34.276824",
     "status": "completed"
    },
    "scrolled": true,
    "tags": []
   },
   "outputs": [
    {
     "name": "stdout",
     "output_type": "stream",
     "text": [
      "Forme de x_train (50000, 32, 32, 3)\n",
      "Forme de x_test (10000, 32, 32, 3)\n",
      "Forme de y_train (50000, 1)\n",
      "Forme de y_test (10000, 1)\n"
     ]
    }
   ],
   "source": [
    "(x_train, y_train), (x_test, y_test)=cifar10.load_data()\n",
    "\n",
    "print('Forme de x_train {}'.format(x_train.shape))\n",
    "print('Forme de x_test {}'.format(x_test.shape)) \n",
    "print('Forme de y_train {}'.format(y_train.shape))\n",
    "print('Forme de y_test {}'.format(y_test.shape))"
   ]
  },
  {
   "cell_type": "markdown",
   "metadata": {},
   "source": [
    "#### - Normalisation et encodage"
   ]
  },
  {
   "cell_type": "code",
   "execution_count": 3,
   "metadata": {
    "execution": {
     "iopub.execute_input": "2022-07-07T12:23:45.844050Z",
     "iopub.status.busy": "2022-07-07T12:23:45.843096Z",
     "iopub.status.idle": "2022-07-07T12:23:46.300198Z",
     "shell.execute_reply": "2022-07-07T12:23:46.299713Z"
    },
    "papermill": {
     "duration": 0.510501,
     "end_time": "2022-07-07T12:23:46.300324",
     "exception": false,
     "start_time": "2022-07-07T12:23:45.789823",
     "status": "completed"
    },
    "tags": []
   },
   "outputs": [],
   "source": [
    "# Normalizing\n",
    "x_train=x_train/255\n",
    "x_test=x_test/255\n",
    "\n",
    "#One hot encoding\n",
    "y_train_cat=to_categorical(y_train,10)\n",
    "y_test_cat=to_categorical(y_test,10)"
   ]
  },
  {
   "attachments": {},
   "cell_type": "markdown",
   "metadata": {},
   "source": [
    "## Solution au problème :\n",
    "* A l'entrée du reseau on connecte chacune des observations à chaque noeud du reseau, de manière successive chaque noeud seront interconnecté jusqu'à la sortie du reseau.\n",
    "* A la sortie du reseau on a une couche de sortie qui fait une prediction de 10 classes.\n",
    "* Par la suite la prediction faite sera comparé à la variable réelle tout en mesurant l'erreur entre les deux d'où la fonction de perte :\n",
    "                            E(y_true, y_predict) = (1/2*m)*sommei(||y_truei - y_predicti^||^2).\n",
    "* Sur cette fonction de perte on applique le gradiant qui calcul les paramètres optimaux pouvant minimiser l'erreur.\n",
    "                                            Pk+1 = Pk − αk .grad f (Pk )\n",
    "* Où Pk sont les paramètres à optimiser, αk est taux d'apprentissage et m un paramètre de regularisation.\n",
    "* En fin ces paramètres seront appliqués au reseau."
   ]
  },
  {
   "cell_type": "markdown",
   "metadata": {
    "papermill": {
     "duration": 0.047754,
     "end_time": "2022-07-07T12:23:46.593689",
     "exception": false,
     "start_time": "2022-07-07T12:23:46.545935",
     "status": "completed"
    },
    "tags": []
   },
   "source": [
    "## Modèle de base\n",
    "* Commençons avec 2 couches CNN de base, où chaque couche est attachée à une couche maxpool. La mise en commun maximale est un excellent moyen de réduire la taille des paramètres sans perdre beaucoup d'informations. Comme d'habitude dans tout modèle d'apprentissage en profondeur, nous devons aplatir les résultats des couches intermédiaires et les transmettre à un réseau dense. Ensuite, le résultat du réseau dense sera transmis à une couche de sortie finale où le nombre d'unités représente le nombre de catégories dans les données, soit 10 dans notre cas. Softmax est choisi comme activation finale car nous avons besoin de la classe probable la plus élevée sur 10.\n",
    "* Enfin, compilons notre modèle avec une fonction de perte d'entropie croisée catégorique, un optimisuer Adam et un metric accuracy.\n",
    "* **MaxPool2D** : Opération de regroupement maximum pour les données spatiales 2D.\n",
    "* **pool_size** : entier ou tuple de 2 entiers, taille de fenêtre sur laquelle prendre le maximum. "
   ]
  },
  {
   "cell_type": "code",
   "execution_count": 4,
   "metadata": {
    "execution": {
     "iopub.execute_input": "2022-07-07T12:23:46.698566Z",
     "iopub.status.busy": "2022-07-07T12:23:46.697789Z",
     "iopub.status.idle": "2022-07-07T12:23:48.729775Z",
     "shell.execute_reply": "2022-07-07T12:23:48.729293Z"
    },
    "papermill": {
     "duration": 2.0879,
     "end_time": "2022-07-07T12:23:48.729887",
     "exception": false,
     "start_time": "2022-07-07T12:23:46.641987",
     "status": "completed"
    },
    "tags": []
   },
   "outputs": [],
   "source": [
    "model1=Sequential() # Création du model sequentiel\n",
    "model1.add(Conv2D(filters=32,kernel_size=(4,4),input_shape=(32,32,3),activation='relu')) # Couche convolutive d'entée avec des images 32x32 codée sur un vecteurs de dim 3\n",
    "model1.add(MaxPool2D(pool_size=(2,2))) # Couche de regroupement\n",
    "model1.add(Conv2D(filters=32,kernel_size=(4,4),input_shape=(32,32,3),activation='relu'))\n",
    "model1.add(MaxPool2D(pool_size=(2,2)))\n",
    "model1.add(Flatten()) # Couche qui aplatis les données 2d en entrées en une sortie 1d \n",
    "model1.add(Dense(256,activation='relu')) # Couche dense dont tous ces neuronnes sont entièrement connectés à la sortie de la couche précédente\n",
    "model1.add(Dense(10,activation='softmax')) # Couche de sortie avec un foncton d'activation softmax\n",
    "model1.compile(loss='categorical_crossentropy',optimizer='adam',metrics=['accuracy'])"
   ]
  },
  {
   "cell_type": "code",
   "execution_count": 5,
   "metadata": {
    "execution": {
     "iopub.execute_input": "2022-07-07T12:23:48.833549Z",
     "iopub.status.busy": "2022-07-07T12:23:48.832449Z",
     "iopub.status.idle": "2022-07-07T12:23:48.838509Z",
     "shell.execute_reply": "2022-07-07T12:23:48.839008Z"
    },
    "papermill": {
     "duration": 0.061029,
     "end_time": "2022-07-07T12:23:48.839127",
     "exception": false,
     "start_time": "2022-07-07T12:23:48.778098",
     "status": "completed"
    },
    "scrolled": false,
    "tags": []
   },
   "outputs": [
    {
     "name": "stdout",
     "output_type": "stream",
     "text": [
      "Model: \"sequential\"\n",
      "_________________________________________________________________\n",
      " Layer (type)                Output Shape              Param #   \n",
      "=================================================================\n",
      " conv2d (Conv2D)             (None, 29, 29, 32)        1568      \n",
      "                                                                 \n",
      " max_pooling2d (MaxPooling2D  (None, 14, 14, 32)       0         \n",
      " )                                                               \n",
      "                                                                 \n",
      " conv2d_1 (Conv2D)           (None, 11, 11, 32)        16416     \n",
      "                                                                 \n",
      " max_pooling2d_1 (MaxPooling  (None, 5, 5, 32)         0         \n",
      " 2D)                                                             \n",
      "                                                                 \n",
      " flatten (Flatten)           (None, 800)               0         \n",
      "                                                                 \n",
      " dense (Dense)               (None, 256)               205056    \n",
      "                                                                 \n",
      " dense_1 (Dense)             (None, 10)                2570      \n",
      "                                                                 \n",
      "=================================================================\n",
      "Total params: 225,610\n",
      "Trainable params: 225,610\n",
      "Non-trainable params: 0\n",
      "_________________________________________________________________\n"
     ]
    }
   ],
   "source": [
    "model1.summary()"
   ]
  },
  {
   "cell_type": "markdown",
   "metadata": {},
   "source": [
    "#### - Entrainement du modèle"
   ]
  },
  {
   "cell_type": "code",
   "execution_count": 6,
   "metadata": {
    "execution": {
     "iopub.execute_input": "2022-07-07T12:23:48.940623Z",
     "iopub.status.busy": "2022-07-07T12:23:48.939724Z",
     "iopub.status.idle": "2022-07-07T12:25:32.906818Z",
     "shell.execute_reply": "2022-07-07T12:25:32.906349Z"
    },
    "papermill": {
     "duration": 104.019537,
     "end_time": "2022-07-07T12:25:32.906931",
     "exception": false,
     "start_time": "2022-07-07T12:23:48.887394",
     "status": "completed"
    },
    "tags": []
   },
   "outputs": [
    {
     "name": "stdout",
     "output_type": "stream",
     "text": [
      "Epoch 1/20\n",
      "1563/1563 [==============================] - 109s 56ms/step - loss: 1.4867 - accuracy: 0.4628 - val_loss: 1.2432 - val_accuracy: 0.5543\n",
      "Epoch 2/20\n",
      "1563/1563 [==============================] - 61s 39ms/step - loss: 1.1642 - accuracy: 0.5901 - val_loss: 1.1192 - val_accuracy: 0.6009\n",
      "Epoch 3/20\n",
      "1563/1563 [==============================] - 65s 41ms/step - loss: 1.0250 - accuracy: 0.6412 - val_loss: 1.0203 - val_accuracy: 0.6425\n",
      "Epoch 4/20\n",
      "1563/1563 [==============================] - 61s 39ms/step - loss: 0.9168 - accuracy: 0.6789 - val_loss: 1.0159 - val_accuracy: 0.6505\n",
      "Epoch 5/20\n",
      "1563/1563 [==============================] - 60s 38ms/step - loss: 0.8273 - accuracy: 0.7092 - val_loss: 0.9955 - val_accuracy: 0.6569\n",
      "Epoch 6/20\n",
      "1563/1563 [==============================] - 65s 42ms/step - loss: 0.7454 - accuracy: 0.7402 - val_loss: 0.9762 - val_accuracy: 0.6682\n",
      "Epoch 7/20\n",
      "1563/1563 [==============================] - 76s 48ms/step - loss: 0.6729 - accuracy: 0.7636 - val_loss: 1.1204 - val_accuracy: 0.6325\n",
      "Epoch 8/20\n",
      "1563/1563 [==============================] - 77s 49ms/step - loss: 0.6111 - accuracy: 0.7883 - val_loss: 0.9892 - val_accuracy: 0.6792\n",
      "Epoch 9/20\n",
      "1563/1563 [==============================] - 80s 51ms/step - loss: 0.5529 - accuracy: 0.8062 - val_loss: 1.0360 - val_accuracy: 0.6794\n",
      "Epoch 10/20\n",
      "1563/1563 [==============================] - 81s 52ms/step - loss: 0.4940 - accuracy: 0.8290 - val_loss: 1.0181 - val_accuracy: 0.6886\n",
      "Epoch 11/20\n",
      "1563/1563 [==============================] - 76s 49ms/step - loss: 0.4422 - accuracy: 0.8459 - val_loss: 1.1718 - val_accuracy: 0.6733\n",
      "Epoch 12/20\n",
      "1563/1563 [==============================] - 78s 50ms/step - loss: 0.3944 - accuracy: 0.8612 - val_loss: 1.1719 - val_accuracy: 0.6829\n",
      "Epoch 13/20\n",
      "1563/1563 [==============================] - 76s 49ms/step - loss: 0.3478 - accuracy: 0.8787 - val_loss: 1.2505 - val_accuracy: 0.6767\n",
      "Epoch 14/20\n",
      "1563/1563 [==============================] - 78s 50ms/step - loss: 0.3066 - accuracy: 0.8923 - val_loss: 1.3534 - val_accuracy: 0.6782\n",
      "Epoch 15/20\n",
      "1563/1563 [==============================] - 75s 48ms/step - loss: 0.2718 - accuracy: 0.9043 - val_loss: 1.4821 - val_accuracy: 0.6619\n",
      "Epoch 16/20\n",
      "1563/1563 [==============================] - 85s 54ms/step - loss: 0.2466 - accuracy: 0.9125 - val_loss: 1.5514 - val_accuracy: 0.6675\n",
      "Epoch 17/20\n",
      "1563/1563 [==============================] - 82s 52ms/step - loss: 0.2261 - accuracy: 0.9201 - val_loss: 1.6684 - val_accuracy: 0.6613\n",
      "Epoch 18/20\n",
      "1563/1563 [==============================] - 96s 61ms/step - loss: 0.1951 - accuracy: 0.9314 - val_loss: 1.7091 - val_accuracy: 0.6670\n",
      "Epoch 19/20\n",
      "1563/1563 [==============================] - 88s 56ms/step - loss: 0.1780 - accuracy: 0.9362 - val_loss: 1.7955 - val_accuracy: 0.6668\n",
      "Epoch 20/20\n",
      "1563/1563 [==============================] - 85s 55ms/step - loss: 0.1662 - accuracy: 0.9412 - val_loss: 1.9373 - val_accuracy: 0.6605\n"
     ]
    }
   ],
   "source": [
    "history1=model1.fit(x_train,y_train_cat,epochs=20,validation_data=(x_test,y_test_cat))"
   ]
  },
  {
   "cell_type": "markdown",
   "metadata": {},
   "source": [
    "#### - Evaluation du modèle"
   ]
  },
  {
   "cell_type": "code",
   "execution_count": 7,
   "metadata": {
    "execution": {
     "iopub.execute_input": "2022-07-07T12:25:33.962893Z",
     "iopub.status.busy": "2022-07-07T12:25:33.961928Z",
     "iopub.status.idle": "2022-07-07T12:25:34.824772Z",
     "shell.execute_reply": "2022-07-07T12:25:34.825401Z"
    },
    "papermill": {
     "duration": 1.391694,
     "end_time": "2022-07-07T12:25:34.825564",
     "exception": false,
     "start_time": "2022-07-07T12:25:33.433870",
     "status": "completed"
    },
    "tags": []
   },
   "outputs": [
    {
     "name": "stdout",
     "output_type": "stream",
     "text": [
      "313/313 [==============================] - 6s 17ms/step - loss: 1.9373 - accuracy: 0.6605\n",
      "Test Accuracy: 0.6604999899864197\n"
     ]
    }
   ],
   "source": [
    "evaluation = model1.evaluate(x_test, y_test_cat)\n",
    "print('Test Accuracy: {}'.format(evaluation[1]))"
   ]
  },
  {
   "cell_type": "code",
   "execution_count": 8,
   "metadata": {
    "execution": {
     "iopub.execute_input": "2022-07-07T12:25:35.912040Z",
     "iopub.status.busy": "2022-07-07T12:25:35.911426Z",
     "iopub.status.idle": "2022-07-07T12:25:36.138901Z",
     "shell.execute_reply": "2022-07-07T12:25:36.138402Z"
    },
    "papermill": {
     "duration": 0.778113,
     "end_time": "2022-07-07T12:25:36.139005",
     "exception": false,
     "start_time": "2022-07-07T12:25:35.360892",
     "status": "completed"
    },
    "tags": []
   },
   "outputs": [
    {
     "data": {
      "text/plain": [
       "<AxesSubplot:>"
      ]
     },
     "execution_count": 8,
     "metadata": {},
     "output_type": "execute_result"
    },
    {
     "data": {
      "image/png": "[encoded data removed]",
      "text/plain": [
       "<Figure size 640x480 with 1 Axes>"
      ]
     },
     "metadata": {},
     "output_type": "display_data"
    }
   ],
   "source": [
    "pd.DataFrame(history1.history).plot()"
   ]
  },
  {
   "cell_type": "markdown",
   "metadata": {
    "papermill": {
     "duration": 0.535533,
     "end_time": "2022-07-07T12:25:37.266080",
     "exception": false,
     "start_time": "2022-07-07T12:25:36.730547",
     "status": "completed"
    },
    "tags": []
   },
   "source": [
    "En utilisant notre modèle de base, on observe une précision d'entraînement de 88 % et une précision de test de 65 %, ce qui n'est pas si génial, mais nous utilisons toujours un modèle très simple. Nous pouvons effectuer de nombreux ajustements pour obtenir une assez bonne précision. Si vous observez le journal d'entraînement du modèle ci-dessus, vous pouvez voir que la perte de validation augmente beaucoup, ce qui signifie que notre modèle est surajusté.\n",
    "\n",
    "Le surajustement signifie que notre modèle fonctionne bien sur l'ensemble de données d'apprentissage, mais ne parvient pas à généraliser sur les données invisibles. Essayons de réduire le surajustement.\n",
    "\n",
    "On pourrais reduire le surajustement en appliquant la regularisation.\n",
    "\n",
    "Dans l'apprentissage en profondeur, **Dropout** est une méthode de régularisation qui se rapproche de la formation d'un grand nombre de réseaux de neurones avec différentes architectures en parallèle.\n",
    "\n",
    "**Dropout** signifie littéralement que nous allons supprimer certaines des unités neuronales au hasard de notre réseau, ce qui oblige la couche suivante à réapprendre les modèles. De cette façon, notre modèle deviendra plus robuste et se généralise bien. "
   ]
  },
  {
   "cell_type": "markdown",
   "metadata": {
    "papermill": {
     "duration": 0.544514,
     "end_time": "2022-07-07T12:25:38.343808",
     "exception": false,
     "start_time": "2022-07-07T12:25:37.799294",
     "status": "completed"
    },
    "tags": []
   },
   "source": [
    "## Model 2 : Ajout de Drop out"
   ]
  },
  {
   "cell_type": "code",
   "execution_count": 9,
   "metadata": {
    "execution": {
     "iopub.execute_input": "2022-07-07T12:25:39.427698Z",
     "iopub.status.busy": "2022-07-07T12:25:39.426813Z",
     "iopub.status.idle": "2022-07-07T12:27:27.482827Z",
     "shell.execute_reply": "2022-07-07T12:27:27.482353Z"
    },
    "papermill": {
     "duration": 108.604373,
     "end_time": "2022-07-07T12:27:27.482948",
     "exception": false,
     "start_time": "2022-07-07T12:25:38.878575",
     "status": "completed"
    },
    "tags": []
   },
   "outputs": [
    {
     "name": "stdout",
     "output_type": "stream",
     "text": [
      "Epoch 1/20\n",
      "1563/1563 [==============================] - 106s 65ms/step - loss: 1.5527 - accuracy: 0.4362 - val_loss: 1.2801 - val_accuracy: 0.5415\n",
      "Epoch 2/20\n",
      "1563/1563 [==============================] - 95s 61ms/step - loss: 1.2708 - accuracy: 0.5496 - val_loss: 1.1479 - val_accuracy: 0.5958\n",
      "Epoch 3/20\n",
      "1563/1563 [==============================] - 113s 72ms/step - loss: 1.1395 - accuracy: 0.5975 - val_loss: 1.0656 - val_accuracy: 0.6204\n",
      "Epoch 4/20\n",
      "1563/1563 [==============================] - 102s 65ms/step - loss: 1.0558 - accuracy: 0.6267 - val_loss: 0.9665 - val_accuracy: 0.6648\n",
      "Epoch 5/20\n",
      "1563/1563 [==============================] - 90s 58ms/step - loss: 0.9832 - accuracy: 0.6531 - val_loss: 0.9429 - val_accuracy: 0.6744\n",
      "Epoch 6/20\n",
      "1563/1563 [==============================] - 94s 60ms/step - loss: 0.9294 - accuracy: 0.6740 - val_loss: 0.9092 - val_accuracy: 0.6812\n",
      "Epoch 7/20\n",
      "1563/1563 [==============================] - 97s 62ms/step - loss: 0.8807 - accuracy: 0.6910 - val_loss: 0.9293 - val_accuracy: 0.6789\n",
      "Epoch 8/20\n",
      "1563/1563 [==============================] - 94s 60ms/step - loss: 0.8426 - accuracy: 0.7049 - val_loss: 0.8890 - val_accuracy: 0.6906\n",
      "Epoch 9/20\n",
      "1563/1563 [==============================] - 98s 62ms/step - loss: 0.8143 - accuracy: 0.7135 - val_loss: 0.9101 - val_accuracy: 0.6843\n",
      "Epoch 10/20\n",
      "1563/1563 [==============================] - 100s 64ms/step - loss: 0.7811 - accuracy: 0.7251 - val_loss: 0.8895 - val_accuracy: 0.6957\n",
      "Epoch 11/20\n",
      "1563/1563 [==============================] - 96s 61ms/step - loss: 0.7587 - accuracy: 0.7299 - val_loss: 0.8537 - val_accuracy: 0.7075\n",
      "Epoch 12/20\n",
      "1563/1563 [==============================] - 97s 62ms/step - loss: 0.7321 - accuracy: 0.7413 - val_loss: 0.8660 - val_accuracy: 0.7031\n",
      "Epoch 13/20\n",
      "1563/1563 [==============================] - 98s 63ms/step - loss: 0.7106 - accuracy: 0.7488 - val_loss: 0.9196 - val_accuracy: 0.6875\n",
      "Epoch 14/20\n",
      "1563/1563 [==============================] - 96s 61ms/step - loss: 0.6930 - accuracy: 0.7530 - val_loss: 0.8563 - val_accuracy: 0.7088\n",
      "Epoch 15/20\n",
      "1563/1563 [==============================] - 95s 61ms/step - loss: 0.6765 - accuracy: 0.7611 - val_loss: 0.8803 - val_accuracy: 0.7004\n",
      "Epoch 16/20\n",
      "1563/1563 [==============================] - 97s 62ms/step - loss: 0.6568 - accuracy: 0.7694 - val_loss: 0.8597 - val_accuracy: 0.7187\n",
      "Epoch 17/20\n",
      "1563/1563 [==============================] - 84s 54ms/step - loss: 0.6479 - accuracy: 0.7709 - val_loss: 0.8645 - val_accuracy: 0.7114\n",
      "Epoch 18/20\n",
      "1563/1563 [==============================] - 95s 61ms/step - loss: 0.6334 - accuracy: 0.7756 - val_loss: 0.8731 - val_accuracy: 0.7077\n",
      "Epoch 19/20\n",
      "1563/1563 [==============================] - 94s 60ms/step - loss: 0.6189 - accuracy: 0.7819 - val_loss: 0.8780 - val_accuracy: 0.7163\n",
      "Epoch 20/20\n",
      "1563/1563 [==============================] - 94s 60ms/step - loss: 0.6120 - accuracy: 0.7853 - val_loss: 0.8861 - val_accuracy: 0.7106\n"
     ]
    }
   ],
   "source": [
    "model2=Sequential()\n",
    "model2.add(Conv2D(filters=32,kernel_size=(4,4),input_shape=(32,32,3),activation='relu'))\n",
    "model2.add(MaxPool2D(pool_size=(2,2)))\n",
    "model2.add(Dropout(0.25)) # 25% des sorties de neuronnes seront mises à zéro.\n",
    "model2.add(Conv2D(filters=32,kernel_size=(4,4),input_shape=(32,32,3),activation='relu'))\n",
    "model2.add(MaxPool2D(pool_size=(2,2)))\n",
    "model2.add(Dropout(0.25)) # 25% des sorties de neuronnes seront mises à zéro.\n",
    "model2.add(Flatten())\n",
    "model2.add(Dense(256,activation='relu'))\n",
    "model2.add(Dense(10,activation='softmax'))\n",
    "model2.compile(loss='categorical_crossentropy',optimizer='adam',metrics=['accuracy'])\n",
    "\n",
    "history2=model2.fit(x_train,y_train_cat,epochs=20,validation_data=(x_test,y_test_cat))"
   ]
  },
  {
   "cell_type": "code",
   "execution_count": 10,
   "metadata": {
    "execution": {
     "iopub.execute_input": "2022-07-07T12:27:29.675429Z",
     "iopub.status.busy": "2022-07-07T12:27:29.674499Z",
     "iopub.status.idle": "2022-07-07T12:27:30.542144Z",
     "shell.execute_reply": "2022-07-07T12:27:30.542847Z"
    },
    "papermill": {
     "duration": 1.974892,
     "end_time": "2022-07-07T12:27:30.543012",
     "exception": false,
     "start_time": "2022-07-07T12:27:28.568120",
     "status": "completed"
    },
    "tags": []
   },
   "outputs": [
    {
     "name": "stdout",
     "output_type": "stream",
     "text": [
      "313/313 [==============================] - 7s 22ms/step - loss: 0.8861 - accuracy: 0.7106\n",
      "Test Accuracy: 0.7106000185012817\n"
     ]
    }
   ],
   "source": [
    "evaluation = model2.evaluate(x_test, y_test_cat)\n",
    "print('Test Accuracy: {}'.format(evaluation[1]))"
   ]
  },
  {
   "cell_type": "code",
   "execution_count": 11,
   "metadata": {
    "execution": {
     "iopub.execute_input": "2022-07-07T12:27:33.014527Z",
     "iopub.status.busy": "2022-07-07T12:27:33.013713Z",
     "iopub.status.idle": "2022-07-07T12:27:33.209597Z",
     "shell.execute_reply": "2022-07-07T12:27:33.210089Z"
    },
    "papermill": {
     "duration": 1.344327,
     "end_time": "2022-07-07T12:27:33.210254",
     "exception": false,
     "start_time": "2022-07-07T12:27:31.865927",
     "status": "completed"
    },
    "tags": []
   },
   "outputs": [
    {
     "data": {
      "text/plain": [
       "<AxesSubplot:>"
      ]
     },
     "execution_count": 11,
     "metadata": {},
     "output_type": "execute_result"
    },
    {
     "data": {
      "image/png": "[encoded data removed]",
      "text/plain": [
       "<Figure size 640x480 with 1 Axes>"
      ]
     },
     "metadata": {},
     "output_type": "display_data"
    }
   ],
   "source": [
    "pd.DataFrame(history2.history).plot()"
   ]
  },
  {
   "cell_type": "markdown",
   "metadata": {
    "papermill": {
     "duration": 1.130021,
     "end_time": "2022-07-07T12:27:35.476815",
     "exception": false,
     "start_time": "2022-07-07T12:27:34.346794",
     "status": "completed"
    },
    "tags": []
   },
   "source": [
    "L'ajout des couches Dropout entraîne une amélioration de la précision sur les données de validation de 65 à 71 %."
   ]
  },
  {
   "cell_type": "markdown",
   "metadata": {
    "papermill": {
     "duration": 1.124002,
     "end_time": "2022-07-07T12:27:37.744016",
     "exception": false,
     "start_time": "2022-07-07T12:27:36.620014",
     "status": "completed"
    },
    "tags": []
   },
   "source": [
    "## Model 3 : Ajout de plus de couche avec plus de filtres."
   ]
  },
  {
   "cell_type": "code",
   "execution_count": 12,
   "metadata": {
    "execution": {
     "iopub.execute_input": "2022-07-07T12:27:39.953691Z",
     "iopub.status.busy": "2022-07-07T12:27:39.952516Z",
     "iopub.status.idle": "2022-07-07T12:35:04.790661Z",
     "shell.execute_reply": "2022-07-07T12:35:04.790153Z"
    },
    "papermill": {
     "duration": 445.940843,
     "end_time": "2022-07-07T12:35:04.790782",
     "exception": false,
     "start_time": "2022-07-07T12:27:38.849939",
     "status": "completed"
    },
    "tags": []
   },
   "outputs": [
    {
     "name": "stdout",
     "output_type": "stream",
     "text": [
      "Epoch 1/50\n",
      "1563/1563 [==============================] - 957s 611ms/step - loss: 1.7904 - accuracy: 0.3314 - val_loss: 1.4317 - val_accuracy: 0.4717\n",
      "Epoch 2/50\n",
      "1563/1563 [==============================] - 934s 597ms/step - loss: 1.3445 - accuracy: 0.5132 - val_loss: 1.2177 - val_accuracy: 0.5569\n",
      "Epoch 3/50\n",
      "1563/1563 [==============================] - 890s 569ms/step - loss: 1.1554 - accuracy: 0.5864 - val_loss: 0.9888 - val_accuracy: 0.6433\n",
      "Epoch 4/50\n",
      "1563/1563 [==============================] - 982s 628ms/step - loss: 1.0185 - accuracy: 0.6388 - val_loss: 0.9222 - val_accuracy: 0.6704\n",
      "Epoch 5/50\n",
      "1563/1563 [==============================] - 1296s 830ms/step - loss: 0.9336 - accuracy: 0.6699 - val_loss: 0.8911 - val_accuracy: 0.6886\n",
      "Epoch 6/50\n",
      "1563/1563 [==============================] - 1272s 814ms/step - loss: 0.8722 - accuracy: 0.6914 - val_loss: 0.8329 - val_accuracy: 0.7097\n",
      "Epoch 7/50\n",
      "1563/1563 [==============================] - 2816s 2s/step - loss: 0.8212 - accuracy: 0.7095 - val_loss: 0.7887 - val_accuracy: 0.7254\n",
      "Epoch 8/50\n",
      "1563/1563 [==============================] - 1027s 657ms/step - loss: 0.7687 - accuracy: 0.7271 - val_loss: 0.7597 - val_accuracy: 0.7387\n",
      "Epoch 9/50\n",
      "1563/1563 [==============================] - 1412s 903ms/step - loss: 0.7330 - accuracy: 0.7387 - val_loss: 0.7443 - val_accuracy: 0.7463\n",
      "Epoch 10/50\n",
      "1563/1563 [==============================] - 984s 630ms/step - loss: 0.6962 - accuracy: 0.7520 - val_loss: 0.7186 - val_accuracy: 0.7525\n",
      "Epoch 11/50\n",
      "1563/1563 [==============================] - 922s 590ms/step - loss: 0.6596 - accuracy: 0.7653 - val_loss: 0.7874 - val_accuracy: 0.7425\n",
      "Epoch 12/50\n",
      "1563/1563 [==============================] - 890s 569ms/step - loss: 0.6278 - accuracy: 0.7771 - val_loss: 0.7417 - val_accuracy: 0.7551\n",
      "Epoch 13/50\n",
      "1563/1563 [==============================] - 882s 564ms/step - loss: 0.5944 - accuracy: 0.7884 - val_loss: 0.7396 - val_accuracy: 0.7547\n",
      "Epoch 14/50\n",
      "1563/1563 [==============================] - 885s 566ms/step - loss: 0.5715 - accuracy: 0.7968 - val_loss: 0.7402 - val_accuracy: 0.7579\n",
      "Epoch 15/50\n",
      "1563/1563 [==============================] - 942s 603ms/step - loss: 0.5486 - accuracy: 0.8049 - val_loss: 0.7346 - val_accuracy: 0.7645\n",
      "Epoch 16/50\n",
      "1563/1563 [==============================] - 1295s 829ms/step - loss: 0.5225 - accuracy: 0.8135 - val_loss: 0.7898 - val_accuracy: 0.7573\n",
      "Epoch 17/50\n",
      "1563/1563 [==============================] - 1949s 1s/step - loss: 0.5027 - accuracy: 0.8234 - val_loss: 0.7864 - val_accuracy: 0.7595\n",
      "Epoch 18/50\n",
      " 660/1563 [===========>..................] - ETA: 8:45 - loss: 0.4625 - accuracy: 0.8357"
     ]
    },
    {
     "name": "stderr",
     "output_type": "stream",
     "text": [
      "\n",
      "KeyboardInterrupt\n",
      "\n"
     ]
    }
   ],
   "source": [
    "# model3 = Sequential()\n",
    "# model3.add(Conv2D(filters = 64, kernel_size = (3,3), activation = 'relu', input_shape = (32,32,3)))\n",
    "# model3.add(Conv2D(filters = 64, kernel_size = (3,3), activation = 'relu'))\n",
    "# model3.add(MaxPool2D(2,2))\n",
    "# model3.add(Dropout(0.4))\n",
    "\n",
    "\n",
    "# model3.add(Conv2D(filters = 128, kernel_size = (3,3), activation = 'relu'))\n",
    "# model3.add(Conv2D(filters = 128, kernel_size = (3,3), activation = 'relu'))\n",
    "# model3.add(MaxPool2D(2,2))\n",
    "# model3.add(Dropout(0.4))\n",
    "\n",
    "# model3.add(Flatten())\n",
    "\n",
    "# model3.add(Dense(units = 1024, activation = 'relu'))\n",
    "\n",
    "# model3.add(Dense(units = 1024, activation = 'relu'))\n",
    "\n",
    "# model3.add(Dense(units = 10, activation = 'softmax'))\n",
    "# model3.compile(loss = 'categorical_crossentropy', optimizer = 'adam', metrics = ['accuracy'])\n",
    "\n",
    "# history3=model3.fit(x_train,y_train_cat,epochs=40,validation_data=(x_test,y_test_cat)) # Train for more number of epochs"
   ]
  },
  {
   "cell_type": "code",
   "execution_count": null,
   "metadata": {},
   "outputs": [],
   "source": [
    "evaluation = model3.evaluate(x_test, y_test_cat)\n",
    "print('Test Accuracy: {}'.format(evaluation[1]))"
   ]
  },
  {
   "cell_type": "code",
   "execution_count": null,
   "metadata": {
    "execution": {
     "iopub.execute_input": "2022-07-07T12:35:18.402304Z",
     "iopub.status.busy": "2022-07-07T12:35:18.401741Z",
     "iopub.status.idle": "2022-07-07T12:35:18.562120Z",
     "shell.execute_reply": "2022-07-07T12:35:18.561687Z"
    },
    "papermill": {
     "duration": 3.876988,
     "end_time": "2022-07-07T12:35:18.562234",
     "exception": false,
     "start_time": "2022-07-07T12:35:14.685246",
     "status": "completed"
    },
    "tags": []
   },
   "outputs": [],
   "source": [
    "pd.DataFrame(history3.history).plot()"
   ]
  },
  {
   "cell_type": "code",
   "execution_count": null,
   "metadata": {
    "papermill": {
     "duration": 23.557292,
     "end_time": "2022-07-07T13:51:08.574544",
     "exception": false,
     "start_time": "2022-07-07T13:50:45.017252",
     "status": "completed"
    },
    "tags": []
   },
   "outputs": [],
   "source": []
  },
  {
   "cell_type": "code",
   "execution_count": null,
   "metadata": {},
   "outputs": [],
   "source": []
  },
  {
   "cell_type": "code",
   "execution_count": null,
   "metadata": {},
   "outputs": [],
   "source": []
  }
 ],
 "metadata": {
  "kernelspec": {
   "display_name": "Python 3 (ipykernel)",
   "language": "python",
   "name": "python3"
  },
  "language_info": {
   "codemirror_mode": {
    "name": "ipython",
    "version": 3
   },
   "file_extension": ".py",
   "mimetype": "text/x-python",
   "name": "python",
   "nbconvert_exporter": "python",
   "pygments_lexer": "ipython3",
   "version": "3.9.12"
  },
  "papermill": {
   "duration": 5282.371144,
   "end_time": "2022-07-07T13:51:32.894515",
   "environment_variables": {},
   "exception": null,
   "input_path": "__notebook__.ipynb",
   "output_path": "__notebook__.ipynb",
   "parameters": {},
   "start_time": "2022-07-07T12:23:30.523371",
   "version": "2.1.0"
  }
 },
 "nbformat": 4,
 "nbformat_minor": 4
}
