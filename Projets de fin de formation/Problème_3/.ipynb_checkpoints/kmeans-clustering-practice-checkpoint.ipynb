{
 "cells": [
  {
   "cell_type": "code",
   "execution_count": null,
   "metadata": {
    "_cell_guid": "b1076dfc-b9ad-4769-8c92-a6c4dae69d19",
    "_uuid": "8f2839f25d086af736a60e9eeb907d3b93b6e0e5",
    "execution": {
     "iopub.execute_input": "2022-07-29T06:33:24.019724Z",
     "iopub.status.busy": "2022-07-29T06:33:24.019175Z",
     "iopub.status.idle": "2022-07-29T06:33:24.051879Z",
     "shell.execute_reply": "2022-07-29T06:33:24.050587Z",
     "shell.execute_reply.started": "2022-07-29T06:33:24.019631Z"
    }
   },
   "outputs": [],
   "source": [
    "import numpy as np # linear algebra\n",
    "import pandas as pd # data processing, CSV file I/O (e.g. pd.read_csv)"
   ]
  },
  {
   "cell_type": "code",
   "execution_count": 2,
   "metadata": {
    "execution": {
     "iopub.execute_input": "2022-07-29T06:33:24.054130Z",
     "iopub.status.busy": "2022-07-29T06:33:24.053829Z",
     "iopub.status.idle": "2022-07-29T06:33:25.646847Z",
     "shell.execute_reply": "2022-07-29T06:33:25.645718Z",
     "shell.execute_reply.started": "2022-07-29T06:33:24.054103Z"
    }
   },
   "outputs": [],
   "source": [
    "import matplotlib.pyplot as plt\n",
    "import seaborn as sns\n",
    "sns.set()\n",
    "from sklearn.cluster import KMeans\n",
    "from sklearn.metrics import silhouette_score\n",
    "from sklearn.decomposition import PCA\n",
    "from  matplotlib.colors import ListedColormap\n",
    "%matplotlib inline\n",
    "from sklearn.preprocessing import StandardScaler\n",
    "\n"
   ]
  },
  {
   "cell_type": "code",
   "execution_count": 3,
   "metadata": {
    "execution": {
     "iopub.execute_input": "2022-07-29T06:33:25.649193Z",
     "iopub.status.busy": "2022-07-29T06:33:25.648830Z",
     "iopub.status.idle": "2022-07-29T06:33:39.346576Z",
     "shell.execute_reply": "2022-07-29T06:33:39.345217Z",
     "shell.execute_reply.started": "2022-07-29T06:33:25.649162Z"
    }
   },
   "outputs": [
    {
     "name": "stdout",
     "output_type": "stream",
     "text": [
      "Collecting openpyxl\n",
      "  Downloading openpyxl-3.0.10-py2.py3-none-any.whl (242 kB)\n",
      "\u001b[2K     \u001b[90m━━━━━━━━━━━━━━━━━━━━━━━━━━━━━━━━━━━━━━━\u001b[0m \u001b[32m242.1/242.1 kB\u001b[0m \u001b[31m1.6 MB/s\u001b[0m eta \u001b[36m0:00:00\u001b[0ma \u001b[36m0:00:01\u001b[0m\n",
      "\u001b[?25hCollecting et-xmlfile\n",
      "  Downloading et_xmlfile-1.1.0-py3-none-any.whl (4.7 kB)\n",
      "Installing collected packages: et-xmlfile, openpyxl\n",
      "Successfully installed et-xmlfile-1.1.0 openpyxl-3.0.10\n",
      "\u001b[33mWARNING: Running pip as the 'root' user can result in broken permissions and conflicting behaviour with the system package manager. It is recommended to use a virtual environment instead: https://pip.pypa.io/warnings/venv\u001b[0m\u001b[33m\n",
      "\u001b[0mNote: you may need to restart the kernel to use updated packages.\n"
     ]
    }
   ],
   "source": [
    "pip install openpyxl"
   ]
  },
  {
   "cell_type": "code",
   "execution_count": 4,
   "metadata": {
    "execution": {
     "iopub.execute_input": "2022-07-29T06:33:39.348881Z",
     "iopub.status.busy": "2022-07-29T06:33:39.348551Z",
     "iopub.status.idle": "2022-07-29T06:34:01.167502Z",
     "shell.execute_reply": "2022-07-29T06:34:01.166367Z",
     "shell.execute_reply.started": "2022-07-29T06:33:39.348849Z"
    }
   },
   "outputs": [
    {
     "data": {
      "text/html": [
       "<div>\n",
       "<style scoped>\n",
       "    .dataframe tbody tr th:only-of-type {\n",
       "        vertical-align: middle;\n",
       "    }\n",
       "\n",
       "    .dataframe tbody tr th {\n",
       "        vertical-align: top;\n",
       "    }\n",
       "\n",
       "    .dataframe thead th {\n",
       "        text-align: right;\n",
       "    }\n",
       "</style>\n",
       "<table border=\"1\" class=\"dataframe\">\n",
       "  <thead>\n",
       "    <tr style=\"text-align: right;\">\n",
       "      <th></th>\n",
       "      <th>Gender</th>\n",
       "      <th>Orders</th>\n",
       "      <th>Jordan</th>\n",
       "      <th>Gatorade</th>\n",
       "      <th>Samsung</th>\n",
       "      <th>Asus</th>\n",
       "      <th>Udis</th>\n",
       "      <th>Mondelez International</th>\n",
       "      <th>Wrangler</th>\n",
       "      <th>Vans</th>\n",
       "      <th>...</th>\n",
       "      <th>LG</th>\n",
       "      <th>Dior</th>\n",
       "      <th>Scabal</th>\n",
       "      <th>Tommy Hilfiger</th>\n",
       "      <th>Hollister</th>\n",
       "      <th>Forever 21</th>\n",
       "      <th>Colavita</th>\n",
       "      <th>Microsoft</th>\n",
       "      <th>Jiffy mix</th>\n",
       "      <th>Kraft</th>\n",
       "    </tr>\n",
       "    <tr>\n",
       "      <th>Cust_ID</th>\n",
       "      <th></th>\n",
       "      <th></th>\n",
       "      <th></th>\n",
       "      <th></th>\n",
       "      <th></th>\n",
       "      <th></th>\n",
       "      <th></th>\n",
       "      <th></th>\n",
       "      <th></th>\n",
       "      <th></th>\n",
       "      <th></th>\n",
       "      <th></th>\n",
       "      <th></th>\n",
       "      <th></th>\n",
       "      <th></th>\n",
       "      <th></th>\n",
       "      <th></th>\n",
       "      <th></th>\n",
       "      <th></th>\n",
       "      <th></th>\n",
       "      <th></th>\n",
       "    </tr>\n",
       "  </thead>\n",
       "  <tbody>\n",
       "    <tr>\n",
       "      <th>1</th>\n",
       "      <td>M</td>\n",
       "      <td>7</td>\n",
       "      <td>0</td>\n",
       "      <td>0</td>\n",
       "      <td>0</td>\n",
       "      <td>0</td>\n",
       "      <td>0</td>\n",
       "      <td>0</td>\n",
       "      <td>0</td>\n",
       "      <td>2</td>\n",
       "      <td>...</td>\n",
       "      <td>0</td>\n",
       "      <td>0</td>\n",
       "      <td>0</td>\n",
       "      <td>0</td>\n",
       "      <td>0</td>\n",
       "      <td>0</td>\n",
       "      <td>0</td>\n",
       "      <td>0</td>\n",
       "      <td>0</td>\n",
       "      <td>0</td>\n",
       "    </tr>\n",
       "    <tr>\n",
       "      <th>2</th>\n",
       "      <td>F</td>\n",
       "      <td>0</td>\n",
       "      <td>0</td>\n",
       "      <td>1</td>\n",
       "      <td>0</td>\n",
       "      <td>0</td>\n",
       "      <td>0</td>\n",
       "      <td>0</td>\n",
       "      <td>0</td>\n",
       "      <td>0</td>\n",
       "      <td>...</td>\n",
       "      <td>0</td>\n",
       "      <td>1</td>\n",
       "      <td>0</td>\n",
       "      <td>0</td>\n",
       "      <td>0</td>\n",
       "      <td>0</td>\n",
       "      <td>0</td>\n",
       "      <td>0</td>\n",
       "      <td>0</td>\n",
       "      <td>0</td>\n",
       "    </tr>\n",
       "    <tr>\n",
       "      <th>3</th>\n",
       "      <td>M</td>\n",
       "      <td>7</td>\n",
       "      <td>0</td>\n",
       "      <td>1</td>\n",
       "      <td>0</td>\n",
       "      <td>0</td>\n",
       "      <td>0</td>\n",
       "      <td>0</td>\n",
       "      <td>0</td>\n",
       "      <td>0</td>\n",
       "      <td>...</td>\n",
       "      <td>0</td>\n",
       "      <td>0</td>\n",
       "      <td>0</td>\n",
       "      <td>0</td>\n",
       "      <td>0</td>\n",
       "      <td>0</td>\n",
       "      <td>0</td>\n",
       "      <td>1</td>\n",
       "      <td>0</td>\n",
       "      <td>0</td>\n",
       "    </tr>\n",
       "    <tr>\n",
       "      <th>4</th>\n",
       "      <td>F</td>\n",
       "      <td>0</td>\n",
       "      <td>0</td>\n",
       "      <td>0</td>\n",
       "      <td>0</td>\n",
       "      <td>0</td>\n",
       "      <td>0</td>\n",
       "      <td>0</td>\n",
       "      <td>0</td>\n",
       "      <td>0</td>\n",
       "      <td>...</td>\n",
       "      <td>0</td>\n",
       "      <td>0</td>\n",
       "      <td>0</td>\n",
       "      <td>0</td>\n",
       "      <td>0</td>\n",
       "      <td>0</td>\n",
       "      <td>0</td>\n",
       "      <td>0</td>\n",
       "      <td>0</td>\n",
       "      <td>0</td>\n",
       "    </tr>\n",
       "    <tr>\n",
       "      <th>5</th>\n",
       "      <td>NaN</td>\n",
       "      <td>10</td>\n",
       "      <td>0</td>\n",
       "      <td>0</td>\n",
       "      <td>0</td>\n",
       "      <td>0</td>\n",
       "      <td>0</td>\n",
       "      <td>0</td>\n",
       "      <td>0</td>\n",
       "      <td>0</td>\n",
       "      <td>...</td>\n",
       "      <td>0</td>\n",
       "      <td>0</td>\n",
       "      <td>2</td>\n",
       "      <td>0</td>\n",
       "      <td>0</td>\n",
       "      <td>0</td>\n",
       "      <td>0</td>\n",
       "      <td>0</td>\n",
       "      <td>1</td>\n",
       "      <td>1</td>\n",
       "    </tr>\n",
       "  </tbody>\n",
       "</table>\n",
       "<p>5 rows × 37 columns</p>\n",
       "</div>"
      ],
      "text/plain": [
       "        Gender  Orders  Jordan  Gatorade  Samsung  Asus  Udis  \\\n",
       "Cust_ID                                                         \n",
       "1            M       7       0         0        0     0     0   \n",
       "2            F       0       0         1        0     0     0   \n",
       "3            M       7       0         1        0     0     0   \n",
       "4            F       0       0         0        0     0     0   \n",
       "5          NaN      10       0         0        0     0     0   \n",
       "\n",
       "         Mondelez International  Wrangler  Vans  ...  LG  Dior  Scabal  \\\n",
       "Cust_ID                                          ...                     \n",
       "1                             0         0     2  ...   0     0       0   \n",
       "2                             0         0     0  ...   0     1       0   \n",
       "3                             0         0     0  ...   0     0       0   \n",
       "4                             0         0     0  ...   0     0       0   \n",
       "5                             0         0     0  ...   0     0       2   \n",
       "\n",
       "         Tommy Hilfiger  Hollister  Forever 21  Colavita  Microsoft  \\\n",
       "Cust_ID                                                               \n",
       "1                     0          0           0         0          0   \n",
       "2                     0          0           0         0          0   \n",
       "3                     0          0           0         0          1   \n",
       "4                     0          0           0         0          0   \n",
       "5                     0          0           0         0          0   \n",
       "\n",
       "         Jiffy mix  Kraft  \n",
       "Cust_ID                    \n",
       "1                0      0  \n",
       "2                0      0  \n",
       "3                0      0  \n",
       "4                0      0  \n",
       "5                1      1  \n",
       "\n",
       "[5 rows x 37 columns]"
      ]
     },
     "execution_count": 4,
     "metadata": {},
     "output_type": "execute_result"
    }
   ],
   "source": [
    "raw_data = pd.read_excel('../input/kmeans-cust-data/cust_data.xlsx',index_col=0)\n",
    "raw_data.head()"
   ]
  },
  {
   "cell_type": "code",
   "execution_count": null,
   "metadata": {},
   "outputs": [],
   "source": [
    "raw_data.info()\n",
    "raw_data.shape\n",
    "raw_data.describe()\n",
    "data.shape"
   ]
  },
  {
   "cell_type": "code",
   "execution_count": null,
   "metadata": {},
   "outputs": [],
   "source": [
    "num = bank.select_dtypes(include = np.number)\n",
    "cat = bank.select_dtypes(include = 'object')\n",
    "\n",
    "fig,ax = plt.subplots(7,2,figsize = (15,30))\n",
    "for i,subplot in zip(cols,ax.flatten()):\n",
    "    sns.distplot(data[i],ax = subplot)\n",
    "plt.suptitle('Distribution of numeric variables',y = 1,fontsize=25)\n",
    "plt.tight_layout()\n",
    "plt.show()\n",
    "\n",
    "for col,subplot in zip(cat,ax.flatten()):\n",
    "    sns.countplot(x = bank[col],ax = subplot,palette = 'YlGnBu')\n",
    "    subplot.tick_params(axis='x', rotation=60)\n",
    "    \n",
    "fig,ax = plt.subplots(4,2,figsize = (10,12))\n",
    "for col,subplot in zip(num,ax.flatten()):\n",
    "    sns.boxplot(bank[col],ax=subplot)\n",
    "plt.suptitle('Boxplot of the numeric variables')\n",
    "plt.tight_layout()\n",
    "\n",
    "fig,ax = plt.subplots(7,2,figsize = (15,30))\n",
    "for i,subplot in zip(num,ax.flatten()):\n",
    "    sns.boxplot(y = data[i], x=data['price_range'], ax=subplot,palette = 'Set2_r')\n",
    "plt.suptitle('Numeric variables vs Price Range',y = 1.0,fontsize=25)\n",
    "plt.tight_layout()\n",
    "\n",
    "for i,subplot in zip(cat,ax.flatten()):\n",
    "    sns.countplot(x = data[i],hue=data['price_range'],ax=subplot,palette = 'rainbow')\n",
    "plt.suptitle('Categorical variables Vs Price Range',y = 1,fontsize=25)\n",
    "plt.tight_layout()\n",
    "\n"
   ]
  },
  {
   "cell_type": "code",
   "execution_count": null,
   "metadata": {},
   "outputs": [],
   "source": [
    "q1 = df_features.quantile(0.25)\n",
    "q3 = df_features.quantile(0.75)\n",
    "iqr = q3 - q1\n",
    "df_heart = df_heart[~((df_heart < (q1 - 1.5*iqr))|(df_heart > (q3 + 1.5*iqr))).any(axis=1)]\n",
    "df_heart = df_heart.reset_index(drop = True)"
   ]
  },
  {
   "cell_type": "code",
   "execution_count": 6,
   "metadata": {
    "execution": {
     "iopub.execute_input": "2022-07-29T06:34:25.035665Z",
     "iopub.status.busy": "2022-07-29T06:34:25.035146Z",
     "iopub.status.idle": "2022-07-29T06:34:25.638695Z",
     "shell.execute_reply": "2022-07-29T06:34:25.637537Z",
     "shell.execute_reply.started": "2022-07-29T06:34:25.035629Z"
    }
   },
   "outputs": [
    {
     "data": {
      "image/png": "[encoded data removed]",
      "text/plain": [
       "<Figure size 864x576 with 2 Axes>"
      ]
     },
     "metadata": {
      "needs_background": "light"
     },
     "output_type": "display_data"
    }
   ],
   "source": [
    "cols = ['Orders','Gender']\n",
    "fig,ax = plt.subplots(2,1,figsize=(12,8))\n",
    "for i,subplot in zip(cols,ax.flatten()):\n",
    "    sns.countplot(x = raw_data[i],ax=subplot,palette = 'Set2_r' )\n",
    "    total = len(raw_data)\n",
    "    for p in subplot.patches:\n",
    "        percent = '{:.2f}%'.format(100*p.get_height()/total)\n",
    "        x = p.get_x() + (p.get_width())/2\n",
    "        y = p.get_height() + 70\n",
    "        subplot.annotate(percent,(x,y),ha='center')\n",
    "plt.tight_layout()\n",
    "plt.show()"
   ]
  },
  {
   "cell_type": "code",
   "execution_count": null,
   "metadata": {
    "execution": {
     "iopub.execute_input": "2022-07-28T20:14:51.016878Z",
     "iopub.status.busy": "2022-07-28T20:14:51.016437Z",
     "iopub.status.idle": "2022-07-28T20:14:52.466527Z",
     "shell.execute_reply": "2022-07-28T20:14:52.465411Z",
     "shell.execute_reply.started": "2022-07-28T20:14:51.016823Z"
    }
   },
   "outputs": [],
   "source": [
    "total = raw_data.isnull().sum().sort_values(ascending = False)\n",
    "percent = (raw_data.isnull().sum()/len(raw_data) * 100)\n",
    "missing_values = pd.concat([total,percent],axis = 1, keys = ['Total','Percent of missing values'])\n",
    "missing_values\n",
    "sns.heatmap(raw_data.isnull(),cbar  =False)\n",
    "plt.title('Heatmap for missing values')"
   ]
  },
  {
   "cell_type": "code",
   "execution_count": 7,
   "metadata": {
    "execution": {
     "iopub.execute_input": "2022-07-29T06:34:31.670550Z",
     "iopub.status.busy": "2022-07-29T06:34:31.670108Z",
     "iopub.status.idle": "2022-07-29T06:34:31.707141Z",
     "shell.execute_reply": "2022-07-29T06:34:31.706355Z",
     "shell.execute_reply.started": "2022-07-29T06:34:31.670511Z"
    }
   },
   "outputs": [
    {
     "data": {
      "text/html": [
       "<div>\n",
       "<style scoped>\n",
       "    .dataframe tbody tr th:only-of-type {\n",
       "        vertical-align: middle;\n",
       "    }\n",
       "\n",
       "    .dataframe tbody tr th {\n",
       "        vertical-align: top;\n",
       "    }\n",
       "\n",
       "    .dataframe thead th {\n",
       "        text-align: right;\n",
       "    }\n",
       "</style>\n",
       "<table border=\"1\" class=\"dataframe\">\n",
       "  <thead>\n",
       "    <tr style=\"text-align: right;\">\n",
       "      <th></th>\n",
       "      <th>Orders</th>\n",
       "      <th>Jordan</th>\n",
       "      <th>Gatorade</th>\n",
       "      <th>Samsung</th>\n",
       "      <th>Asus</th>\n",
       "      <th>Udis</th>\n",
       "      <th>Mondelez International</th>\n",
       "      <th>Wrangler</th>\n",
       "      <th>Vans</th>\n",
       "      <th>Fila</th>\n",
       "      <th>...</th>\n",
       "      <th>Scabal</th>\n",
       "      <th>Tommy Hilfiger</th>\n",
       "      <th>Hollister</th>\n",
       "      <th>Forever 21</th>\n",
       "      <th>Colavita</th>\n",
       "      <th>Microsoft</th>\n",
       "      <th>Jiffy mix</th>\n",
       "      <th>Kraft</th>\n",
       "      <th>Gender_F</th>\n",
       "      <th>Gender_M</th>\n",
       "    </tr>\n",
       "    <tr>\n",
       "      <th>Cust_ID</th>\n",
       "      <th></th>\n",
       "      <th></th>\n",
       "      <th></th>\n",
       "      <th></th>\n",
       "      <th></th>\n",
       "      <th></th>\n",
       "      <th></th>\n",
       "      <th></th>\n",
       "      <th></th>\n",
       "      <th></th>\n",
       "      <th></th>\n",
       "      <th></th>\n",
       "      <th></th>\n",
       "      <th></th>\n",
       "      <th></th>\n",
       "      <th></th>\n",
       "      <th></th>\n",
       "      <th></th>\n",
       "      <th></th>\n",
       "      <th></th>\n",
       "      <th></th>\n",
       "    </tr>\n",
       "  </thead>\n",
       "  <tbody>\n",
       "    <tr>\n",
       "      <th>1</th>\n",
       "      <td>7</td>\n",
       "      <td>0</td>\n",
       "      <td>0</td>\n",
       "      <td>0</td>\n",
       "      <td>0</td>\n",
       "      <td>0</td>\n",
       "      <td>0</td>\n",
       "      <td>0</td>\n",
       "      <td>2</td>\n",
       "      <td>0</td>\n",
       "      <td>...</td>\n",
       "      <td>0</td>\n",
       "      <td>0</td>\n",
       "      <td>0</td>\n",
       "      <td>0</td>\n",
       "      <td>0</td>\n",
       "      <td>0</td>\n",
       "      <td>0</td>\n",
       "      <td>0</td>\n",
       "      <td>0</td>\n",
       "      <td>1</td>\n",
       "    </tr>\n",
       "    <tr>\n",
       "      <th>2</th>\n",
       "      <td>0</td>\n",
       "      <td>0</td>\n",
       "      <td>1</td>\n",
       "      <td>0</td>\n",
       "      <td>0</td>\n",
       "      <td>0</td>\n",
       "      <td>0</td>\n",
       "      <td>0</td>\n",
       "      <td>0</td>\n",
       "      <td>0</td>\n",
       "      <td>...</td>\n",
       "      <td>0</td>\n",
       "      <td>0</td>\n",
       "      <td>0</td>\n",
       "      <td>0</td>\n",
       "      <td>0</td>\n",
       "      <td>0</td>\n",
       "      <td>0</td>\n",
       "      <td>0</td>\n",
       "      <td>1</td>\n",
       "      <td>0</td>\n",
       "    </tr>\n",
       "    <tr>\n",
       "      <th>3</th>\n",
       "      <td>7</td>\n",
       "      <td>0</td>\n",
       "      <td>1</td>\n",
       "      <td>0</td>\n",
       "      <td>0</td>\n",
       "      <td>0</td>\n",
       "      <td>0</td>\n",
       "      <td>0</td>\n",
       "      <td>0</td>\n",
       "      <td>0</td>\n",
       "      <td>...</td>\n",
       "      <td>0</td>\n",
       "      <td>0</td>\n",
       "      <td>0</td>\n",
       "      <td>0</td>\n",
       "      <td>0</td>\n",
       "      <td>1</td>\n",
       "      <td>0</td>\n",
       "      <td>0</td>\n",
       "      <td>0</td>\n",
       "      <td>1</td>\n",
       "    </tr>\n",
       "    <tr>\n",
       "      <th>4</th>\n",
       "      <td>0</td>\n",
       "      <td>0</td>\n",
       "      <td>0</td>\n",
       "      <td>0</td>\n",
       "      <td>0</td>\n",
       "      <td>0</td>\n",
       "      <td>0</td>\n",
       "      <td>0</td>\n",
       "      <td>0</td>\n",
       "      <td>0</td>\n",
       "      <td>...</td>\n",
       "      <td>0</td>\n",
       "      <td>0</td>\n",
       "      <td>0</td>\n",
       "      <td>0</td>\n",
       "      <td>0</td>\n",
       "      <td>0</td>\n",
       "      <td>0</td>\n",
       "      <td>0</td>\n",
       "      <td>1</td>\n",
       "      <td>0</td>\n",
       "    </tr>\n",
       "    <tr>\n",
       "      <th>5</th>\n",
       "      <td>10</td>\n",
       "      <td>0</td>\n",
       "      <td>0</td>\n",
       "      <td>0</td>\n",
       "      <td>0</td>\n",
       "      <td>0</td>\n",
       "      <td>0</td>\n",
       "      <td>0</td>\n",
       "      <td>0</td>\n",
       "      <td>0</td>\n",
       "      <td>...</td>\n",
       "      <td>2</td>\n",
       "      <td>0</td>\n",
       "      <td>0</td>\n",
       "      <td>0</td>\n",
       "      <td>0</td>\n",
       "      <td>0</td>\n",
       "      <td>1</td>\n",
       "      <td>1</td>\n",
       "      <td>0</td>\n",
       "      <td>0</td>\n",
       "    </tr>\n",
       "  </tbody>\n",
       "</table>\n",
       "<p>5 rows × 38 columns</p>\n",
       "</div>"
      ],
      "text/plain": [
       "         Orders  Jordan  Gatorade  Samsung  Asus  Udis  \\\n",
       "Cust_ID                                                  \n",
       "1             7       0         0        0     0     0   \n",
       "2             0       0         1        0     0     0   \n",
       "3             7       0         1        0     0     0   \n",
       "4             0       0         0        0     0     0   \n",
       "5            10       0         0        0     0     0   \n",
       "\n",
       "         Mondelez International  Wrangler  Vans  Fila  ...  Scabal  \\\n",
       "Cust_ID                                                ...           \n",
       "1                             0         0     2     0  ...       0   \n",
       "2                             0         0     0     0  ...       0   \n",
       "3                             0         0     0     0  ...       0   \n",
       "4                             0         0     0     0  ...       0   \n",
       "5                             0         0     0     0  ...       2   \n",
       "\n",
       "         Tommy Hilfiger  Hollister  Forever 21  Colavita  Microsoft  \\\n",
       "Cust_ID                                                               \n",
       "1                     0          0           0         0          0   \n",
       "2                     0          0           0         0          0   \n",
       "3                     0          0           0         0          1   \n",
       "4                     0          0           0         0          0   \n",
       "5                     0          0           0         0          0   \n",
       "\n",
       "         Jiffy mix  Kraft  Gender_F  Gender_M  \n",
       "Cust_ID                                        \n",
       "1                0      0         0         1  \n",
       "2                0      0         1         0  \n",
       "3                0      0         0         1  \n",
       "4                0      0         1         0  \n",
       "5                1      1         0         0  \n",
       "\n",
       "[5 rows x 38 columns]"
      ]
     },
     "execution_count": 7,
     "metadata": {},
     "output_type": "execute_result"
    }
   ],
   "source": [
    "data = pd.get_dummies(raw_data,columns = ['Gender'])\n",
    "data.head()"
   ]
  },
  {
   "cell_type": "code",
   "execution_count": 8,
   "metadata": {
    "execution": {
     "iopub.execute_input": "2022-07-29T06:34:32.321269Z",
     "iopub.status.busy": "2022-07-29T06:34:32.320001Z",
     "iopub.status.idle": "2022-07-29T06:34:38.014641Z",
     "shell.execute_reply": "2022-07-29T06:34:38.013645Z",
     "shell.execute_reply.started": "2022-07-29T06:34:32.321222Z"
    }
   },
   "outputs": [
    {
     "data": {
      "image/png": "[encoded data removed]",
      "text/plain": [
       "<Figure size 1296x1296 with 42 Axes>"
      ]
     },
     "metadata": {
      "needs_background": "light"
     },
     "output_type": "display_data"
    }
   ],
   "source": [
    "fig = data.hist(figsize = (18,18))"
   ]
  },
  {
   "cell_type": "code",
   "execution_count": 9,
   "metadata": {
    "execution": {
     "iopub.execute_input": "2022-07-29T06:34:38.016983Z",
     "iopub.status.busy": "2022-07-29T06:34:38.016320Z",
     "iopub.status.idle": "2022-07-29T06:34:39.721672Z",
     "shell.execute_reply": "2022-07-29T06:34:39.720702Z",
     "shell.execute_reply.started": "2022-07-29T06:34:38.016941Z"
    }
   },
   "outputs": [
    {
     "data": {
      "text/plain": [
       "<AxesSubplot:>"
      ]
     },
     "execution_count": 9,
     "metadata": {},
     "output_type": "execute_result"
    },
    {
     "data": {
      "image/png": "[encoded data removed]",
      "text/plain": [
       "<Figure size 3600x3600 with 2 Axes>"
      ]
     },
     "metadata": {
      "needs_background": "light"
     },
     "output_type": "display_data"
    }
   ],
   "source": [
    "corr = data.corr()\n",
    "fig,ax = plt.subplots(figsize = (50,50))\n",
    "sns.heatmap(corr[(corr>0.9)|(corr<-0.9)],annot = True,annot_kws = {'size':10},cmap = 'YlGnBu',fmt = '.2f',linewidths = 0.1)"
   ]
  },
  {
   "cell_type": "code",
   "execution_count": 10,
   "metadata": {
    "execution": {
     "iopub.execute_input": "2022-07-29T06:34:39.723466Z",
     "iopub.status.busy": "2022-07-29T06:34:39.722953Z",
     "iopub.status.idle": "2022-07-29T06:34:39.745629Z",
     "shell.execute_reply": "2022-07-29T06:34:39.744250Z",
     "shell.execute_reply.started": "2022-07-29T06:34:39.723435Z"
    }
   },
   "outputs": [
    {
     "data": {
      "text/html": [
       "<div>\n",
       "<style scoped>\n",
       "    .dataframe tbody tr th:only-of-type {\n",
       "        vertical-align: middle;\n",
       "    }\n",
       "\n",
       "    .dataframe tbody tr th {\n",
       "        vertical-align: top;\n",
       "    }\n",
       "\n",
       "    .dataframe thead th {\n",
       "        text-align: right;\n",
       "    }\n",
       "</style>\n",
       "<table border=\"1\" class=\"dataframe\">\n",
       "  <thead>\n",
       "    <tr style=\"text-align: right;\">\n",
       "      <th></th>\n",
       "      <th>Jordan</th>\n",
       "      <th>Gatorade</th>\n",
       "      <th>Samsung</th>\n",
       "      <th>Asus</th>\n",
       "      <th>Udis</th>\n",
       "      <th>Mondelez International</th>\n",
       "      <th>Wrangler</th>\n",
       "      <th>Vans</th>\n",
       "      <th>Fila</th>\n",
       "      <th>Brooks</th>\n",
       "      <th>...</th>\n",
       "      <th>LG</th>\n",
       "      <th>Dior</th>\n",
       "      <th>Scabal</th>\n",
       "      <th>Tommy Hilfiger</th>\n",
       "      <th>Hollister</th>\n",
       "      <th>Forever 21</th>\n",
       "      <th>Colavita</th>\n",
       "      <th>Microsoft</th>\n",
       "      <th>Jiffy mix</th>\n",
       "      <th>Kraft</th>\n",
       "    </tr>\n",
       "    <tr>\n",
       "      <th>Cust_ID</th>\n",
       "      <th></th>\n",
       "      <th></th>\n",
       "      <th></th>\n",
       "      <th></th>\n",
       "      <th></th>\n",
       "      <th></th>\n",
       "      <th></th>\n",
       "      <th></th>\n",
       "      <th></th>\n",
       "      <th></th>\n",
       "      <th></th>\n",
       "      <th></th>\n",
       "      <th></th>\n",
       "      <th></th>\n",
       "      <th></th>\n",
       "      <th></th>\n",
       "      <th></th>\n",
       "      <th></th>\n",
       "      <th></th>\n",
       "      <th></th>\n",
       "      <th></th>\n",
       "    </tr>\n",
       "  </thead>\n",
       "  <tbody>\n",
       "    <tr>\n",
       "      <th>1</th>\n",
       "      <td>0</td>\n",
       "      <td>0</td>\n",
       "      <td>0</td>\n",
       "      <td>0</td>\n",
       "      <td>0</td>\n",
       "      <td>0</td>\n",
       "      <td>0</td>\n",
       "      <td>2</td>\n",
       "      <td>0</td>\n",
       "      <td>0</td>\n",
       "      <td>...</td>\n",
       "      <td>0</td>\n",
       "      <td>0</td>\n",
       "      <td>0</td>\n",
       "      <td>0</td>\n",
       "      <td>0</td>\n",
       "      <td>0</td>\n",
       "      <td>0</td>\n",
       "      <td>0</td>\n",
       "      <td>0</td>\n",
       "      <td>0</td>\n",
       "    </tr>\n",
       "    <tr>\n",
       "      <th>2</th>\n",
       "      <td>0</td>\n",
       "      <td>1</td>\n",
       "      <td>0</td>\n",
       "      <td>0</td>\n",
       "      <td>0</td>\n",
       "      <td>0</td>\n",
       "      <td>0</td>\n",
       "      <td>0</td>\n",
       "      <td>0</td>\n",
       "      <td>0</td>\n",
       "      <td>...</td>\n",
       "      <td>0</td>\n",
       "      <td>1</td>\n",
       "      <td>0</td>\n",
       "      <td>0</td>\n",
       "      <td>0</td>\n",
       "      <td>0</td>\n",
       "      <td>0</td>\n",
       "      <td>0</td>\n",
       "      <td>0</td>\n",
       "      <td>0</td>\n",
       "    </tr>\n",
       "    <tr>\n",
       "      <th>3</th>\n",
       "      <td>0</td>\n",
       "      <td>1</td>\n",
       "      <td>0</td>\n",
       "      <td>0</td>\n",
       "      <td>0</td>\n",
       "      <td>0</td>\n",
       "      <td>0</td>\n",
       "      <td>0</td>\n",
       "      <td>0</td>\n",
       "      <td>0</td>\n",
       "      <td>...</td>\n",
       "      <td>0</td>\n",
       "      <td>0</td>\n",
       "      <td>0</td>\n",
       "      <td>0</td>\n",
       "      <td>0</td>\n",
       "      <td>0</td>\n",
       "      <td>0</td>\n",
       "      <td>1</td>\n",
       "      <td>0</td>\n",
       "      <td>0</td>\n",
       "    </tr>\n",
       "    <tr>\n",
       "      <th>4</th>\n",
       "      <td>0</td>\n",
       "      <td>0</td>\n",
       "      <td>0</td>\n",
       "      <td>0</td>\n",
       "      <td>0</td>\n",
       "      <td>0</td>\n",
       "      <td>0</td>\n",
       "      <td>0</td>\n",
       "      <td>0</td>\n",
       "      <td>0</td>\n",
       "      <td>...</td>\n",
       "      <td>0</td>\n",
       "      <td>0</td>\n",
       "      <td>0</td>\n",
       "      <td>0</td>\n",
       "      <td>0</td>\n",
       "      <td>0</td>\n",
       "      <td>0</td>\n",
       "      <td>0</td>\n",
       "      <td>0</td>\n",
       "      <td>0</td>\n",
       "    </tr>\n",
       "    <tr>\n",
       "      <th>5</th>\n",
       "      <td>0</td>\n",
       "      <td>0</td>\n",
       "      <td>0</td>\n",
       "      <td>0</td>\n",
       "      <td>0</td>\n",
       "      <td>0</td>\n",
       "      <td>0</td>\n",
       "      <td>0</td>\n",
       "      <td>0</td>\n",
       "      <td>0</td>\n",
       "      <td>...</td>\n",
       "      <td>0</td>\n",
       "      <td>0</td>\n",
       "      <td>2</td>\n",
       "      <td>0</td>\n",
       "      <td>0</td>\n",
       "      <td>0</td>\n",
       "      <td>0</td>\n",
       "      <td>0</td>\n",
       "      <td>1</td>\n",
       "      <td>1</td>\n",
       "    </tr>\n",
       "  </tbody>\n",
       "</table>\n",
       "<p>5 rows × 35 columns</p>\n",
       "</div>"
      ],
      "text/plain": [
       "         Jordan  Gatorade  Samsung  Asus  Udis  Mondelez International  \\\n",
       "Cust_ID                                                                  \n",
       "1             0         0        0     0     0                       0   \n",
       "2             0         1        0     0     0                       0   \n",
       "3             0         1        0     0     0                       0   \n",
       "4             0         0        0     0     0                       0   \n",
       "5             0         0        0     0     0                       0   \n",
       "\n",
       "         Wrangler  Vans  Fila  Brooks  ...  LG  Dior  Scabal  Tommy Hilfiger  \\\n",
       "Cust_ID                                ...                                     \n",
       "1               0     2     0       0  ...   0     0       0               0   \n",
       "2               0     0     0       0  ...   0     1       0               0   \n",
       "3               0     0     0       0  ...   0     0       0               0   \n",
       "4               0     0     0       0  ...   0     0       0               0   \n",
       "5               0     0     0       0  ...   0     0       2               0   \n",
       "\n",
       "         Hollister  Forever 21  Colavita  Microsoft  Jiffy mix  Kraft  \n",
       "Cust_ID                                                                \n",
       "1                0           0         0          0          0      0  \n",
       "2                0           0         0          0          0      0  \n",
       "3                0           0         0          1          0      0  \n",
       "4                0           0         0          0          0      0  \n",
       "5                0           0         0          0          1      1  \n",
       "\n",
       "[5 rows x 35 columns]"
      ]
     },
     "execution_count": 10,
     "metadata": {},
     "output_type": "execute_result"
    }
   ],
   "source": [
    "features = data.drop(['Orders','Gender_F','Gender_M'],axis =1)\n",
    "features.head()"
   ]
  },
  {
   "cell_type": "code",
   "execution_count": 11,
   "metadata": {
    "execution": {
     "iopub.execute_input": "2022-07-29T06:34:39.748896Z",
     "iopub.status.busy": "2022-07-29T06:34:39.748309Z",
     "iopub.status.idle": "2022-07-29T06:34:39.775250Z",
     "shell.execute_reply": "2022-07-29T06:34:39.774187Z",
     "shell.execute_reply.started": "2022-07-29T06:34:39.748861Z"
    }
   },
   "outputs": [],
   "source": [
    "scale = StandardScaler().fit(features)\n",
    "features = scale.transform(features)"
   ]
  },
  {
   "cell_type": "code",
   "execution_count": 12,
   "metadata": {
    "execution": {
     "iopub.execute_input": "2022-07-29T06:34:48.572154Z",
     "iopub.status.busy": "2022-07-29T06:34:48.571470Z",
     "iopub.status.idle": "2022-07-29T06:34:48.590600Z",
     "shell.execute_reply": "2022-07-29T06:34:48.589250Z",
     "shell.execute_reply.started": "2022-07-29T06:34:48.572102Z"
    }
   },
   "outputs": [
    {
     "name": "stdout",
     "output_type": "stream",
     "text": [
      "[[ 1.00003333e+00  1.77260139e-01  7.12601920e-02  1.23734867e-01\n",
      "   1.35677364e-01  2.19502813e-02  4.07117615e-02  1.15800284e-01\n",
      "   3.16123458e-02  1.65476944e-01  3.83036302e-02  4.38587508e-02\n",
      "   3.03703489e-02  8.79994034e-03  6.20521709e-02  9.81648406e-03\n",
      "  -1.10828287e-02  5.40266582e-02  8.14646723e-02  2.57089282e-02\n",
      "   5.14701974e-02  7.49512592e-03  1.96267046e-03  9.64948414e-02\n",
      "   2.29641841e-02  7.02076498e-02  6.11868539e-02  6.25840123e-02\n",
      "   6.37411253e-02  2.63505633e-02  2.47104251e-02  1.55649051e-02\n",
      "   1.58044265e-02  2.16519784e-02  1.89183500e-02]\n",
      " [ 1.77260139e-01  1.00003333e+00  6.38922742e-02  4.62168353e-02\n",
      "   5.81815129e-02  3.12734112e-02  8.81690529e-02  1.70625690e-01\n",
      "   2.63507872e-02  1.54349980e-01  6.67961911e-02  5.55337474e-02\n",
      "   2.91213150e-02  1.66800605e-02  6.27513501e-02  4.29131489e-02\n",
      "   6.29669945e-03  6.07767703e-02  8.75481216e-02  3.09571875e-02\n",
      "   4.22820102e-02  8.77296664e-03 -9.28981616e-03  1.02219459e-01\n",
      "   3.31038127e-02  6.64451421e-02  5.65730231e-02  4.59593739e-02\n",
      "   5.81918877e-02  5.03038068e-02  3.14958113e-02  1.82792740e-02\n",
      "   1.66257928e-02  3.86560296e-02  1.85531551e-02]\n",
      " [ 7.12601920e-02  6.38922742e-02  1.00003333e+00  1.22742492e-02\n",
      "   2.87857293e-02  3.58081655e-02  1.45658132e-02  2.91556007e-02\n",
      "   2.48475587e-02  8.93369065e-02  3.14452273e-02  1.40859964e-02\n",
      "   1.50953859e-02  1.19880292e-02  2.54223496e-02  4.54631913e-03\n",
      "  -1.17409588e-02  2.63654266e-02  4.87740083e-02  1.62121907e-03\n",
      "   2.48205437e-02  4.35847973e-03 -5.46672048e-03  4.78540104e-02\n",
      "   4.06001156e-03  5.85855954e-02  1.73694482e-02  4.65620671e-02\n",
      "   1.55026112e-02  2.15671147e-02  1.61705016e-02  5.58429400e-03\n",
      "   3.63999055e-03  9.30296781e-03  6.63328162e-03]\n",
      " [ 1.23734867e-01  4.62168353e-02  1.22742492e-02  1.00003333e+00\n",
      "   1.14591983e-01  1.81205122e-02  2.66686089e-02  4.69916922e-02\n",
      "  -4.76653684e-03  1.14388173e-01  2.53497152e-02  2.85897459e-02\n",
      "   6.57979796e-03  6.49996983e-03  3.02166298e-02  1.03388720e-02\n",
      "  -2.18427640e-04  2.30469561e-02  2.27163890e-02  1.78410469e-02\n",
      "   3.34690626e-02  5.89211097e-03 -7.44621448e-03  4.72774835e-02\n",
      "   1.69043917e-02  2.57227814e-02  2.89123469e-02  4.31696879e-02\n",
      "   3.91405858e-02  1.72833573e-02  1.41865255e-02  9.60555008e-03\n",
      "   1.97485945e-02  8.00091885e-03  7.52985441e-03]\n",
      " [ 1.35677364e-01  5.81815129e-02  2.87857293e-02  1.14591983e-01\n",
      "   1.00003333e+00  4.02523560e-02  2.31291624e-02  2.06963481e-02\n",
      "   2.17180653e-02  8.98533241e-02  3.71881524e-02  1.38063315e-02\n",
      "   1.17724020e-02  1.42935109e-02  2.21554253e-02 -8.44471725e-03\n",
      "  -1.42674359e-02  1.37082611e-02  2.04277211e-02  1.41180565e-02\n",
      "   2.43933314e-02  2.92196680e-03 -3.07582559e-03  4.09153640e-02\n",
      "   1.35164984e-02  3.04068974e-02  2.95680314e-02  6.80932162e-02\n",
      "   2.33678440e-02  3.24850844e-02  3.53611283e-02  4.36657263e-04\n",
      "   1.26795962e-02  4.80797125e-03  6.79493687e-03]]\n"
     ]
    }
   ],
   "source": [
    "cov_mat = np.cov(features.T)\n",
    "print(cov_mat[0:5])"
   ]
  },
  {
   "cell_type": "code",
   "execution_count": 13,
   "metadata": {
    "execution": {
     "iopub.execute_input": "2022-07-29T06:34:48.791152Z",
     "iopub.status.busy": "2022-07-29T06:34:48.790515Z",
     "iopub.status.idle": "2022-07-29T06:34:48.809896Z",
     "shell.execute_reply": "2022-07-29T06:34:48.808937Z",
     "shell.execute_reply.started": "2022-07-29T06:34:48.791107Z"
    }
   },
   "outputs": [],
   "source": [
    "eig_val, eig_vec = np.linalg.eig(cov_mat)"
   ]
  },
  {
   "cell_type": "code",
   "execution_count": 14,
   "metadata": {
    "execution": {
     "iopub.execute_input": "2022-07-29T06:34:52.450703Z",
     "iopub.status.busy": "2022-07-29T06:34:52.449788Z",
     "iopub.status.idle": "2022-07-29T06:34:52.456692Z",
     "shell.execute_reply": "2022-07-29T06:34:52.455519Z",
     "shell.execute_reply.started": "2022-07-29T06:34:52.450654Z"
    }
   },
   "outputs": [],
   "source": [
    "eig_val = list(eig_val)\n",
    "eig_val.sort(reverse = True)"
   ]
  },
  {
   "cell_type": "code",
   "execution_count": 15,
   "metadata": {
    "execution": {
     "iopub.execute_input": "2022-07-29T06:34:53.882916Z",
     "iopub.status.busy": "2022-07-29T06:34:53.882506Z",
     "iopub.status.idle": "2022-07-29T06:34:54.173849Z",
     "shell.execute_reply": "2022-07-29T06:34:54.172697Z",
     "shell.execute_reply.started": "2022-07-29T06:34:53.882882Z"
    }
   },
   "outputs": [
    {
     "data": {
      "image/png": "[encoded data removed]",
      "text/plain": [
       "<Figure size 432x288 with 1 Axes>"
      ]
     },
     "metadata": {
      "needs_background": "light"
     },
     "output_type": "display_data"
    }
   ],
   "source": [
    "plt.plot(eig_val,'bp')\n",
    "plt.plot(eig_val)\n",
    "plt.xlabel('Principal Components')\n",
    "plt.ylabel('Percent of explained variance')\n",
    "plt.annotate(text='Elbow Point',xy=(6,1.25), xytext = (8,1.5),\n",
    "            arrowprops = dict(facecolor = 'black',arrowstyle ='simple'))\n",
    "plt.title('Scree Plot')\n",
    "plt.show()"
   ]
  },
  {
   "cell_type": "code",
   "execution_count": 16,
   "metadata": {
    "execution": {
     "iopub.execute_input": "2022-07-29T06:34:58.921152Z",
     "iopub.status.busy": "2022-07-29T06:34:58.920378Z",
     "iopub.status.idle": "2022-07-29T06:34:59.145033Z",
     "shell.execute_reply": "2022-07-29T06:34:59.143625Z",
     "shell.execute_reply.started": "2022-07-29T06:34:58.921108Z"
    }
   },
   "outputs": [],
   "source": [
    "pca = PCA(n_components = 6,random_state = 10)\n",
    "PrincipalComponents = pca.fit_transform(features)"
   ]
  },
  {
   "cell_type": "code",
   "execution_count": 17,
   "metadata": {
    "execution": {
     "iopub.execute_input": "2022-07-29T06:34:59.679868Z",
     "iopub.status.busy": "2022-07-29T06:34:59.679484Z",
     "iopub.status.idle": "2022-07-29T06:34:59.695498Z",
     "shell.execute_reply": "2022-07-29T06:34:59.694531Z",
     "shell.execute_reply.started": "2022-07-29T06:34:59.679836Z"
    }
   },
   "outputs": [
    {
     "data": {
      "text/html": [
       "<div>\n",
       "<style scoped>\n",
       "    .dataframe tbody tr th:only-of-type {\n",
       "        vertical-align: middle;\n",
       "    }\n",
       "\n",
       "    .dataframe tbody tr th {\n",
       "        vertical-align: top;\n",
       "    }\n",
       "\n",
       "    .dataframe thead th {\n",
       "        text-align: right;\n",
       "    }\n",
       "</style>\n",
       "<table border=\"1\" class=\"dataframe\">\n",
       "  <thead>\n",
       "    <tr style=\"text-align: right;\">\n",
       "      <th></th>\n",
       "      <th>PC1</th>\n",
       "      <th>PC2</th>\n",
       "      <th>PC3</th>\n",
       "      <th>PC4</th>\n",
       "      <th>PC5</th>\n",
       "      <th>PC6</th>\n",
       "    </tr>\n",
       "  </thead>\n",
       "  <tbody>\n",
       "    <tr>\n",
       "      <th>0</th>\n",
       "      <td>-1.229345</td>\n",
       "      <td>-0.275825</td>\n",
       "      <td>0.466712</td>\n",
       "      <td>-1.163682</td>\n",
       "      <td>-0.557604</td>\n",
       "      <td>0.317790</td>\n",
       "    </tr>\n",
       "    <tr>\n",
       "      <th>1</th>\n",
       "      <td>3.404411</td>\n",
       "      <td>-0.117325</td>\n",
       "      <td>-0.540656</td>\n",
       "      <td>0.499568</td>\n",
       "      <td>0.271042</td>\n",
       "      <td>-2.904106</td>\n",
       "    </tr>\n",
       "    <tr>\n",
       "      <th>2</th>\n",
       "      <td>-0.603831</td>\n",
       "      <td>0.812501</td>\n",
       "      <td>-0.908479</td>\n",
       "      <td>-0.484949</td>\n",
       "      <td>0.160593</td>\n",
       "      <td>0.330314</td>\n",
       "    </tr>\n",
       "    <tr>\n",
       "      <th>3</th>\n",
       "      <td>-0.981607</td>\n",
       "      <td>-0.073506</td>\n",
       "      <td>-0.444429</td>\n",
       "      <td>0.055836</td>\n",
       "      <td>-0.317513</td>\n",
       "      <td>-0.288243</td>\n",
       "    </tr>\n",
       "    <tr>\n",
       "      <th>4</th>\n",
       "      <td>4.273760</td>\n",
       "      <td>1.369402</td>\n",
       "      <td>-2.913861</td>\n",
       "      <td>1.022187</td>\n",
       "      <td>-1.533410</td>\n",
       "      <td>1.045457</td>\n",
       "    </tr>\n",
       "  </tbody>\n",
       "</table>\n",
       "</div>"
      ],
      "text/plain": [
       "        PC1       PC2       PC3       PC4       PC5       PC6\n",
       "0 -1.229345 -0.275825  0.466712 -1.163682 -0.557604  0.317790\n",
       "1  3.404411 -0.117325 -0.540656  0.499568  0.271042 -2.904106\n",
       "2 -0.603831  0.812501 -0.908479 -0.484949  0.160593  0.330314\n",
       "3 -0.981607 -0.073506 -0.444429  0.055836 -0.317513 -0.288243\n",
       "4  4.273760  1.369402 -2.913861  1.022187 -1.533410  1.045457"
      ]
     },
     "execution_count": 17,
     "metadata": {},
     "output_type": "execute_result"
    }
   ],
   "source": [
    "df_pca = pd.DataFrame(data = PrincipalComponents ,\n",
    "                      columns = ['PC1','PC2','PC3','PC4','PC5','PC6'])\n",
    "#'PC3','PC4','PC5','PC6','PC7'\n",
    "df_pca.head()"
   ]
  },
  {
   "cell_type": "code",
   "execution_count": 18,
   "metadata": {
    "execution": {
     "iopub.execute_input": "2022-07-29T06:35:00.797110Z",
     "iopub.status.busy": "2022-07-29T06:35:00.796360Z",
     "iopub.status.idle": "2022-07-29T06:35:00.816955Z",
     "shell.execute_reply": "2022-07-29T06:35:00.815493Z",
     "shell.execute_reply.started": "2022-07-29T06:35:00.797061Z"
    }
   },
   "outputs": [
    {
     "data": {
      "text/html": [
       "<div>\n",
       "<style scoped>\n",
       "    .dataframe tbody tr th:only-of-type {\n",
       "        vertical-align: middle;\n",
       "    }\n",
       "\n",
       "    .dataframe tbody tr th {\n",
       "        vertical-align: top;\n",
       "    }\n",
       "\n",
       "    .dataframe thead th {\n",
       "        text-align: right;\n",
       "    }\n",
       "</style>\n",
       "<table border=\"1\" class=\"dataframe\">\n",
       "  <thead>\n",
       "    <tr style=\"text-align: right;\">\n",
       "      <th></th>\n",
       "      <th>Jordan</th>\n",
       "      <th>Gatorade</th>\n",
       "      <th>Samsung</th>\n",
       "      <th>Asus</th>\n",
       "      <th>Udis</th>\n",
       "      <th>Mondelez International</th>\n",
       "      <th>Wrangler</th>\n",
       "      <th>Vans</th>\n",
       "      <th>Fila</th>\n",
       "      <th>Brooks</th>\n",
       "      <th>...</th>\n",
       "      <th>LG</th>\n",
       "      <th>Dior</th>\n",
       "      <th>Scabal</th>\n",
       "      <th>Tommy Hilfiger</th>\n",
       "      <th>Hollister</th>\n",
       "      <th>Forever 21</th>\n",
       "      <th>Colavita</th>\n",
       "      <th>Microsoft</th>\n",
       "      <th>Jiffy mix</th>\n",
       "      <th>Kraft</th>\n",
       "    </tr>\n",
       "    <tr>\n",
       "      <th>Cust_ID</th>\n",
       "      <th></th>\n",
       "      <th></th>\n",
       "      <th></th>\n",
       "      <th></th>\n",
       "      <th></th>\n",
       "      <th></th>\n",
       "      <th></th>\n",
       "      <th></th>\n",
       "      <th></th>\n",
       "      <th></th>\n",
       "      <th></th>\n",
       "      <th></th>\n",
       "      <th></th>\n",
       "      <th></th>\n",
       "      <th></th>\n",
       "      <th></th>\n",
       "      <th></th>\n",
       "      <th></th>\n",
       "      <th></th>\n",
       "      <th></th>\n",
       "      <th></th>\n",
       "    </tr>\n",
       "  </thead>\n",
       "  <tbody>\n",
       "    <tr>\n",
       "      <th>1</th>\n",
       "      <td>0</td>\n",
       "      <td>0</td>\n",
       "      <td>0</td>\n",
       "      <td>0</td>\n",
       "      <td>0</td>\n",
       "      <td>0</td>\n",
       "      <td>0</td>\n",
       "      <td>2</td>\n",
       "      <td>0</td>\n",
       "      <td>0</td>\n",
       "      <td>...</td>\n",
       "      <td>0</td>\n",
       "      <td>0</td>\n",
       "      <td>0</td>\n",
       "      <td>0</td>\n",
       "      <td>0</td>\n",
       "      <td>0</td>\n",
       "      <td>0</td>\n",
       "      <td>0</td>\n",
       "      <td>0</td>\n",
       "      <td>0</td>\n",
       "    </tr>\n",
       "    <tr>\n",
       "      <th>2</th>\n",
       "      <td>0</td>\n",
       "      <td>1</td>\n",
       "      <td>0</td>\n",
       "      <td>0</td>\n",
       "      <td>0</td>\n",
       "      <td>0</td>\n",
       "      <td>0</td>\n",
       "      <td>0</td>\n",
       "      <td>0</td>\n",
       "      <td>0</td>\n",
       "      <td>...</td>\n",
       "      <td>0</td>\n",
       "      <td>1</td>\n",
       "      <td>0</td>\n",
       "      <td>0</td>\n",
       "      <td>0</td>\n",
       "      <td>0</td>\n",
       "      <td>0</td>\n",
       "      <td>0</td>\n",
       "      <td>0</td>\n",
       "      <td>0</td>\n",
       "    </tr>\n",
       "  </tbody>\n",
       "</table>\n",
       "<p>2 rows × 35 columns</p>\n",
       "</div>"
      ],
      "text/plain": [
       "         Jordan  Gatorade  Samsung  Asus  Udis  Mondelez International  \\\n",
       "Cust_ID                                                                  \n",
       "1             0         0        0     0     0                       0   \n",
       "2             0         1        0     0     0                       0   \n",
       "\n",
       "         Wrangler  Vans  Fila  Brooks  ...  LG  Dior  Scabal  Tommy Hilfiger  \\\n",
       "Cust_ID                                ...                                     \n",
       "1               0     2     0       0  ...   0     0       0               0   \n",
       "2               0     0     0       0  ...   0     1       0               0   \n",
       "\n",
       "         Hollister  Forever 21  Colavita  Microsoft  Jiffy mix  Kraft  \n",
       "Cust_ID                                                                \n",
       "1                0           0         0          0          0      0  \n",
       "2                0           0         0          0          0      0  \n",
       "\n",
       "[2 rows x 35 columns]"
      ]
     },
     "execution_count": 18,
     "metadata": {},
     "output_type": "execute_result"
    }
   ],
   "source": [
    "data.iloc[0:2,1:36]"
   ]
  },
  {
   "cell_type": "code",
   "execution_count": 19,
   "metadata": {
    "execution": {
     "iopub.execute_input": "2022-07-29T06:35:02.273141Z",
     "iopub.status.busy": "2022-07-29T06:35:02.272741Z",
     "iopub.status.idle": "2022-07-29T06:35:02.302512Z",
     "shell.execute_reply": "2022-07-29T06:35:02.301269Z",
     "shell.execute_reply.started": "2022-07-29T06:35:02.273108Z"
    }
   },
   "outputs": [
    {
     "data": {
      "text/html": [
       "<div>\n",
       "<style scoped>\n",
       "    .dataframe tbody tr th:only-of-type {\n",
       "        vertical-align: middle;\n",
       "    }\n",
       "\n",
       "    .dataframe tbody tr th {\n",
       "        vertical-align: top;\n",
       "    }\n",
       "\n",
       "    .dataframe thead th {\n",
       "        text-align: right;\n",
       "    }\n",
       "</style>\n",
       "<table border=\"1\" class=\"dataframe\">\n",
       "  <thead>\n",
       "    <tr style=\"text-align: right;\">\n",
       "      <th></th>\n",
       "      <th>Jordan</th>\n",
       "      <th>Gatorade</th>\n",
       "      <th>Samsung</th>\n",
       "      <th>Asus</th>\n",
       "      <th>Udis</th>\n",
       "      <th>Mondelez International</th>\n",
       "      <th>Wrangler</th>\n",
       "      <th>Vans</th>\n",
       "      <th>Fila</th>\n",
       "      <th>Brooks</th>\n",
       "      <th>...</th>\n",
       "      <th>LG</th>\n",
       "      <th>Dior</th>\n",
       "      <th>Scabal</th>\n",
       "      <th>Tommy Hilfiger</th>\n",
       "      <th>Hollister</th>\n",
       "      <th>Forever 21</th>\n",
       "      <th>Colavita</th>\n",
       "      <th>Microsoft</th>\n",
       "      <th>Jiffy mix</th>\n",
       "      <th>Kraft</th>\n",
       "    </tr>\n",
       "  </thead>\n",
       "  <tbody>\n",
       "    <tr>\n",
       "      <th>0</th>\n",
       "      <td>-0.332312</td>\n",
       "      <td>-0.357739</td>\n",
       "      <td>-0.242985</td>\n",
       "      <td>-0.21801</td>\n",
       "      <td>-0.223835</td>\n",
       "      <td>-0.265801</td>\n",
       "      <td>-0.20727</td>\n",
       "      <td>3.446412</td>\n",
       "      <td>-0.177332</td>\n",
       "      <td>-0.297352</td>\n",
       "      <td>...</td>\n",
       "      <td>-0.210814</td>\n",
       "      <td>-0.379382</td>\n",
       "      <td>-0.487923</td>\n",
       "      <td>-0.311382</td>\n",
       "      <td>-0.202593</td>\n",
       "      <td>-0.191062</td>\n",
       "      <td>-0.299706</td>\n",
       "      <td>-0.260578</td>\n",
       "      <td>-0.220486</td>\n",
       "      <td>-0.182775</td>\n",
       "    </tr>\n",
       "    <tr>\n",
       "      <th>1</th>\n",
       "      <td>-0.332312</td>\n",
       "      <td>1.059984</td>\n",
       "      <td>-0.242985</td>\n",
       "      <td>-0.21801</td>\n",
       "      <td>-0.223835</td>\n",
       "      <td>-0.265801</td>\n",
       "      <td>-0.20727</td>\n",
       "      <td>-0.203353</td>\n",
       "      <td>-0.177332</td>\n",
       "      <td>-0.297352</td>\n",
       "      <td>...</td>\n",
       "      <td>-0.210814</td>\n",
       "      <td>1.019864</td>\n",
       "      <td>-0.487923</td>\n",
       "      <td>-0.311382</td>\n",
       "      <td>-0.202593</td>\n",
       "      <td>-0.191062</td>\n",
       "      <td>-0.299706</td>\n",
       "      <td>-0.260578</td>\n",
       "      <td>-0.220486</td>\n",
       "      <td>-0.182775</td>\n",
       "    </tr>\n",
       "    <tr>\n",
       "      <th>2</th>\n",
       "      <td>-0.332312</td>\n",
       "      <td>1.059984</td>\n",
       "      <td>-0.242985</td>\n",
       "      <td>-0.21801</td>\n",
       "      <td>-0.223835</td>\n",
       "      <td>-0.265801</td>\n",
       "      <td>-0.20727</td>\n",
       "      <td>-0.203353</td>\n",
       "      <td>-0.177332</td>\n",
       "      <td>-0.297352</td>\n",
       "      <td>...</td>\n",
       "      <td>-0.210814</td>\n",
       "      <td>-0.379382</td>\n",
       "      <td>-0.487923</td>\n",
       "      <td>-0.311382</td>\n",
       "      <td>-0.202593</td>\n",
       "      <td>-0.191062</td>\n",
       "      <td>-0.299706</td>\n",
       "      <td>1.978708</td>\n",
       "      <td>-0.220486</td>\n",
       "      <td>-0.182775</td>\n",
       "    </tr>\n",
       "    <tr>\n",
       "      <th>3</th>\n",
       "      <td>-0.332312</td>\n",
       "      <td>-0.357739</td>\n",
       "      <td>-0.242985</td>\n",
       "      <td>-0.21801</td>\n",
       "      <td>-0.223835</td>\n",
       "      <td>-0.265801</td>\n",
       "      <td>-0.20727</td>\n",
       "      <td>-0.203353</td>\n",
       "      <td>-0.177332</td>\n",
       "      <td>-0.297352</td>\n",
       "      <td>...</td>\n",
       "      <td>-0.210814</td>\n",
       "      <td>-0.379382</td>\n",
       "      <td>-0.487923</td>\n",
       "      <td>-0.311382</td>\n",
       "      <td>-0.202593</td>\n",
       "      <td>-0.191062</td>\n",
       "      <td>-0.299706</td>\n",
       "      <td>-0.260578</td>\n",
       "      <td>-0.220486</td>\n",
       "      <td>-0.182775</td>\n",
       "    </tr>\n",
       "    <tr>\n",
       "      <th>4</th>\n",
       "      <td>-0.332312</td>\n",
       "      <td>-0.357739</td>\n",
       "      <td>-0.242985</td>\n",
       "      <td>-0.21801</td>\n",
       "      <td>-0.223835</td>\n",
       "      <td>-0.265801</td>\n",
       "      <td>-0.20727</td>\n",
       "      <td>-0.203353</td>\n",
       "      <td>-0.177332</td>\n",
       "      <td>-0.297352</td>\n",
       "      <td>...</td>\n",
       "      <td>-0.210814</td>\n",
       "      <td>-0.379382</td>\n",
       "      <td>2.149024</td>\n",
       "      <td>-0.311382</td>\n",
       "      <td>-0.202593</td>\n",
       "      <td>-0.191062</td>\n",
       "      <td>-0.299706</td>\n",
       "      <td>-0.260578</td>\n",
       "      <td>2.284083</td>\n",
       "      <td>2.395151</td>\n",
       "    </tr>\n",
       "  </tbody>\n",
       "</table>\n",
       "<p>5 rows × 35 columns</p>\n",
       "</div>"
      ],
      "text/plain": [
       "     Jordan  Gatorade   Samsung     Asus      Udis  Mondelez International  \\\n",
       "0 -0.332312 -0.357739 -0.242985 -0.21801 -0.223835               -0.265801   \n",
       "1 -0.332312  1.059984 -0.242985 -0.21801 -0.223835               -0.265801   \n",
       "2 -0.332312  1.059984 -0.242985 -0.21801 -0.223835               -0.265801   \n",
       "3 -0.332312 -0.357739 -0.242985 -0.21801 -0.223835               -0.265801   \n",
       "4 -0.332312 -0.357739 -0.242985 -0.21801 -0.223835               -0.265801   \n",
       "\n",
       "   Wrangler      Vans      Fila    Brooks  ...        LG      Dior    Scabal  \\\n",
       "0  -0.20727  3.446412 -0.177332 -0.297352  ... -0.210814 -0.379382 -0.487923   \n",
       "1  -0.20727 -0.203353 -0.177332 -0.297352  ... -0.210814  1.019864 -0.487923   \n",
       "2  -0.20727 -0.203353 -0.177332 -0.297352  ... -0.210814 -0.379382 -0.487923   \n",
       "3  -0.20727 -0.203353 -0.177332 -0.297352  ... -0.210814 -0.379382 -0.487923   \n",
       "4  -0.20727 -0.203353 -0.177332 -0.297352  ... -0.210814 -0.379382  2.149024   \n",
       "\n",
       "   Tommy Hilfiger  Hollister  Forever 21  Colavita  Microsoft  Jiffy mix  \\\n",
       "0       -0.311382  -0.202593   -0.191062 -0.299706  -0.260578  -0.220486   \n",
       "1       -0.311382  -0.202593   -0.191062 -0.299706  -0.260578  -0.220486   \n",
       "2       -0.311382  -0.202593   -0.191062 -0.299706   1.978708  -0.220486   \n",
       "3       -0.311382  -0.202593   -0.191062 -0.299706  -0.260578  -0.220486   \n",
       "4       -0.311382  -0.202593   -0.191062 -0.299706  -0.260578   2.284083   \n",
       "\n",
       "      Kraft  \n",
       "0 -0.182775  \n",
       "1 -0.182775  \n",
       "2 -0.182775  \n",
       "3 -0.182775  \n",
       "4  2.395151  \n",
       "\n",
       "[5 rows x 35 columns]"
      ]
     },
     "execution_count": 19,
     "metadata": {},
     "output_type": "execute_result"
    }
   ],
   "source": [
    "features_scaled = pd.DataFrame(features,columns = data.columns[1:36])\n",
    "features_scaled.head()"
   ]
  },
  {
   "cell_type": "code",
   "execution_count": 20,
   "metadata": {
    "execution": {
     "iopub.execute_input": "2022-07-29T06:35:03.486380Z",
     "iopub.status.busy": "2022-07-29T06:35:03.485154Z",
     "iopub.status.idle": "2022-07-29T06:36:09.705388Z",
     "shell.execute_reply": "2022-07-29T06:36:09.704039Z",
     "shell.execute_reply.started": "2022-07-29T06:35:03.486318Z"
    }
   },
   "outputs": [
    {
     "name": "stdout",
     "output_type": "stream",
     "text": [
      "For n_clusters = 4,silhouette score is 0.2888293666050933\n",
      "For n_clusters = 5,silhouette score is 0.2734507732644213\n",
      "For n_clusters = 6,silhouette score is 0.21945733520582594\n",
      "For n_clusters = 7,silhouette score is 0.20381188273491252\n",
      "For n_clusters = 8,silhouette score is 0.1996901159338261\n"
     ]
    }
   ],
   "source": [
    "n_clusters = [4,5,6,7,8]\n",
    "for K in n_clusters:\n",
    "    cluster = KMeans(n_clusters = K,random_state = 10)\n",
    "    predict = cluster.fit_predict(features_scaled)\n",
    "    score = silhouette_score(features_scaled,predict,random_state = 10)\n",
    "    print('For n_clusters = {},silhouette score is {}'.format(K,score))"
   ]
  },
  {
   "cell_type": "code",
   "execution_count": 21,
   "metadata": {
    "execution": {
     "iopub.execute_input": "2022-07-29T06:36:09.707488Z",
     "iopub.status.busy": "2022-07-29T06:36:09.707118Z",
     "iopub.status.idle": "2022-07-29T06:36:21.389328Z",
     "shell.execute_reply": "2022-07-29T06:36:21.388003Z",
     "shell.execute_reply.started": "2022-07-29T06:36:09.707453Z"
    }
   },
   "outputs": [
    {
     "data": {
      "text/plain": [
       "Text(0, 0.5, 'WCSS')"
      ]
     },
     "execution_count": 21,
     "metadata": {},
     "output_type": "execute_result"
    },
    {
     "data": {
      "image/png": "[encoded data removed]",
      "text/plain": [
       "<Figure size 432x288 with 1 Axes>"
      ]
     },
     "metadata": {
      "needs_background": "light"
     },
     "output_type": "display_data"
    }
   ],
   "source": [
    "wcss=[]\n",
    "for i in range(1,7):\n",
    "    kmeans = KMeans(i)\n",
    "    kmeans.fit(features_scaled)\n",
    "    wcss.append(kmeans.inertia_)\n",
    "\n",
    "number_clusters = range(1,7)\n",
    "plt.plot(number_clusters,wcss)\n",
    "plt.title('The Elbow title')\n",
    "plt.xlabel('Number of clusters')\n",
    "plt.ylabel('WCSS')"
   ]
  },
  {
   "cell_type": "code",
   "execution_count": 22,
   "metadata": {
    "execution": {
     "iopub.execute_input": "2022-07-29T06:36:21.392221Z",
     "iopub.status.busy": "2022-07-29T06:36:21.391091Z",
     "iopub.status.idle": "2022-07-29T06:36:23.608190Z",
     "shell.execute_reply": "2022-07-29T06:36:23.606956Z",
     "shell.execute_reply.started": "2022-07-29T06:36:21.392164Z"
    }
   },
   "outputs": [
    {
     "data": {
      "text/plain": [
       "KMeans(n_clusters=4, random_state=10)"
      ]
     },
     "execution_count": 22,
     "metadata": {},
     "output_type": "execute_result"
    }
   ],
   "source": [
    "model = KMeans(n_clusters = 4,random_state = 10)\n",
    "model.fit(features_scaled)"
   ]
  },
  {
   "cell_type": "code",
   "execution_count": 23,
   "metadata": {
    "execution": {
     "iopub.execute_input": "2022-07-29T06:36:23.611520Z",
     "iopub.status.busy": "2022-07-29T06:36:23.610897Z",
     "iopub.status.idle": "2022-07-29T06:36:23.637779Z",
     "shell.execute_reply": "2022-07-29T06:36:23.636657Z",
     "shell.execute_reply.started": "2022-07-29T06:36:23.611481Z"
    }
   },
   "outputs": [
    {
     "data": {
      "text/html": [
       "<div>\n",
       "<style scoped>\n",
       "    .dataframe tbody tr th:only-of-type {\n",
       "        vertical-align: middle;\n",
       "    }\n",
       "\n",
       "    .dataframe tbody tr th {\n",
       "        vertical-align: top;\n",
       "    }\n",
       "\n",
       "    .dataframe thead th {\n",
       "        text-align: right;\n",
       "    }\n",
       "</style>\n",
       "<table border=\"1\" class=\"dataframe\">\n",
       "  <thead>\n",
       "    <tr style=\"text-align: right;\">\n",
       "      <th></th>\n",
       "      <th>Orders</th>\n",
       "      <th>Jordan</th>\n",
       "      <th>Gatorade</th>\n",
       "      <th>Samsung</th>\n",
       "      <th>Asus</th>\n",
       "      <th>Udis</th>\n",
       "      <th>Mondelez International</th>\n",
       "      <th>Wrangler</th>\n",
       "      <th>Vans</th>\n",
       "      <th>Fila</th>\n",
       "      <th>...</th>\n",
       "      <th>Tommy Hilfiger</th>\n",
       "      <th>Hollister</th>\n",
       "      <th>Forever 21</th>\n",
       "      <th>Colavita</th>\n",
       "      <th>Microsoft</th>\n",
       "      <th>Jiffy mix</th>\n",
       "      <th>Kraft</th>\n",
       "      <th>Gender_F</th>\n",
       "      <th>Gender_M</th>\n",
       "      <th>Cluster</th>\n",
       "    </tr>\n",
       "    <tr>\n",
       "      <th>Cust_ID</th>\n",
       "      <th></th>\n",
       "      <th></th>\n",
       "      <th></th>\n",
       "      <th></th>\n",
       "      <th></th>\n",
       "      <th></th>\n",
       "      <th></th>\n",
       "      <th></th>\n",
       "      <th></th>\n",
       "      <th></th>\n",
       "      <th></th>\n",
       "      <th></th>\n",
       "      <th></th>\n",
       "      <th></th>\n",
       "      <th></th>\n",
       "      <th></th>\n",
       "      <th></th>\n",
       "      <th></th>\n",
       "      <th></th>\n",
       "      <th></th>\n",
       "      <th></th>\n",
       "    </tr>\n",
       "  </thead>\n",
       "  <tbody>\n",
       "    <tr>\n",
       "      <th>24407</th>\n",
       "      <td>1</td>\n",
       "      <td>0</td>\n",
       "      <td>0</td>\n",
       "      <td>0</td>\n",
       "      <td>0</td>\n",
       "      <td>0</td>\n",
       "      <td>0</td>\n",
       "      <td>0</td>\n",
       "      <td>0</td>\n",
       "      <td>0</td>\n",
       "      <td>...</td>\n",
       "      <td>0</td>\n",
       "      <td>0</td>\n",
       "      <td>0</td>\n",
       "      <td>0</td>\n",
       "      <td>0</td>\n",
       "      <td>0</td>\n",
       "      <td>0</td>\n",
       "      <td>1</td>\n",
       "      <td>0</td>\n",
       "      <td>1</td>\n",
       "    </tr>\n",
       "  </tbody>\n",
       "</table>\n",
       "<p>1 rows × 39 columns</p>\n",
       "</div>"
      ],
      "text/plain": [
       "         Orders  Jordan  Gatorade  Samsung  Asus  Udis  \\\n",
       "Cust_ID                                                  \n",
       "24407         1       0         0        0     0     0   \n",
       "\n",
       "         Mondelez International  Wrangler  Vans  Fila  ...  Tommy Hilfiger  \\\n",
       "Cust_ID                                                ...                   \n",
       "24407                         0         0     0     0  ...               0   \n",
       "\n",
       "         Hollister  Forever 21  Colavita  Microsoft  Jiffy mix  Kraft  \\\n",
       "Cust_ID                                                                 \n",
       "24407            0           0         0          0          0      0   \n",
       "\n",
       "         Gender_F  Gender_M  Cluster  \n",
       "Cust_ID                               \n",
       "24407           1         0        1  \n",
       "\n",
       "[1 rows x 39 columns]"
      ]
     },
     "execution_count": 23,
     "metadata": {},
     "output_type": "execute_result"
    }
   ],
   "source": [
    "data_output = data.copy(deep = True)\n",
    "data_output['Cluster'] = model.labels_\n",
    "data_output.sample()"
   ]
  },
  {
   "cell_type": "code",
   "execution_count": 24,
   "metadata": {
    "execution": {
     "iopub.execute_input": "2022-07-29T06:36:23.639794Z",
     "iopub.status.busy": "2022-07-29T06:36:23.639241Z",
     "iopub.status.idle": "2022-07-29T06:36:23.648177Z",
     "shell.execute_reply": "2022-07-29T06:36:23.646982Z",
     "shell.execute_reply.started": "2022-07-29T06:36:23.639762Z"
    }
   },
   "outputs": [
    {
     "data": {
      "text/plain": [
       "1    22772\n",
       "2     5272\n",
       "0     1255\n",
       "3      701\n",
       "Name: Cluster, dtype: int64"
      ]
     },
     "execution_count": 24,
     "metadata": {},
     "output_type": "execute_result"
    }
   ],
   "source": [
    "data_output.Cluster.value_counts()"
   ]
  },
  {
   "cell_type": "code",
   "execution_count": 25,
   "metadata": {
    "execution": {
     "iopub.execute_input": "2022-07-29T06:36:23.649910Z",
     "iopub.status.busy": "2022-07-29T06:36:23.649516Z",
     "iopub.status.idle": "2022-07-29T06:36:23.661527Z",
     "shell.execute_reply": "2022-07-29T06:36:23.660332Z",
     "shell.execute_reply.started": "2022-07-29T06:36:23.649879Z"
    }
   },
   "outputs": [
    {
     "data": {
      "text/plain": [
       "(array([0, 1, 2, 3], dtype=int32), array([ 1255, 22772,  5272,   701]))"
      ]
     },
     "execution_count": 25,
     "metadata": {},
     "output_type": "execute_result"
    }
   ],
   "source": [
    "np.unique(model.labels_,return_counts = True)"
   ]
  },
  {
   "cell_type": "code",
   "execution_count": 26,
   "metadata": {
    "execution": {
     "iopub.execute_input": "2022-07-29T06:36:23.663307Z",
     "iopub.status.busy": "2022-07-29T06:36:23.662967Z",
     "iopub.status.idle": "2022-07-29T06:36:23.826995Z",
     "shell.execute_reply": "2022-07-29T06:36:23.826024Z",
     "shell.execute_reply.started": "2022-07-29T06:36:23.663263Z"
    }
   },
   "outputs": [
    {
     "data": {
      "image/png": "[encoded data removed]",
      "text/plain": [
       "<Figure size 432x288 with 1 Axes>"
      ]
     },
     "metadata": {
      "needs_background": "light"
     },
     "output_type": "display_data"
    }
   ],
   "source": [
    "g= sns.countplot(data = data_output,x = 'Cluster',palette = 'rainbow')\n",
    "plt.title('Cluster Size')\n",
    "plt.xlabel('Clusters')\n",
    "plt.ylabel('No of customers')\n",
    "for p in g.patches:\n",
    "    value = '{}'.format(p.get_height())\n",
    "    x = p.get_x() + 0.4\n",
    "    y = p.get_height()+ 150\n",
    "    g.annotate(value, (x, y),ha='center')"
   ]
  },
  {
   "cell_type": "code",
   "execution_count": 27,
   "metadata": {
    "execution": {
     "iopub.execute_input": "2022-07-29T06:36:23.829956Z",
     "iopub.status.busy": "2022-07-29T06:36:23.829508Z",
     "iopub.status.idle": "2022-07-29T06:36:23.835630Z",
     "shell.execute_reply": "2022-07-29T06:36:23.834605Z",
     "shell.execute_reply.started": "2022-07-29T06:36:23.829908Z"
    }
   },
   "outputs": [],
   "source": [
    "centers = pd.DataFrame(model.cluster_centers_,columns = data_output.columns[1:36])"
   ]
  },
  {
   "cell_type": "code",
   "execution_count": 28,
   "metadata": {
    "execution": {
     "iopub.execute_input": "2022-07-29T06:36:23.837623Z",
     "iopub.status.busy": "2022-07-29T06:36:23.836763Z",
     "iopub.status.idle": "2022-07-29T06:36:23.864238Z",
     "shell.execute_reply": "2022-07-29T06:36:23.862089Z",
     "shell.execute_reply.started": "2022-07-29T06:36:23.837582Z"
    }
   },
   "outputs": [
    {
     "data": {
      "text/html": [
       "<div>\n",
       "<style scoped>\n",
       "    .dataframe tbody tr th:only-of-type {\n",
       "        vertical-align: middle;\n",
       "    }\n",
       "\n",
       "    .dataframe tbody tr th {\n",
       "        vertical-align: top;\n",
       "    }\n",
       "\n",
       "    .dataframe thead th {\n",
       "        text-align: right;\n",
       "    }\n",
       "</style>\n",
       "<table border=\"1\" class=\"dataframe\">\n",
       "  <thead>\n",
       "    <tr style=\"text-align: right;\">\n",
       "      <th></th>\n",
       "      <th>Jordan</th>\n",
       "      <th>Gatorade</th>\n",
       "      <th>Samsung</th>\n",
       "      <th>Asus</th>\n",
       "      <th>Udis</th>\n",
       "      <th>Mondelez International</th>\n",
       "      <th>Wrangler</th>\n",
       "      <th>Vans</th>\n",
       "      <th>Fila</th>\n",
       "      <th>Brooks</th>\n",
       "      <th>...</th>\n",
       "      <th>LG</th>\n",
       "      <th>Dior</th>\n",
       "      <th>Scabal</th>\n",
       "      <th>Tommy Hilfiger</th>\n",
       "      <th>Hollister</th>\n",
       "      <th>Forever 21</th>\n",
       "      <th>Colavita</th>\n",
       "      <th>Microsoft</th>\n",
       "      <th>Jiffy mix</th>\n",
       "      <th>Kraft</th>\n",
       "    </tr>\n",
       "  </thead>\n",
       "  <tbody>\n",
       "    <tr>\n",
       "      <th>0</th>\n",
       "      <td>0.446911</td>\n",
       "      <td>0.464653</td>\n",
       "      <td>0.233811</td>\n",
       "      <td>0.158847</td>\n",
       "      <td>0.102969</td>\n",
       "      <td>0.25396</td>\n",
       "      <td>0.317851</td>\n",
       "      <td>0.385554</td>\n",
       "      <td>0.095476</td>\n",
       "      <td>0.808415</td>\n",
       "      <td>...</td>\n",
       "      <td>1.396351</td>\n",
       "      <td>0.631866</td>\n",
       "      <td>0.290554</td>\n",
       "      <td>1.13703</td>\n",
       "      <td>0.335733</td>\n",
       "      <td>0.417016</td>\n",
       "      <td>1.391345</td>\n",
       "      <td>0.806428</td>\n",
       "      <td>1.57562</td>\n",
       "      <td>1.922702</td>\n",
       "    </tr>\n",
       "  </tbody>\n",
       "</table>\n",
       "<p>1 rows × 35 columns</p>\n",
       "</div>"
      ],
      "text/plain": [
       "     Jordan  Gatorade   Samsung      Asus      Udis  Mondelez International  \\\n",
       "0  0.446911  0.464653  0.233811  0.158847  0.102969                 0.25396   \n",
       "\n",
       "   Wrangler      Vans      Fila    Brooks  ...        LG      Dior    Scabal  \\\n",
       "0  0.317851  0.385554  0.095476  0.808415  ...  1.396351  0.631866  0.290554   \n",
       "\n",
       "   Tommy Hilfiger  Hollister  Forever 21  Colavita  Microsoft  Jiffy mix  \\\n",
       "0         1.13703   0.335733    0.417016  1.391345   0.806428    1.57562   \n",
       "\n",
       "      Kraft  \n",
       "0  1.922702  \n",
       "\n",
       "[1 rows x 35 columns]"
      ]
     },
     "execution_count": 28,
     "metadata": {},
     "output_type": "execute_result"
    }
   ],
   "source": [
    "centers.sample()"
   ]
  },
  {
   "cell_type": "code",
   "execution_count": 54,
   "metadata": {
    "execution": {
     "iopub.execute_input": "2022-07-29T07:04:14.709075Z",
     "iopub.status.busy": "2022-07-29T07:04:14.708662Z",
     "iopub.status.idle": "2022-07-29T07:04:14.717116Z",
     "shell.execute_reply": "2022-07-29T07:04:14.715719Z",
     "shell.execute_reply.started": "2022-07-29T07:04:14.709042Z"
    }
   },
   "outputs": [],
   "source": [
    "cluster_1 = sorted(zip(list(centers.iloc[0,:]),list(centers.columns)),reverse = True)[:10]"
   ]
  },
  {
   "cell_type": "code",
   "execution_count": 55,
   "metadata": {
    "execution": {
     "iopub.execute_input": "2022-07-29T07:04:19.670946Z",
     "iopub.status.busy": "2022-07-29T07:04:19.670228Z",
     "iopub.status.idle": "2022-07-29T07:04:19.679472Z",
     "shell.execute_reply": "2022-07-29T07:04:19.678217Z",
     "shell.execute_reply.started": "2022-07-29T07:04:19.670908Z"
    }
   },
   "outputs": [
    {
     "data": {
      "text/plain": [
       "[(2.5683633928700105, 'Pladis'),\n",
       " (2.5566711435400604, 'Burberry'),\n",
       " (1.9227024096897447, 'Kraft'),\n",
       " (1.9073294208644709, 'Dairy Queen'),\n",
       " (1.5756195455231812, 'Jiffy mix'),\n",
       " (1.3963507697171846, 'LG'),\n",
       " (1.391344511250392, 'Colavita'),\n",
       " (1.386412121421779, 'Pop Chips'),\n",
       " (1.2075350473368507, 'J.M. Smucker'),\n",
       " (1.1370303957637187, 'Tommy Hilfiger')]"
      ]
     },
     "execution_count": 55,
     "metadata": {},
     "output_type": "execute_result"
    }
   ],
   "source": [
    "cluster_1"
   ]
  },
  {
   "cell_type": "code",
   "execution_count": 56,
   "metadata": {
    "execution": {
     "iopub.execute_input": "2022-07-29T07:04:24.855699Z",
     "iopub.status.busy": "2022-07-29T07:04:24.855305Z",
     "iopub.status.idle": "2022-07-29T07:04:25.150579Z",
     "shell.execute_reply": "2022-07-29T07:04:25.148965Z",
     "shell.execute_reply.started": "2022-07-29T07:04:24.855665Z"
    }
   },
   "outputs": [
    {
     "ename": "AttributeError",
     "evalue": "'Sequential' object has no attribute 'labels_'",
     "output_type": "error",
     "traceback": [
      "\u001b[0;31m---------------------------------------------------------------------------\u001b[0m",
      "\u001b[0;31mAttributeError\u001b[0m                            Traceback (most recent call last)",
      "\u001b[0;32m/tmp/ipykernel_33/1566632185.py\u001b[0m in \u001b[0;36m<module>\u001b[0;34m\u001b[0m\n\u001b[0;32m----> 1\u001b[0;31m \u001b[0mnp\u001b[0m\u001b[0;34m.\u001b[0m\u001b[0munique\u001b[0m\u001b[0;34m(\u001b[0m\u001b[0mmodel\u001b[0m\u001b[0;34m.\u001b[0m\u001b[0mlabels_\u001b[0m\u001b[0;34m,\u001b[0m\u001b[0mreturn_counts\u001b[0m \u001b[0;34m=\u001b[0m \u001b[0;32mTrue\u001b[0m\u001b[0;34m)\u001b[0m\u001b[0;34m[\u001b[0m\u001b[0;36m1\u001b[0m\u001b[0;34m]\u001b[0m\u001b[0;34m[\u001b[0m\u001b[0;36m0\u001b[0m\u001b[0;34m]\u001b[0m\u001b[0;34m\u001b[0m\u001b[0;34m\u001b[0m\u001b[0m\n\u001b[0m",
      "\u001b[0;31mAttributeError\u001b[0m: 'Sequential' object has no attribute 'labels_'"
     ]
    }
   ],
   "source": [
    "np.unique(model.labels_,return_counts = True)[1][0]"
   ]
  },
  {
   "cell_type": "code",
   "execution_count": 57,
   "metadata": {
    "execution": {
     "iopub.execute_input": "2022-07-29T07:04:33.338085Z",
     "iopub.status.busy": "2022-07-29T07:04:33.337345Z",
     "iopub.status.idle": "2022-07-29T07:04:33.348924Z",
     "shell.execute_reply": "2022-07-29T07:04:33.347866Z",
     "shell.execute_reply.started": "2022-07-29T07:04:33.338024Z"
    }
   },
   "outputs": [
    {
     "data": {
      "text/plain": [
       "0            Pladis\n",
       "1          Burberry\n",
       "2             Kraft\n",
       "3       Dairy Queen\n",
       "4         Jiffy mix\n",
       "5                LG\n",
       "6          Colavita\n",
       "7         Pop Chips\n",
       "8      J.M. Smucker\n",
       "9    Tommy Hilfiger\n",
       "Name: 1, dtype: object"
      ]
     },
     "execution_count": 57,
     "metadata": {},
     "output_type": "execute_result"
    }
   ],
   "source": [
    "cluster1_var = pd.DataFrame(cluster_1)[1]\n",
    "cluster1_var "
   ]
  },
  {
   "cell_type": "code",
   "execution_count": null,
   "metadata": {
    "execution": {
     "iopub.execute_input": "2022-07-28T20:22:32.961431Z",
     "iopub.status.busy": "2022-07-28T20:22:32.960967Z",
     "iopub.status.idle": "2022-07-28T20:22:32.995948Z",
     "shell.execute_reply": "2022-07-28T20:22:32.994631Z",
     "shell.execute_reply.started": "2022-07-28T20:22:32.961394Z"
    }
   },
   "outputs": [],
   "source": [
    "data_output[['Orders','Gender_F','Gender_M','Cluster']][data_output.Cluster == 0].describe()"
   ]
  },
  {
   "cell_type": "code",
   "execution_count": 58,
   "metadata": {
    "execution": {
     "iopub.execute_input": "2022-07-29T07:04:54.876262Z",
     "iopub.status.busy": "2022-07-29T07:04:54.875125Z",
     "iopub.status.idle": "2022-07-29T07:04:54.882155Z",
     "shell.execute_reply": "2022-07-29T07:04:54.881023Z",
     "shell.execute_reply.started": "2022-07-29T07:04:54.876214Z"
    }
   },
   "outputs": [],
   "source": [
    "cluster_2 = sorted(zip(list(centers.iloc[1,:]), list(centers.columns)), reverse = True)[:10]"
   ]
  },
  {
   "cell_type": "code",
   "execution_count": 59,
   "metadata": {
    "execution": {
     "iopub.execute_input": "2022-07-29T07:05:02.019015Z",
     "iopub.status.busy": "2022-07-29T07:05:02.018257Z",
     "iopub.status.idle": "2022-07-29T07:05:02.027075Z",
     "shell.execute_reply": "2022-07-29T07:05:02.026083Z",
     "shell.execute_reply.started": "2022-07-29T07:05:02.018961Z"
    }
   },
   "outputs": [
    {
     "data": {
      "text/plain": [
       "[(-0.017300283220996953, 'IBM'),\n",
       " (-0.039016453563065864, 'Fila'),\n",
       " (-0.055304851992885415, 'Hewlett Packard'),\n",
       " (-0.05631154842238571, 'Compaq'),\n",
       " (-0.06899225921253152, 'Fendi'),\n",
       " (-0.06899895112800276, 'Microsoft'),\n",
       " (-0.07649272672740089, 'Colavita'),\n",
       " (-0.07678611218727988, 'Vans'),\n",
       " (-0.0793211322486073, 'Jiffy mix'),\n",
       " (-0.08274042329422368, 'Kraft')]"
      ]
     },
     "execution_count": 59,
     "metadata": {},
     "output_type": "execute_result"
    }
   ],
   "source": [
    "cluster_2"
   ]
  },
  {
   "cell_type": "code",
   "execution_count": null,
   "metadata": {
    "execution": {
     "iopub.execute_input": "2022-07-28T20:22:34.741939Z",
     "iopub.status.busy": "2022-07-28T20:22:34.740700Z",
     "iopub.status.idle": "2022-07-28T20:22:34.775003Z",
     "shell.execute_reply": "2022-07-28T20:22:34.773886Z",
     "shell.execute_reply.started": "2022-07-28T20:22:34.741893Z"
    }
   },
   "outputs": [],
   "source": [
    "cluster_2 = sorted(zip(list(centers.iloc[1,:]), list(centers.columns)), reverse = True)[:10]\n",
    "np.unique(model.labels_, return_counts=True)[1][1]\n",
    "cluster2_var = pd.DataFrame(cluster_2)[1]\n",
    "cluster2_var\n",
    "data_output[['Orders', 'Gender_F', 'Gender_M', 'Cluster']][data_output.Cluster == 1].describe()"
   ]
  }
 ],
 "metadata": {
  "kernelspec": {
   "display_name": "Python 3 (ipykernel)",
   "language": "python",
   "name": "python3"
  },
  "language_info": {
   "codemirror_mode": {
    "name": "ipython",
    "version": 3
   },
   "file_extension": ".py",
   "mimetype": "text/x-python",
   "name": "python",
   "nbconvert_exporter": "python",
   "pygments_lexer": "ipython3",
   "version": "3.9.12"
  }
 },
 "nbformat": 4,
 "nbformat_minor": 4
}
